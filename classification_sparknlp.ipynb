{
  "nbformat": 4,
  "nbformat_minor": 0,
  "metadata": {
    "colab": {
      "name": "Untitled12.ipynb",
      "provenance": [],
      "collapsed_sections": []
    },
    "kernelspec": {
      "name": "python3",
      "display_name": "Python 3"
    },
    "language_info": {
      "name": "python"
    }
  },
  "cells": [
    {
      "cell_type": "code",
      "metadata": {
        "id": "cX1A0xmgLuaG"
      },
      "source": [
        "import os\n",
        "import numpy as np\n",
        "import pandas as pd"
      ],
      "execution_count": 17,
      "outputs": []
    },
    {
      "cell_type": "code",
      "metadata": {
        "id": "rTXH4HWJPCna"
      },
      "source": [
        "excel_data_filename = r'Basis State Industry List 071621.xlsx'\n",
        "excel_industries_filename = r'Basis State Industries 210701.xlsx'\n",
        "excel_industries_range = r'B6:B105'"
      ],
      "execution_count": 18,
      "outputs": []
    },
    {
      "cell_type": "code",
      "metadata": {
        "colab": {
          "base_uri": "https://localhost:8080/",
          "height": 810
        },
        "id": "3vPeI4GfPKep",
        "outputId": "666d86e2-4491-4a52-eae1-518f0bdcc472"
      },
      "source": [
        "\n",
        " \n",
        "training_df = pd.read_excel(open('Basis State Industry List 071621.xlsx', 'rb'),\n",
        "              sheet_name='Training List')\n",
        "training_df"
      ],
      "execution_count": 19,
      "outputs": [
        {
          "output_type": "execute_result",
          "data": {
            "text/html": [
              "<div>\n",
              "<style scoped>\n",
              "    .dataframe tbody tr th:only-of-type {\n",
              "        vertical-align: middle;\n",
              "    }\n",
              "\n",
              "    .dataframe tbody tr th {\n",
              "        vertical-align: top;\n",
              "    }\n",
              "\n",
              "    .dataframe thead th {\n",
              "        text-align: right;\n",
              "    }\n",
              "</style>\n",
              "<table border=\"1\" class=\"dataframe\">\n",
              "  <thead>\n",
              "    <tr style=\"text-align: right;\">\n",
              "      <th></th>\n",
              "      <th>Organization - ID</th>\n",
              "      <th>Organization - Name</th>\n",
              "      <th>Organization - Website</th>\n",
              "      <th>Organization - CB Description</th>\n",
              "      <th>Organization - Company Type</th>\n",
              "      <th>Organization - CB Industries</th>\n",
              "      <th>Organization - Employee Range</th>\n",
              "      <th>Organization - New Industry</th>\n",
              "      <th>Keyword</th>\n",
              "      <th>MetaKeyword</th>\n",
              "      <th>MetaDescription</th>\n",
              "    </tr>\n",
              "  </thead>\n",
              "  <tbody>\n",
              "    <tr>\n",
              "      <th>0</th>\n",
              "      <td>440</td>\n",
              "      <td>Aston Martin Lagonda</td>\n",
              "      <td>https://www.astonmartin.comen-us/</td>\n",
              "      <td>Aston Martin Lagonda Global Holdings manufactu...</td>\n",
              "      <td>Acquirer</td>\n",
              "      <td>Automotive, Leisure, Manufacturing, Product De...</td>\n",
              "      <td>1001-5000</td>\n",
              "      <td>Automotive - Car Manufacturing</td>\n",
              "      <td>NaN</td>\n",
              "      <td>NaN</td>\n",
              "      <td>NaN</td>\n",
              "    </tr>\n",
              "    <tr>\n",
              "      <th>1</th>\n",
              "      <td>898</td>\n",
              "      <td>Fiat Chrysler Auto</td>\n",
              "      <td>https://www.fcagroup.comen-US/Pages/home.aspx</td>\n",
              "      <td>Fiat Chrysler Automobiles designs, engineers, ...</td>\n",
              "      <td>Acquirer</td>\n",
              "      <td>Automotive, Industrial Manufacturing, Manufact...</td>\n",
              "      <td>10001+</td>\n",
              "      <td>Automotive - Car Manufacturing</td>\n",
              "      <td>NaN</td>\n",
              "      <td>NaN</td>\n",
              "      <td>NaN</td>\n",
              "    </tr>\n",
              "    <tr>\n",
              "      <th>2</th>\n",
              "      <td>930</td>\n",
              "      <td>Ford Motor Company</td>\n",
              "      <td>https://www.ford.com</td>\n",
              "      <td>Ford Motor Company, an automotive company, dev...</td>\n",
              "      <td>Acquirer</td>\n",
              "      <td>Apps, Automotive, Manufacturing, Transportation</td>\n",
              "      <td>10001+</td>\n",
              "      <td>Automotive - Car Manufacturing</td>\n",
              "      <td>access</td>\n",
              "      <td>NaN</td>\n",
              "      <td>NaN</td>\n",
              "    </tr>\n",
              "    <tr>\n",
              "      <th>3</th>\n",
              "      <td>965</td>\n",
              "      <td>General Motors Company</td>\n",
              "      <td>https://www.gm.com</td>\n",
              "      <td>General Motors is a Detroit-based mutinational...</td>\n",
              "      <td>Acquirer</td>\n",
              "      <td>Automotive, Enterprise Software, Manufacturing...</td>\n",
              "      <td>10001+</td>\n",
              "      <td>Automotive - Car Manufacturing</td>\n",
              "      <td>access</td>\n",
              "      <td>NaN</td>\n",
              "      <td>NaN</td>\n",
              "    </tr>\n",
              "    <tr>\n",
              "      <th>4</th>\n",
              "      <td>296</td>\n",
              "      <td>AARP</td>\n",
              "      <td>http://www.aarp.org</td>\n",
              "      <td>NaN</td>\n",
              "      <td>Acquirer</td>\n",
              "      <td>NaN</td>\n",
              "      <td>NaN</td>\n",
              "      <td>Civic, Non-Profit and Membership Groups</td>\n",
              "      <td>benefits, website, leaving, provider, cancel, ...</td>\n",
              "      <td>NaN</td>\n",
              "      <td>NaN</td>\n",
              "    </tr>\n",
              "    <tr>\n",
              "      <th>...</th>\n",
              "      <td>...</td>\n",
              "      <td>...</td>\n",
              "      <td>...</td>\n",
              "      <td>...</td>\n",
              "      <td>...</td>\n",
              "      <td>...</td>\n",
              "      <td>...</td>\n",
              "      <td>...</td>\n",
              "      <td>...</td>\n",
              "      <td>...</td>\n",
              "      <td>...</td>\n",
              "    </tr>\n",
              "    <tr>\n",
              "      <th>2164</th>\n",
              "      <td>48844</td>\n",
              "      <td>Healthtrust Workforce Solutions</td>\n",
              "      <td>https://healthtrustjobs.com/</td>\n",
              "      <td>NaN</td>\n",
              "      <td>Acquirer</td>\n",
              "      <td>NaN</td>\n",
              "      <td>NaN</td>\n",
              "      <td>NaN</td>\n",
              "      <td>NaN</td>\n",
              "      <td>NaN</td>\n",
              "      <td>NaN</td>\n",
              "    </tr>\n",
              "    <tr>\n",
              "      <th>2165</th>\n",
              "      <td>48845</td>\n",
              "      <td>Signature Consultants</td>\n",
              "      <td>https://www.sigconsult.com/</td>\n",
              "      <td>NaN</td>\n",
              "      <td>Acquirer</td>\n",
              "      <td>NaN</td>\n",
              "      <td>NaN</td>\n",
              "      <td>NaN</td>\n",
              "      <td>NaN</td>\n",
              "      <td>NaN</td>\n",
              "      <td>NaN</td>\n",
              "    </tr>\n",
              "    <tr>\n",
              "      <th>2166</th>\n",
              "      <td>48846</td>\n",
              "      <td>Acro Service Corporation</td>\n",
              "      <td>https://www.acrocorp.com/</td>\n",
              "      <td>NaN</td>\n",
              "      <td>Acquirer</td>\n",
              "      <td>NaN</td>\n",
              "      <td>NaN</td>\n",
              "      <td>NaN</td>\n",
              "      <td>NaN</td>\n",
              "      <td>NaN</td>\n",
              "      <td>NaN</td>\n",
              "    </tr>\n",
              "    <tr>\n",
              "      <th>2167</th>\n",
              "      <td>48847</td>\n",
              "      <td>DISYS</td>\n",
              "      <td>https://www.disys.com/</td>\n",
              "      <td>NaN</td>\n",
              "      <td>Acquirer</td>\n",
              "      <td>NaN</td>\n",
              "      <td>NaN</td>\n",
              "      <td>NaN</td>\n",
              "      <td>NaN</td>\n",
              "      <td>NaN</td>\n",
              "      <td>NaN</td>\n",
              "    </tr>\n",
              "    <tr>\n",
              "      <th>2168</th>\n",
              "      <td>48848</td>\n",
              "      <td>Supplemental Health Care</td>\n",
              "      <td>https://www.shccares.com/</td>\n",
              "      <td>NaN</td>\n",
              "      <td>Acquirer</td>\n",
              "      <td>NaN</td>\n",
              "      <td>NaN</td>\n",
              "      <td>NaN</td>\n",
              "      <td>NaN</td>\n",
              "      <td>NaN</td>\n",
              "      <td>NaN</td>\n",
              "    </tr>\n",
              "  </tbody>\n",
              "</table>\n",
              "<p>2169 rows × 11 columns</p>\n",
              "</div>"
            ],
            "text/plain": [
              "      Organization - ID  ... MetaDescription\n",
              "0                   440  ...             NaN\n",
              "1                   898  ...             NaN\n",
              "2                   930  ...             NaN\n",
              "3                   965  ...             NaN\n",
              "4                   296  ...             NaN\n",
              "...                 ...  ...             ...\n",
              "2164              48844  ...             NaN\n",
              "2165              48845  ...             NaN\n",
              "2166              48846  ...             NaN\n",
              "2167              48847  ...             NaN\n",
              "2168              48848  ...             NaN\n",
              "\n",
              "[2169 rows x 11 columns]"
            ]
          },
          "metadata": {
            "tags": []
          },
          "execution_count": 19
        }
      ]
    },
    {
      "cell_type": "code",
      "metadata": {
        "colab": {
          "base_uri": "https://localhost:8080/",
          "height": 419
        },
        "id": "Fj9Xj9TbQlfH",
        "outputId": "720cd73f-dcdd-4886-cc90-20cef7df01b4"
      },
      "source": [
        "\n",
        "training_df.columns=['org_id','org_name','org_website','org_cb_description','org_company_type','org_cb_industry','org_company_size','org_new_industry','keyword','metakeyword','metadesc']\n",
        "drop_col=['org_id','org_name','org_website','org_company_type','org_cb_industry','org_company_size']\n",
        "training_df.drop(columns=drop_col,axis=1, inplace=True)\n",
        "training_df\n"
      ],
      "execution_count": 20,
      "outputs": [
        {
          "output_type": "execute_result",
          "data": {
            "text/html": [
              "<div>\n",
              "<style scoped>\n",
              "    .dataframe tbody tr th:only-of-type {\n",
              "        vertical-align: middle;\n",
              "    }\n",
              "\n",
              "    .dataframe tbody tr th {\n",
              "        vertical-align: top;\n",
              "    }\n",
              "\n",
              "    .dataframe thead th {\n",
              "        text-align: right;\n",
              "    }\n",
              "</style>\n",
              "<table border=\"1\" class=\"dataframe\">\n",
              "  <thead>\n",
              "    <tr style=\"text-align: right;\">\n",
              "      <th></th>\n",
              "      <th>org_cb_description</th>\n",
              "      <th>org_new_industry</th>\n",
              "      <th>keyword</th>\n",
              "      <th>metakeyword</th>\n",
              "      <th>metadesc</th>\n",
              "    </tr>\n",
              "  </thead>\n",
              "  <tbody>\n",
              "    <tr>\n",
              "      <th>0</th>\n",
              "      <td>Aston Martin Lagonda Global Holdings manufactu...</td>\n",
              "      <td>Automotive - Car Manufacturing</td>\n",
              "      <td>NaN</td>\n",
              "      <td>NaN</td>\n",
              "      <td>NaN</td>\n",
              "    </tr>\n",
              "    <tr>\n",
              "      <th>1</th>\n",
              "      <td>Fiat Chrysler Automobiles designs, engineers, ...</td>\n",
              "      <td>Automotive - Car Manufacturing</td>\n",
              "      <td>NaN</td>\n",
              "      <td>NaN</td>\n",
              "      <td>NaN</td>\n",
              "    </tr>\n",
              "    <tr>\n",
              "      <th>2</th>\n",
              "      <td>Ford Motor Company, an automotive company, dev...</td>\n",
              "      <td>Automotive - Car Manufacturing</td>\n",
              "      <td>access</td>\n",
              "      <td>NaN</td>\n",
              "      <td>NaN</td>\n",
              "    </tr>\n",
              "    <tr>\n",
              "      <th>3</th>\n",
              "      <td>General Motors is a Detroit-based mutinational...</td>\n",
              "      <td>Automotive - Car Manufacturing</td>\n",
              "      <td>access</td>\n",
              "      <td>NaN</td>\n",
              "      <td>NaN</td>\n",
              "    </tr>\n",
              "    <tr>\n",
              "      <th>4</th>\n",
              "      <td>NaN</td>\n",
              "      <td>Civic, Non-Profit and Membership Groups</td>\n",
              "      <td>benefits, website, leaving, provider, cancel, ...</td>\n",
              "      <td>NaN</td>\n",
              "      <td>NaN</td>\n",
              "    </tr>\n",
              "    <tr>\n",
              "      <th>...</th>\n",
              "      <td>...</td>\n",
              "      <td>...</td>\n",
              "      <td>...</td>\n",
              "      <td>...</td>\n",
              "      <td>...</td>\n",
              "    </tr>\n",
              "    <tr>\n",
              "      <th>2164</th>\n",
              "      <td>NaN</td>\n",
              "      <td>NaN</td>\n",
              "      <td>NaN</td>\n",
              "      <td>NaN</td>\n",
              "      <td>NaN</td>\n",
              "    </tr>\n",
              "    <tr>\n",
              "      <th>2165</th>\n",
              "      <td>NaN</td>\n",
              "      <td>NaN</td>\n",
              "      <td>NaN</td>\n",
              "      <td>NaN</td>\n",
              "      <td>NaN</td>\n",
              "    </tr>\n",
              "    <tr>\n",
              "      <th>2166</th>\n",
              "      <td>NaN</td>\n",
              "      <td>NaN</td>\n",
              "      <td>NaN</td>\n",
              "      <td>NaN</td>\n",
              "      <td>NaN</td>\n",
              "    </tr>\n",
              "    <tr>\n",
              "      <th>2167</th>\n",
              "      <td>NaN</td>\n",
              "      <td>NaN</td>\n",
              "      <td>NaN</td>\n",
              "      <td>NaN</td>\n",
              "      <td>NaN</td>\n",
              "    </tr>\n",
              "    <tr>\n",
              "      <th>2168</th>\n",
              "      <td>NaN</td>\n",
              "      <td>NaN</td>\n",
              "      <td>NaN</td>\n",
              "      <td>NaN</td>\n",
              "      <td>NaN</td>\n",
              "    </tr>\n",
              "  </tbody>\n",
              "</table>\n",
              "<p>2169 rows × 5 columns</p>\n",
              "</div>"
            ],
            "text/plain": [
              "                                     org_cb_description  ... metadesc\n",
              "0     Aston Martin Lagonda Global Holdings manufactu...  ...      NaN\n",
              "1     Fiat Chrysler Automobiles designs, engineers, ...  ...      NaN\n",
              "2     Ford Motor Company, an automotive company, dev...  ...      NaN\n",
              "3     General Motors is a Detroit-based mutinational...  ...      NaN\n",
              "4                                                   NaN  ...      NaN\n",
              "...                                                 ...  ...      ...\n",
              "2164                                                NaN  ...      NaN\n",
              "2165                                                NaN  ...      NaN\n",
              "2166                                                NaN  ...      NaN\n",
              "2167                                                NaN  ...      NaN\n",
              "2168                                                NaN  ...      NaN\n",
              "\n",
              "[2169 rows x 5 columns]"
            ]
          },
          "metadata": {
            "tags": []
          },
          "execution_count": 20
        }
      ]
    },
    {
      "cell_type": "code",
      "metadata": {
        "colab": {
          "base_uri": "https://localhost:8080/",
          "height": 419
        },
        "id": "l92h5JqXTVti",
        "outputId": "5170f1c1-572d-4d76-cf91-cb0b2c463c70"
      },
      "source": [
        "training_df = training_df[training_df['org_new_industry'].notna()]\n",
        "training_df"
      ],
      "execution_count": 21,
      "outputs": [
        {
          "output_type": "execute_result",
          "data": {
            "text/html": [
              "<div>\n",
              "<style scoped>\n",
              "    .dataframe tbody tr th:only-of-type {\n",
              "        vertical-align: middle;\n",
              "    }\n",
              "\n",
              "    .dataframe tbody tr th {\n",
              "        vertical-align: top;\n",
              "    }\n",
              "\n",
              "    .dataframe thead th {\n",
              "        text-align: right;\n",
              "    }\n",
              "</style>\n",
              "<table border=\"1\" class=\"dataframe\">\n",
              "  <thead>\n",
              "    <tr style=\"text-align: right;\">\n",
              "      <th></th>\n",
              "      <th>org_cb_description</th>\n",
              "      <th>org_new_industry</th>\n",
              "      <th>keyword</th>\n",
              "      <th>metakeyword</th>\n",
              "      <th>metadesc</th>\n",
              "    </tr>\n",
              "  </thead>\n",
              "  <tbody>\n",
              "    <tr>\n",
              "      <th>0</th>\n",
              "      <td>Aston Martin Lagonda Global Holdings manufactu...</td>\n",
              "      <td>Automotive - Car Manufacturing</td>\n",
              "      <td>NaN</td>\n",
              "      <td>NaN</td>\n",
              "      <td>NaN</td>\n",
              "    </tr>\n",
              "    <tr>\n",
              "      <th>1</th>\n",
              "      <td>Fiat Chrysler Automobiles designs, engineers, ...</td>\n",
              "      <td>Automotive - Car Manufacturing</td>\n",
              "      <td>NaN</td>\n",
              "      <td>NaN</td>\n",
              "      <td>NaN</td>\n",
              "    </tr>\n",
              "    <tr>\n",
              "      <th>2</th>\n",
              "      <td>Ford Motor Company, an automotive company, dev...</td>\n",
              "      <td>Automotive - Car Manufacturing</td>\n",
              "      <td>access</td>\n",
              "      <td>NaN</td>\n",
              "      <td>NaN</td>\n",
              "    </tr>\n",
              "    <tr>\n",
              "      <th>3</th>\n",
              "      <td>General Motors is a Detroit-based mutinational...</td>\n",
              "      <td>Automotive - Car Manufacturing</td>\n",
              "      <td>access</td>\n",
              "      <td>NaN</td>\n",
              "      <td>NaN</td>\n",
              "    </tr>\n",
              "    <tr>\n",
              "      <th>4</th>\n",
              "      <td>NaN</td>\n",
              "      <td>Civic, Non-Profit and Membership Groups</td>\n",
              "      <td>benefits, website, leaving, provider, cancel, ...</td>\n",
              "      <td>NaN</td>\n",
              "      <td>NaN</td>\n",
              "    </tr>\n",
              "    <tr>\n",
              "      <th>...</th>\n",
              "      <td>...</td>\n",
              "      <td>...</td>\n",
              "      <td>...</td>\n",
              "      <td>...</td>\n",
              "      <td>...</td>\n",
              "    </tr>\n",
              "    <tr>\n",
              "      <th>2120</th>\n",
              "      <td>JetBlue airways to bring humanity back to air ...</td>\n",
              "      <td>Transportation - Airline</td>\n",
              "      <td>NaN</td>\n",
              "      <td>NaN</td>\n",
              "      <td>NaN</td>\n",
              "    </tr>\n",
              "    <tr>\n",
              "      <th>2121</th>\n",
              "      <td>Southwest Airlines (NYSE: LUV) continues to di...</td>\n",
              "      <td>Transportation - Airline</td>\n",
              "      <td>NaN</td>\n",
              "      <td>NaN</td>\n",
              "      <td>NaN</td>\n",
              "    </tr>\n",
              "    <tr>\n",
              "      <th>2122</th>\n",
              "      <td>United Airlines and United Express operate app...</td>\n",
              "      <td>Transportation - Airline</td>\n",
              "      <td>NaN</td>\n",
              "      <td>NaN</td>\n",
              "      <td>NaN</td>\n",
              "    </tr>\n",
              "    <tr>\n",
              "      <th>2123</th>\n",
              "      <td>FedEx Corporation provides customers and busin...</td>\n",
              "      <td>Transportation - Shipping</td>\n",
              "      <td>NaN</td>\n",
              "      <td>NaN</td>\n",
              "      <td>NaN</td>\n",
              "    </tr>\n",
              "    <tr>\n",
              "      <th>2124</th>\n",
              "      <td>United Parcel Service (UPS) is a package deliv...</td>\n",
              "      <td>Transportation - Shipping</td>\n",
              "      <td>NaN</td>\n",
              "      <td>NaN</td>\n",
              "      <td>NaN</td>\n",
              "    </tr>\n",
              "  </tbody>\n",
              "</table>\n",
              "<p>2125 rows × 5 columns</p>\n",
              "</div>"
            ],
            "text/plain": [
              "                                     org_cb_description  ... metadesc\n",
              "0     Aston Martin Lagonda Global Holdings manufactu...  ...      NaN\n",
              "1     Fiat Chrysler Automobiles designs, engineers, ...  ...      NaN\n",
              "2     Ford Motor Company, an automotive company, dev...  ...      NaN\n",
              "3     General Motors is a Detroit-based mutinational...  ...      NaN\n",
              "4                                                   NaN  ...      NaN\n",
              "...                                                 ...  ...      ...\n",
              "2120  JetBlue airways to bring humanity back to air ...  ...      NaN\n",
              "2121  Southwest Airlines (NYSE: LUV) continues to di...  ...      NaN\n",
              "2122  United Airlines and United Express operate app...  ...      NaN\n",
              "2123  FedEx Corporation provides customers and busin...  ...      NaN\n",
              "2124  United Parcel Service (UPS) is a package deliv...  ...      NaN\n",
              "\n",
              "[2125 rows x 5 columns]"
            ]
          },
          "metadata": {
            "tags": []
          },
          "execution_count": 21
        }
      ]
    },
    {
      "cell_type": "code",
      "metadata": {
        "colab": {
          "base_uri": "https://localhost:8080/"
        },
        "id": "E2YDxdEHk9RN",
        "outputId": "ea6c63a5-5519-4729-fefe-86bed953cea2"
      },
      "source": [
        "training_df['description_combined'] = training_df[['org_cb_description', 'keyword', 'metakeyword','metadesc']].fillna('').agg(' '.join, axis=1)"
      ],
      "execution_count": 25,
      "outputs": [
        {
          "output_type": "stream",
          "text": [
            "/usr/local/lib/python3.7/dist-packages/ipykernel_launcher.py:1: SettingWithCopyWarning: \n",
            "A value is trying to be set on a copy of a slice from a DataFrame.\n",
            "Try using .loc[row_indexer,col_indexer] = value instead\n",
            "\n",
            "See the caveats in the documentation: https://pandas.pydata.org/pandas-docs/stable/user_guide/indexing.html#returning-a-view-versus-a-copy\n",
            "  \"\"\"Entry point for launching an IPython kernel.\n"
          ],
          "name": "stderr"
        }
      ]
    },
    {
      "cell_type": "code",
      "metadata": {
        "colab": {
          "base_uri": "https://localhost:8080/"
        },
        "id": "o5pJOOitmep_",
        "outputId": "e788961e-e7ec-4bdb-f7ca-ff57b8d46dc3"
      },
      "source": [
        "training_df.dtypes"
      ],
      "execution_count": 44,
      "outputs": [
        {
          "output_type": "execute_result",
          "data": {
            "text/plain": [
              "org_cb_description      object\n",
              "org_new_industry        object\n",
              "keyword                 object\n",
              "metakeyword             object\n",
              "metadesc                object\n",
              "description             object\n",
              "description_combined    object\n",
              "dtype: object"
            ]
          },
          "metadata": {
            "tags": []
          },
          "execution_count": 44
        }
      ]
    },
    {
      "cell_type": "code",
      "metadata": {
        "colab": {
          "base_uri": "https://localhost:8080/",
          "height": 419
        },
        "id": "ceoJg2R-uXGQ",
        "outputId": "0d3b53dd-af7e-4ef3-d3ee-fad1dd6de9ec"
      },
      "source": [
        "train_df=training_df.loc[:,['org_new_industry','description_combined']]\n",
        "train_df"
      ],
      "execution_count": 51,
      "outputs": [
        {
          "output_type": "execute_result",
          "data": {
            "text/html": [
              "<div>\n",
              "<style scoped>\n",
              "    .dataframe tbody tr th:only-of-type {\n",
              "        vertical-align: middle;\n",
              "    }\n",
              "\n",
              "    .dataframe tbody tr th {\n",
              "        vertical-align: top;\n",
              "    }\n",
              "\n",
              "    .dataframe thead th {\n",
              "        text-align: right;\n",
              "    }\n",
              "</style>\n",
              "<table border=\"1\" class=\"dataframe\">\n",
              "  <thead>\n",
              "    <tr style=\"text-align: right;\">\n",
              "      <th></th>\n",
              "      <th>org_new_industry</th>\n",
              "      <th>description_combined</th>\n",
              "    </tr>\n",
              "  </thead>\n",
              "  <tbody>\n",
              "    <tr>\n",
              "      <th>0</th>\n",
              "      <td>Automotive - Car Manufacturing</td>\n",
              "      <td>Aston Martin Lagonda Global Holdings manufactu...</td>\n",
              "    </tr>\n",
              "    <tr>\n",
              "      <th>1</th>\n",
              "      <td>Automotive - Car Manufacturing</td>\n",
              "      <td>Fiat Chrysler Automobiles designs, engineers, ...</td>\n",
              "    </tr>\n",
              "    <tr>\n",
              "      <th>2</th>\n",
              "      <td>Automotive - Car Manufacturing</td>\n",
              "      <td>Ford Motor Company, an automotive company, dev...</td>\n",
              "    </tr>\n",
              "    <tr>\n",
              "      <th>3</th>\n",
              "      <td>Automotive - Car Manufacturing</td>\n",
              "      <td>General Motors is a Detroit-based mutinational...</td>\n",
              "    </tr>\n",
              "    <tr>\n",
              "      <th>4</th>\n",
              "      <td>Civic, Non-Profit and Membership Groups</td>\n",
              "      <td>benefits, website, leaving, provider, cancel,...</td>\n",
              "    </tr>\n",
              "    <tr>\n",
              "      <th>...</th>\n",
              "      <td>...</td>\n",
              "      <td>...</td>\n",
              "    </tr>\n",
              "    <tr>\n",
              "      <th>2120</th>\n",
              "      <td>Transportation - Airline</td>\n",
              "      <td>JetBlue airways to bring humanity back to air ...</td>\n",
              "    </tr>\n",
              "    <tr>\n",
              "      <th>2121</th>\n",
              "      <td>Transportation - Airline</td>\n",
              "      <td>Southwest Airlines (NYSE: LUV) continues to di...</td>\n",
              "    </tr>\n",
              "    <tr>\n",
              "      <th>2122</th>\n",
              "      <td>Transportation - Airline</td>\n",
              "      <td>United Airlines and United Express operate app...</td>\n",
              "    </tr>\n",
              "    <tr>\n",
              "      <th>2123</th>\n",
              "      <td>Transportation - Shipping</td>\n",
              "      <td>FedEx Corporation provides customers and busin...</td>\n",
              "    </tr>\n",
              "    <tr>\n",
              "      <th>2124</th>\n",
              "      <td>Transportation - Shipping</td>\n",
              "      <td>United Parcel Service (UPS) is a package deliv...</td>\n",
              "    </tr>\n",
              "  </tbody>\n",
              "</table>\n",
              "<p>2125 rows × 2 columns</p>\n",
              "</div>"
            ],
            "text/plain": [
              "                             org_new_industry                               description_combined\n",
              "0              Automotive - Car Manufacturing  Aston Martin Lagonda Global Holdings manufactu...\n",
              "1              Automotive - Car Manufacturing  Fiat Chrysler Automobiles designs, engineers, ...\n",
              "2              Automotive - Car Manufacturing  Ford Motor Company, an automotive company, dev...\n",
              "3              Automotive - Car Manufacturing  General Motors is a Detroit-based mutinational...\n",
              "4     Civic, Non-Profit and Membership Groups   benefits, website, leaving, provider, cancel,...\n",
              "...                                       ...                                                ...\n",
              "2120                 Transportation - Airline  JetBlue airways to bring humanity back to air ...\n",
              "2121                 Transportation - Airline  Southwest Airlines (NYSE: LUV) continues to di...\n",
              "2122                 Transportation - Airline  United Airlines and United Express operate app...\n",
              "2123                Transportation - Shipping  FedEx Corporation provides customers and busin...\n",
              "2124                Transportation - Shipping  United Parcel Service (UPS) is a package deliv...\n",
              "\n",
              "[2125 rows x 2 columns]"
            ]
          },
          "metadata": {
            "tags": []
          },
          "execution_count": 51
        }
      ]
    },
    {
      "cell_type": "code",
      "metadata": {
        "colab": {
          "base_uri": "https://localhost:8080/"
        },
        "id": "nquYDTGunxQ1",
        "outputId": "2217ba2b-eca0-4a57-a2de-d73bad71522a"
      },
      "source": [
        "!wget http://setup.johnsnowlabs.com/colab.sh -O - | bash"
      ],
      "execution_count": 29,
      "outputs": [
        {
          "output_type": "stream",
          "text": [
            "--2021-08-06 04:01:04--  http://setup.johnsnowlabs.com/colab.sh\n",
            "Resolving setup.johnsnowlabs.com (setup.johnsnowlabs.com)... 51.158.130.125\n",
            "Connecting to setup.johnsnowlabs.com (setup.johnsnowlabs.com)|51.158.130.125|:80... connected.\n",
            "HTTP request sent, awaiting response... 302 Moved Temporarily\n",
            "Location: https://raw.githubusercontent.com/JohnSnowLabs/spark-nlp/master/scripts/colab_setup.sh [following]\n",
            "--2021-08-06 04:01:05--  https://raw.githubusercontent.com/JohnSnowLabs/spark-nlp/master/scripts/colab_setup.sh\n",
            "Resolving raw.githubusercontent.com (raw.githubusercontent.com)... 185.199.108.133, 185.199.109.133, 185.199.110.133, ...\n",
            "Connecting to raw.githubusercontent.com (raw.githubusercontent.com)|185.199.108.133|:443... connected.\n",
            "HTTP request sent, awaiting response... 200 OK\n",
            "Length: 1608 (1.6K) [text/plain]\n",
            "Saving to: ‘STDOUT’\n",
            "\n",
            "-                     0%[                    ]       0  --.-KB/s               setup Colab for PySpark 3.1.2 and Spark NLP 3.1.3\n",
            "-                   100%[===================>]   1.57K  --.-KB/s    in 0.001s  \n",
            "\n",
            "2021-08-06 04:01:05 (2.02 MB/s) - written to stdout [1608/1608]\n",
            "\n",
            "Get:1 https://cloud.r-project.org/bin/linux/ubuntu bionic-cran40/ InRelease [3,626 B]\n",
            "Ign:2 https://developer.download.nvidia.com/compute/cuda/repos/ubuntu1804/x86_64  InRelease\n",
            "Ign:3 https://developer.download.nvidia.com/compute/machine-learning/repos/ubuntu1804/x86_64  InRelease\n",
            "Get:4 https://developer.download.nvidia.com/compute/cuda/repos/ubuntu1804/x86_64  Release [697 B]\n",
            "Hit:5 https://developer.download.nvidia.com/compute/machine-learning/repos/ubuntu1804/x86_64  Release\n",
            "Get:6 https://developer.download.nvidia.com/compute/cuda/repos/ubuntu1804/x86_64  Release.gpg [836 B]\n",
            "Get:7 http://ppa.launchpad.net/c2d4u.team/c2d4u4.0+/ubuntu bionic InRelease [15.9 kB]\n",
            "Get:8 http://security.ubuntu.com/ubuntu bionic-security InRelease [88.7 kB]\n",
            "Get:9 https://cloud.r-project.org/bin/linux/ubuntu bionic-cran40/ Packages [62.9 kB]\n",
            "Hit:10 http://archive.ubuntu.com/ubuntu bionic InRelease\n",
            "Get:12 http://archive.ubuntu.com/ubuntu bionic-updates InRelease [88.7 kB]\n",
            "Hit:13 http://ppa.launchpad.net/cran/libgit2/ubuntu bionic InRelease\n",
            "Ign:14 https://developer.download.nvidia.com/compute/cuda/repos/ubuntu1804/x86_64  Packages\n",
            "Get:14 https://developer.download.nvidia.com/compute/cuda/repos/ubuntu1804/x86_64  Packages [695 kB]\n",
            "Hit:15 http://ppa.launchpad.net/deadsnakes/ppa/ubuntu bionic InRelease\n",
            "Get:16 http://archive.ubuntu.com/ubuntu bionic-backports InRelease [74.6 kB]\n",
            "Get:17 http://ppa.launchpad.net/graphics-drivers/ppa/ubuntu bionic InRelease [21.3 kB]\n",
            "Get:18 http://security.ubuntu.com/ubuntu bionic-security/multiverse amd64 Packages [26.7 kB]\n",
            "Get:19 http://security.ubuntu.com/ubuntu bionic-security/main amd64 Packages [2,263 kB]\n",
            "Get:20 http://ppa.launchpad.net/c2d4u.team/c2d4u4.0+/ubuntu bionic/main Sources [1,786 kB]\n",
            "Get:21 http://archive.ubuntu.com/ubuntu bionic-updates/main amd64 Packages [2,698 kB]\n",
            "Get:22 http://security.ubuntu.com/ubuntu bionic-security/universe amd64 Packages [1,420 kB]\n",
            "Get:23 http://security.ubuntu.com/ubuntu bionic-security/restricted amd64 Packages [510 kB]\n",
            "Get:24 http://archive.ubuntu.com/ubuntu bionic-updates/restricted amd64 Packages [544 kB]\n",
            "Get:25 http://archive.ubuntu.com/ubuntu bionic-updates/multiverse amd64 Packages [39.4 kB]\n",
            "Get:26 http://archive.ubuntu.com/ubuntu bionic-updates/universe amd64 Packages [2,195 kB]\n",
            "Get:27 http://ppa.launchpad.net/c2d4u.team/c2d4u4.0+/ubuntu bionic/main amd64 Packages [914 kB]\n",
            "Get:28 http://ppa.launchpad.net/graphics-drivers/ppa/ubuntu bionic/main amd64 Packages [44.1 kB]\n",
            "Fetched 13.5 MB in 4s (3,215 kB/s)\n",
            "Reading package lists... Done\n",
            "\u001b[K     |████████████████████████████████| 212.4 MB 70 kB/s \n",
            "\u001b[K     |████████████████████████████████| 91 kB 12.0 MB/s \n",
            "\u001b[K     |████████████████████████████████| 198 kB 63.5 MB/s \n",
            "\u001b[?25h  Building wheel for pyspark (setup.py) ... \u001b[?25l\u001b[?25hdone\n"
          ],
          "name": "stdout"
        }
      ]
    },
    {
      "cell_type": "code",
      "metadata": {
        "id": "5q0dKUHWnmtg"
      },
      "source": [
        "import sparknlp\n",
        "spark = sparknlp.start() \n",
        "# sparknlp.start(gpu=True) >> for training on GPU\n",
        "from sparknlp.base import *\n",
        "from sparknlp.annotator import *\n",
        "from pyspark.ml import Pipeline\n"
      ],
      "execution_count": 30,
      "outputs": []
    },
    {
      "cell_type": "markdown",
      "metadata": {
        "id": "nob_fMMNFCqV"
      },
      "source": [
        "Text Classification with Classifier with SparkNLP"
      ]
    },
    {
      "cell_type": "code",
      "metadata": {
        "id": "Cd7V7OrdneRc"
      },
      "source": [
        "document = DocumentAssembler()\\\n",
        "    .setInputCol(\"description_combined\")\\\n",
        "    .setOutputCol(\"document\")"
      ],
      "execution_count": 56,
      "outputs": []
    },
    {
      "cell_type": "code",
      "metadata": {
        "colab": {
          "base_uri": "https://localhost:8080/"
        },
        "id": "vCCDdv19obDn",
        "outputId": "873fc8be-2201-4d5f-bde9-f833d5a938df"
      },
      "source": [
        "use = UniversalSentenceEncoder.pretrained()\\\n",
        " .setInputCols([\"document\"])\\\n",
        " .setOutputCol(\"sentence_embeddings\")"
      ],
      "execution_count": 57,
      "outputs": [
        {
          "output_type": "stream",
          "text": [
            "tfhub_use download started this may take some time.\n",
            "Approximate size to download 923.7 MB\n",
            "[OK!]\n"
          ],
          "name": "stdout"
        }
      ]
    },
    {
      "cell_type": "code",
      "metadata": {
        "id": "oj07-OJEpu8l"
      },
      "source": [
        "classsifierdl = ClassifierDLApproach()\\\n",
        "  .setInputCols([\"sentence_embeddings\"])\\\n",
        "  .setOutputCol(\"class\")\\\n",
        "  .setLabelColumn(\"org_new_industry\")\\\n",
        "  .setMaxEpochs(5)\\\n",
        "  .setEnableOutputLogs(True)"
      ],
      "execution_count": 58,
      "outputs": []
    },
    {
      "cell_type": "code",
      "metadata": {
        "id": "iC20rjZhp02J"
      },
      "source": [
        "use_clf_pipeline = Pipeline(\n",
        "    stages = [\n",
        "        document,\n",
        "        use,\n",
        "        classsifierdl\n",
        "    ])"
      ],
      "execution_count": 59,
      "outputs": []
    },
    {
      "cell_type": "code",
      "metadata": {
        "id": "eQoFu2gXqZ0I"
      },
      "source": [
        "from pyspark.sql import SparkSession\n",
        "\n",
        "spark = SparkSession.builder \\\n",
        "    .master(\"local[1]\") \\\n",
        "    .appName(\"SparkByExamples.com\") \\\n",
        "    .getOrCreate()\n",
        "\n",
        "train_sparkdf=spark.createDataFrame(train_df) "
      ],
      "execution_count": 53,
      "outputs": []
    },
    {
      "cell_type": "code",
      "metadata": {
        "id": "yuXtkx3Hp5ZY"
      },
      "source": [
        "use_pipelineModel = use_clf_pipeline.fit(train_sparkdf)"
      ],
      "execution_count": 60,
      "outputs": []
    },
    {
      "cell_type": "code",
      "metadata": {
        "colab": {
          "base_uri": "https://localhost:8080/"
        },
        "id": "nKX059c70wFE",
        "outputId": "cf72d01b-9eb8-40dc-c2d5-28512fe8f09d"
      },
      "source": [
        "!cat /root/annotator_logs/ClassifierDLApproach_c570d0becc72.log"
      ],
      "execution_count": 61,
      "outputs": [
        {
          "output_type": "stream",
          "text": [
            "Training started - epochs: 5 - learning_rate: 0.005 - batch_size: 64 - training_examples: 2125 - classes: 90\n",
            "Epoch 0/5 - 0.66s - loss: 152.42564 - acc: 0.057291668 - batches: 34\n",
            "Epoch 1/5 - 0.44s - loss: 151.63655 - acc: 0.068655305 - batches: 34\n",
            "Epoch 2/5 - 0.45s - loss: 151.63655 - acc: 0.068655305 - batches: 34\n",
            "Epoch 3/5 - 0.40s - loss: 151.63655 - acc: 0.068655305 - batches: 34\n",
            "Epoch 4/5 - 0.40s - loss: 151.63655 - acc: 0.068655305 - batches: 34\n"
          ],
          "name": "stdout"
        }
      ]
    },
    {
      "cell_type": "markdown",
      "metadata": {
        "id": "-vDy37S9FY5S"
      },
      "source": [
        "Bert Sentence Embedding "
      ]
    },
    {
      "cell_type": "code",
      "metadata": {
        "id": "eF3Pb9m804oi"
      },
      "source": [
        "document = DocumentAssembler()\\\n",
        "    .setInputCol(\"description_combined\")\\\n",
        "    .setOutputCol(\"document\")"
      ],
      "execution_count": null,
      "outputs": []
    },
    {
      "cell_type": "code",
      "metadata": {
        "colab": {
          "base_uri": "https://localhost:8080/"
        },
        "id": "jZ2x1zoN1GuZ",
        "outputId": "997c6743-e5f9-4258-f9f5-54eb1230f609"
      },
      "source": [
        "bert_sent=BertSentenceEmbeddings.pretrained(\"sent_small_bert_L8_512\")\\\n",
        ".setInputCols([\"document\"])\\\n",
        ".setOutputCol(\"sentence_embeddings\")"
      ],
      "execution_count": 62,
      "outputs": [
        {
          "output_type": "stream",
          "text": [
            "sent_small_bert_L8_512 download started this may take some time.\n",
            "Approximate size to download 149.1 MB\n",
            "[OK!]\n"
          ],
          "name": "stdout"
        }
      ]
    },
    {
      "cell_type": "code",
      "metadata": {
        "id": "Y88j_Dcq2Btp"
      },
      "source": [
        "classsifierd2 = ClassifierDLApproach()\\\n",
        "  .setInputCols([\"sentence_embeddings\"])\\\n",
        "  .setOutputCol(\"class\")\\\n",
        "  .setLabelColumn(\"org_new_industry\")\\\n",
        "  .setMaxEpochs(20)\\\n",
        "  .setEnableOutputLogs(True)"
      ],
      "execution_count": 66,
      "outputs": []
    },
    {
      "cell_type": "code",
      "metadata": {
        "id": "StIZfgVk2LNi"
      },
      "source": [
        "bert_sent_clf_pipeline=Pipeline(\n",
        "    stages=\n",
        "    [document,bert_sent,classsifierd2])"
      ],
      "execution_count": 67,
      "outputs": []
    },
    {
      "cell_type": "code",
      "metadata": {
        "id": "xi54yJzu3LbK"
      },
      "source": [
        "bert_sentPiplelineModel=bert_sent_clf_pipeline.fit(train_sparkdf)"
      ],
      "execution_count": 68,
      "outputs": []
    },
    {
      "cell_type": "code",
      "metadata": {
        "colab": {
          "base_uri": "https://localhost:8080/"
        },
        "id": "bSHW0HRZ23L7",
        "outputId": "d63d0470-7c38-4c8f-f47a-2997c0f98a46"
      },
      "source": [
        "!cat /root/annotator_logs/ClassifierDLApproach_5546c333482b.log"
      ],
      "execution_count": 69,
      "outputs": [
        {
          "output_type": "stream",
          "text": [
            "Training started - epochs: 20 - learning_rate: 0.005 - batch_size: 64 - training_examples: 2125 - classes: 90\n",
            "Epoch 0/20 - 0.53s - loss: 151.60966 - acc: 0.06767191 - batches: 34\n",
            "Epoch 1/20 - 0.39s - loss: 151.98505 - acc: 0.07149621 - batches: 34\n",
            "Epoch 2/20 - 0.40s - loss: 151.63652 - acc: 0.06581439 - batches: 34\n",
            "Epoch 3/20 - 0.39s - loss: 151.63655 - acc: 0.06581439 - batches: 34\n",
            "Epoch 4/20 - 0.40s - loss: 151.63655 - acc: 0.06581439 - batches: 34\n",
            "Epoch 5/20 - 0.40s - loss: 151.63655 - acc: 0.06581439 - batches: 34\n",
            "Epoch 6/20 - 0.39s - loss: 151.63655 - acc: 0.06581439 - batches: 34\n",
            "Epoch 7/20 - 0.39s - loss: 151.63655 - acc: 0.06581439 - batches: 34\n",
            "Epoch 8/20 - 0.39s - loss: 151.63655 - acc: 0.06581439 - batches: 34\n",
            "Epoch 9/20 - 0.38s - loss: 151.63655 - acc: 0.06581439 - batches: 34\n",
            "Epoch 10/20 - 0.38s - loss: 151.63655 - acc: 0.06581439 - batches: 34\n",
            "Epoch 11/20 - 0.39s - loss: 151.63655 - acc: 0.06581439 - batches: 34\n",
            "Epoch 12/20 - 0.39s - loss: 151.63655 - acc: 0.06581439 - batches: 34\n",
            "Epoch 13/20 - 0.38s - loss: 151.63655 - acc: 0.06581439 - batches: 34\n",
            "Epoch 14/20 - 0.38s - loss: 151.63655 - acc: 0.06581439 - batches: 34\n",
            "Epoch 15/20 - 0.38s - loss: 151.63655 - acc: 0.06581439 - batches: 34\n",
            "Epoch 16/20 - 0.38s - loss: 151.63655 - acc: 0.06581439 - batches: 34\n",
            "Epoch 17/20 - 0.38s - loss: 151.63655 - acc: 0.06581439 - batches: 34\n",
            "Epoch 18/20 - 0.38s - loss: 151.63655 - acc: 0.06581439 - batches: 34\n",
            "Epoch 19/20 - 0.38s - loss: 151.63655 - acc: 0.06581439 - batches: 34\n"
          ],
          "name": "stdout"
        }
      ]
    },
    {
      "cell_type": "markdown",
      "metadata": {
        "id": "XX3ip9DHFnhM"
      },
      "source": [
        "Using Glove Embeddings"
      ]
    },
    {
      "cell_type": "code",
      "metadata": {
        "colab": {
          "base_uri": "https://localhost:8080/"
        },
        "id": "QKmAynN6DQcs",
        "outputId": "c964327c-a9f5-41d1-ec0d-5f3d9f5071bc"
      },
      "source": [
        "document_assembler = DocumentAssembler() \\\n",
        "    .setInputCol(\"description_combined\") \\\n",
        "    .setOutputCol(\"document\")\n",
        "    \n",
        "tokenizer = Tokenizer() \\\n",
        "    .setInputCols([\"document\"]) \\\n",
        "    .setOutputCol(\"token\")\n",
        "      \n",
        "normalizer = Normalizer() \\\n",
        "    .setInputCols([\"token\"]) \\\n",
        "    .setOutputCol(\"normalized\")\n",
        "\n",
        "stopwords_cleaner = StopWordsCleaner()\\\n",
        "    .setInputCols(\"normalized\")\\\n",
        "    .setOutputCol(\"cleanTokens\")\\\n",
        "    .setCaseSensitive(False)\n",
        "\n",
        "lemma = LemmatizerModel.pretrained('lemma_antbnc') \\\n",
        "    .setInputCols([\"cleanTokens\"]) \\\n",
        "    .setOutputCol(\"lemma\")\n",
        "\n",
        "\n"
      ],
      "execution_count": 81,
      "outputs": [
        {
          "output_type": "stream",
          "text": [
            "lemma_antbnc download started this may take some time.\n",
            "Approximate size to download 907.6 KB\n",
            "[OK!]\n"
          ],
          "name": "stdout"
        }
      ]
    },
    {
      "cell_type": "code",
      "metadata": {
        "colab": {
          "base_uri": "https://localhost:8080/"
        },
        "id": "9giuItL7D1kj",
        "outputId": "14fa33f7-d900-4093-dcf2-fba6f32e2ccd"
      },
      "source": [
        "glove_embeddings = WordEmbeddingsModel().pretrained() \\\n",
        "      .setInputCols([\"document\",'lemma'])\\\n",
        "      .setOutputCol(\"embeddings\")\\\n",
        "      .setCaseSensitive(False)\n",
        "\n",
        "embeddingsSentence = SentenceEmbeddings() \\\n",
        "      .setInputCols([\"document\", \"embeddings\"]) \\\n",
        "      .setOutputCol(\"sentence_embeddings\") \\\n",
        "      .setPoolingStrategy(\"AVERAGE\")\n",
        "\n",
        "classsifierd3 = ClassifierDLApproach()\\\n",
        "      .setInputCols([\"sentence_embeddings\"])\\\n",
        "      .setOutputCol(\"class\")\\\n",
        "      .setLabelColumn(\"org_new_industry\")\\\n",
        "      .setMaxEpochs(3)\\\n",
        "      .setEnableOutputLogs(True)\n",
        "      #.setOutputLogsPath('logs')\n",
        "\n",
        "clf_pipeline = Pipeline(\n",
        "    stages=[document_assembler, \n",
        "            tokenizer,\n",
        "            normalizer,\n",
        "            stopwords_cleaner, \n",
        "            lemma, \n",
        "            glove_embeddings,\n",
        "            embeddingsSentence,\n",
        "            classsifierd3])"
      ],
      "execution_count": 84,
      "outputs": [
        {
          "output_type": "stream",
          "text": [
            "glove_100d download started this may take some time.\n",
            "Approximate size to download 145.3 MB\n",
            "[OK!]\n"
          ],
          "name": "stdout"
        }
      ]
    },
    {
      "cell_type": "code",
      "metadata": {
        "id": "OStVKi7pEELT"
      },
      "source": [
        "clf_pipelineModel = clf_pipeline.fit(train_sparkdf)"
      ],
      "execution_count": 85,
      "outputs": []
    },
    {
      "cell_type": "code",
      "metadata": {
        "colab": {
          "base_uri": "https://localhost:8080/"
        },
        "id": "EuEEyXG5Ehih",
        "outputId": "9c9c1041-2670-4378-88ea-2ae8b622d9fd"
      },
      "source": [
        "!cat /root/annotator_logs/ClassifierDLApproach_ad793ec19836.log"
      ],
      "execution_count": 86,
      "outputs": [
        {
          "output_type": "stream",
          "text": [
            "Training started - epochs: 3 - learning_rate: 0.005 - batch_size: 64 - training_examples: 2125 - classes: 90\n",
            "Epoch 0/3 - 0.59s - loss: 150.31068 - acc: 0.053430945 - batches: 34\n",
            "Epoch 1/3 - 0.53s - loss: 150.63655 - acc: 0.058165792 - batches: 34\n",
            "Epoch 2/3 - 0.41s - loss: 150.63657 - acc: 0.058165792 - batches: 34\n"
          ],
          "name": "stdout"
        }
      ]
    }
  ]
}