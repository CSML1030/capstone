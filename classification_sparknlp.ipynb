{
  "nbformat": 4,
  "nbformat_minor": 0,
  "metadata": {
    "colab": {
      "name": "classification_sparknlp.ipynb",
      "provenance": [],
      "collapsed_sections": []
    },
    "kernelspec": {
      "name": "python3",
      "display_name": "Python 3"
    },
    "language_info": {
      "name": "python"
    }
  },
  "cells": [
    {
      "cell_type": "code",
      "metadata": {
        "colab": {
          "base_uri": "https://localhost:8080/"
        },
        "id": "T50KfdMj5MOw",
        "outputId": "2f6e9228-452c-46e4-8483-8125d2d02fbb"
      },
      "source": [
        "#install spark-nlp\n",
        "!pip install spark-nlp==3.1.0"
      ],
      "execution_count": 5,
      "outputs": [
        {
          "output_type": "stream",
          "text": [
            "Collecting spark-nlp==3.1.0\n",
            "  Downloading spark_nlp-3.1.0-py2.py3-none-any.whl (44 kB)\n",
            "\u001b[?25l\r\u001b[K     |███████▍                        | 10 kB 22.9 MB/s eta 0:00:01\r\u001b[K     |██████████████▉                 | 20 kB 10.8 MB/s eta 0:00:01\r\u001b[K     |██████████████████████▏         | 30 kB 8.6 MB/s eta 0:00:01\r\u001b[K     |█████████████████████████████▋  | 40 kB 7.7 MB/s eta 0:00:01\r\u001b[K     |████████████████████████████████| 44 kB 1.1 MB/s \n",
            "\u001b[?25hInstalling collected packages: spark-nlp\n",
            "Successfully installed spark-nlp-3.1.0\n"
          ],
          "name": "stdout"
        }
      ]
    },
    {
      "cell_type": "code",
      "metadata": {
        "id": "O7Q4-nsz7l8a"
      },
      "source": [
        "# get pyspark\n",
        "!wget http://setup.johnsnowlabs.com/colab.sh -O - | bash"
      ],
      "execution_count": null,
      "outputs": []
    },
    {
      "cell_type": "code",
      "metadata": {
        "id": "cX1A0xmgLuaG"
      },
      "source": [
        "#load required packages\n",
        "import os\n",
        "import numpy as np\n",
        "import pandas as pd\n",
        "import sparknlp\n",
        "import sys\n",
        "\n",
        "from pyspark.sql import SparkSession\n",
        "from pyspark.ml import Pipeline\n",
        "\n",
        "from sparknlp.annotator import *\n",
        "from sparknlp.common import *\n",
        "from sparknlp.base import *\n"
      ],
      "execution_count": 9,
      "outputs": []
    },
    {
      "cell_type": "code",
      "metadata": {
        "id": "LcYLrBZx5P9H"
      },
      "source": [
        "#start spark sessiom\n",
        "spark = sparknlp.start() \n"
      ],
      "execution_count": null,
      "outputs": []
    },
    {
      "cell_type": "code",
      "metadata": {
        "colab": {
          "base_uri": "https://localhost:8080/",
          "height": 810
        },
        "id": "3vPeI4GfPKep",
        "outputId": "d2695ae6-3b7f-49ca-d1ef-25069bd6b8bb"
      },
      "source": [
        "\n",
        "training_df = pd.read_excel(open('Basis State Industry List 08_15_2021.xlsx', 'rb'),\n",
        "              sheet_name='Training List')\n",
        "training_df"
      ],
      "execution_count": 10,
      "outputs": [
        {
          "output_type": "execute_result",
          "data": {
            "text/html": [
              "<div>\n",
              "<style scoped>\n",
              "    .dataframe tbody tr th:only-of-type {\n",
              "        vertical-align: middle;\n",
              "    }\n",
              "\n",
              "    .dataframe tbody tr th {\n",
              "        vertical-align: top;\n",
              "    }\n",
              "\n",
              "    .dataframe thead th {\n",
              "        text-align: right;\n",
              "    }\n",
              "</style>\n",
              "<table border=\"1\" class=\"dataframe\">\n",
              "  <thead>\n",
              "    <tr style=\"text-align: right;\">\n",
              "      <th></th>\n",
              "      <th>Organization - ID</th>\n",
              "      <th>Organization - Name</th>\n",
              "      <th>Organization - Website</th>\n",
              "      <th>Organization - CB Description</th>\n",
              "      <th>Organization - Company Type</th>\n",
              "      <th>Organization - CB Industries</th>\n",
              "      <th>Organization - Employee Range</th>\n",
              "      <th>Organization - New Industry</th>\n",
              "      <th>Keyword</th>\n",
              "      <th>MetaKeyword</th>\n",
              "      <th>MetaDescription</th>\n",
              "    </tr>\n",
              "  </thead>\n",
              "  <tbody>\n",
              "    <tr>\n",
              "      <th>0</th>\n",
              "      <td>440</td>\n",
              "      <td>Aston Martin Lagonda</td>\n",
              "      <td>https://www.astonmartin.comen-us/</td>\n",
              "      <td>Aston Martin Lagonda Global Holdings manufactu...</td>\n",
              "      <td>Acquirer</td>\n",
              "      <td>Automotive, Leisure, Manufacturing, Product De...</td>\n",
              "      <td>1001-5000</td>\n",
              "      <td>Automotive - Car Manufacturing</td>\n",
              "      <td>NaN</td>\n",
              "      <td>NaN</td>\n",
              "      <td>NaN</td>\n",
              "    </tr>\n",
              "    <tr>\n",
              "      <th>1</th>\n",
              "      <td>898</td>\n",
              "      <td>Fiat Chrysler Auto</td>\n",
              "      <td>https://www.fcagroup.comen-US/Pages/home.aspx</td>\n",
              "      <td>Fiat Chrysler Automobiles designs, engineers, ...</td>\n",
              "      <td>Acquirer</td>\n",
              "      <td>Automotive, Industrial Manufacturing, Manufact...</td>\n",
              "      <td>10001+</td>\n",
              "      <td>Automotive - Car Manufacturing</td>\n",
              "      <td>NaN</td>\n",
              "      <td>NaN</td>\n",
              "      <td>NaN</td>\n",
              "    </tr>\n",
              "    <tr>\n",
              "      <th>2</th>\n",
              "      <td>930</td>\n",
              "      <td>Ford Motor Company</td>\n",
              "      <td>https://www.ford.com</td>\n",
              "      <td>Ford Motor Company, an automotive company, dev...</td>\n",
              "      <td>Acquirer</td>\n",
              "      <td>Apps, Automotive, Manufacturing, Transportation</td>\n",
              "      <td>10001+</td>\n",
              "      <td>Automotive - Car Manufacturing</td>\n",
              "      <td>access</td>\n",
              "      <td>NaN</td>\n",
              "      <td>NaN</td>\n",
              "    </tr>\n",
              "    <tr>\n",
              "      <th>3</th>\n",
              "      <td>965</td>\n",
              "      <td>General Motors Company</td>\n",
              "      <td>https://www.gm.com</td>\n",
              "      <td>General Motors is a Detroit-based mutinational...</td>\n",
              "      <td>Acquirer</td>\n",
              "      <td>Automotive, Enterprise Software, Manufacturing...</td>\n",
              "      <td>10001+</td>\n",
              "      <td>Automotive - Car Manufacturing</td>\n",
              "      <td>access</td>\n",
              "      <td>NaN</td>\n",
              "      <td>NaN</td>\n",
              "    </tr>\n",
              "    <tr>\n",
              "      <th>4</th>\n",
              "      <td>296</td>\n",
              "      <td>AARP</td>\n",
              "      <td>http://www.aarp.org</td>\n",
              "      <td>NaN</td>\n",
              "      <td>Acquirer</td>\n",
              "      <td>NaN</td>\n",
              "      <td>NaN</td>\n",
              "      <td>Civic, Non-Profit and Membership Groups</td>\n",
              "      <td>benefits, website, leaving, provider, cancel, ...</td>\n",
              "      <td>NaN</td>\n",
              "      <td>NaN</td>\n",
              "    </tr>\n",
              "    <tr>\n",
              "      <th>...</th>\n",
              "      <td>...</td>\n",
              "      <td>...</td>\n",
              "      <td>...</td>\n",
              "      <td>...</td>\n",
              "      <td>...</td>\n",
              "      <td>...</td>\n",
              "      <td>...</td>\n",
              "      <td>...</td>\n",
              "      <td>...</td>\n",
              "      <td>...</td>\n",
              "      <td>...</td>\n",
              "    </tr>\n",
              "    <tr>\n",
              "      <th>2164</th>\n",
              "      <td>48844</td>\n",
              "      <td>Healthtrust Workforce Solutions</td>\n",
              "      <td>https://healthtrustjobs.com/</td>\n",
              "      <td>NaN</td>\n",
              "      <td>Acquirer</td>\n",
              "      <td>NaN</td>\n",
              "      <td>NaN</td>\n",
              "      <td>NaN</td>\n",
              "      <td>NaN</td>\n",
              "      <td>NaN</td>\n",
              "      <td>NaN</td>\n",
              "    </tr>\n",
              "    <tr>\n",
              "      <th>2165</th>\n",
              "      <td>48845</td>\n",
              "      <td>Signature Consultants</td>\n",
              "      <td>https://www.sigconsult.com/</td>\n",
              "      <td>NaN</td>\n",
              "      <td>Acquirer</td>\n",
              "      <td>NaN</td>\n",
              "      <td>NaN</td>\n",
              "      <td>NaN</td>\n",
              "      <td>NaN</td>\n",
              "      <td>NaN</td>\n",
              "      <td>NaN</td>\n",
              "    </tr>\n",
              "    <tr>\n",
              "      <th>2166</th>\n",
              "      <td>48846</td>\n",
              "      <td>Acro Service Corporation</td>\n",
              "      <td>https://www.acrocorp.com/</td>\n",
              "      <td>NaN</td>\n",
              "      <td>Acquirer</td>\n",
              "      <td>NaN</td>\n",
              "      <td>NaN</td>\n",
              "      <td>NaN</td>\n",
              "      <td>NaN</td>\n",
              "      <td>NaN</td>\n",
              "      <td>NaN</td>\n",
              "    </tr>\n",
              "    <tr>\n",
              "      <th>2167</th>\n",
              "      <td>48847</td>\n",
              "      <td>DISYS</td>\n",
              "      <td>https://www.disys.com/</td>\n",
              "      <td>NaN</td>\n",
              "      <td>Acquirer</td>\n",
              "      <td>NaN</td>\n",
              "      <td>NaN</td>\n",
              "      <td>NaN</td>\n",
              "      <td>NaN</td>\n",
              "      <td>NaN</td>\n",
              "      <td>NaN</td>\n",
              "    </tr>\n",
              "    <tr>\n",
              "      <th>2168</th>\n",
              "      <td>48848</td>\n",
              "      <td>Supplemental Health Care</td>\n",
              "      <td>https://www.shccares.com/</td>\n",
              "      <td>NaN</td>\n",
              "      <td>Acquirer</td>\n",
              "      <td>NaN</td>\n",
              "      <td>NaN</td>\n",
              "      <td>NaN</td>\n",
              "      <td>NaN</td>\n",
              "      <td>NaN</td>\n",
              "      <td>NaN</td>\n",
              "    </tr>\n",
              "  </tbody>\n",
              "</table>\n",
              "<p>2169 rows × 11 columns</p>\n",
              "</div>"
            ],
            "text/plain": [
              "      Organization - ID  ... MetaDescription\n",
              "0                   440  ...             NaN\n",
              "1                   898  ...             NaN\n",
              "2                   930  ...             NaN\n",
              "3                   965  ...             NaN\n",
              "4                   296  ...             NaN\n",
              "...                 ...  ...             ...\n",
              "2164              48844  ...             NaN\n",
              "2165              48845  ...             NaN\n",
              "2166              48846  ...             NaN\n",
              "2167              48847  ...             NaN\n",
              "2168              48848  ...             NaN\n",
              "\n",
              "[2169 rows x 11 columns]"
            ]
          },
          "metadata": {},
          "execution_count": 10
        }
      ]
    },
    {
      "cell_type": "code",
      "metadata": {
        "colab": {
          "base_uri": "https://localhost:8080/",
          "height": 419
        },
        "id": "Fj9Xj9TbQlfH",
        "outputId": "71534ef6-2ed2-4c27-93ec-fe9a46e16f7e"
      },
      "source": [
        "\n",
        "training_df.columns=['org_id','org_name','org_website','org_cb_description','org_company_type','org_cb_industry','org_company_size','org_new_industry','keyword','metakeyword','metadesc']\n",
        "drop_col=['org_id','org_name','org_website','org_company_type','org_cb_industry','org_company_size']\n",
        "training_df.drop(columns=drop_col,axis=1, inplace=True)\n",
        "training_df\n"
      ],
      "execution_count": 11,
      "outputs": [
        {
          "output_type": "execute_result",
          "data": {
            "text/html": [
              "<div>\n",
              "<style scoped>\n",
              "    .dataframe tbody tr th:only-of-type {\n",
              "        vertical-align: middle;\n",
              "    }\n",
              "\n",
              "    .dataframe tbody tr th {\n",
              "        vertical-align: top;\n",
              "    }\n",
              "\n",
              "    .dataframe thead th {\n",
              "        text-align: right;\n",
              "    }\n",
              "</style>\n",
              "<table border=\"1\" class=\"dataframe\">\n",
              "  <thead>\n",
              "    <tr style=\"text-align: right;\">\n",
              "      <th></th>\n",
              "      <th>org_cb_description</th>\n",
              "      <th>org_new_industry</th>\n",
              "      <th>keyword</th>\n",
              "      <th>metakeyword</th>\n",
              "      <th>metadesc</th>\n",
              "    </tr>\n",
              "  </thead>\n",
              "  <tbody>\n",
              "    <tr>\n",
              "      <th>0</th>\n",
              "      <td>Aston Martin Lagonda Global Holdings manufactu...</td>\n",
              "      <td>Automotive - Car Manufacturing</td>\n",
              "      <td>NaN</td>\n",
              "      <td>NaN</td>\n",
              "      <td>NaN</td>\n",
              "    </tr>\n",
              "    <tr>\n",
              "      <th>1</th>\n",
              "      <td>Fiat Chrysler Automobiles designs, engineers, ...</td>\n",
              "      <td>Automotive - Car Manufacturing</td>\n",
              "      <td>NaN</td>\n",
              "      <td>NaN</td>\n",
              "      <td>NaN</td>\n",
              "    </tr>\n",
              "    <tr>\n",
              "      <th>2</th>\n",
              "      <td>Ford Motor Company, an automotive company, dev...</td>\n",
              "      <td>Automotive - Car Manufacturing</td>\n",
              "      <td>access</td>\n",
              "      <td>NaN</td>\n",
              "      <td>NaN</td>\n",
              "    </tr>\n",
              "    <tr>\n",
              "      <th>3</th>\n",
              "      <td>General Motors is a Detroit-based mutinational...</td>\n",
              "      <td>Automotive - Car Manufacturing</td>\n",
              "      <td>access</td>\n",
              "      <td>NaN</td>\n",
              "      <td>NaN</td>\n",
              "    </tr>\n",
              "    <tr>\n",
              "      <th>4</th>\n",
              "      <td>NaN</td>\n",
              "      <td>Civic, Non-Profit and Membership Groups</td>\n",
              "      <td>benefits, website, leaving, provider, cancel, ...</td>\n",
              "      <td>NaN</td>\n",
              "      <td>NaN</td>\n",
              "    </tr>\n",
              "    <tr>\n",
              "      <th>...</th>\n",
              "      <td>...</td>\n",
              "      <td>...</td>\n",
              "      <td>...</td>\n",
              "      <td>...</td>\n",
              "      <td>...</td>\n",
              "    </tr>\n",
              "    <tr>\n",
              "      <th>2164</th>\n",
              "      <td>NaN</td>\n",
              "      <td>NaN</td>\n",
              "      <td>NaN</td>\n",
              "      <td>NaN</td>\n",
              "      <td>NaN</td>\n",
              "    </tr>\n",
              "    <tr>\n",
              "      <th>2165</th>\n",
              "      <td>NaN</td>\n",
              "      <td>NaN</td>\n",
              "      <td>NaN</td>\n",
              "      <td>NaN</td>\n",
              "      <td>NaN</td>\n",
              "    </tr>\n",
              "    <tr>\n",
              "      <th>2166</th>\n",
              "      <td>NaN</td>\n",
              "      <td>NaN</td>\n",
              "      <td>NaN</td>\n",
              "      <td>NaN</td>\n",
              "      <td>NaN</td>\n",
              "    </tr>\n",
              "    <tr>\n",
              "      <th>2167</th>\n",
              "      <td>NaN</td>\n",
              "      <td>NaN</td>\n",
              "      <td>NaN</td>\n",
              "      <td>NaN</td>\n",
              "      <td>NaN</td>\n",
              "    </tr>\n",
              "    <tr>\n",
              "      <th>2168</th>\n",
              "      <td>NaN</td>\n",
              "      <td>NaN</td>\n",
              "      <td>NaN</td>\n",
              "      <td>NaN</td>\n",
              "      <td>NaN</td>\n",
              "    </tr>\n",
              "  </tbody>\n",
              "</table>\n",
              "<p>2169 rows × 5 columns</p>\n",
              "</div>"
            ],
            "text/plain": [
              "                                     org_cb_description  ... metadesc\n",
              "0     Aston Martin Lagonda Global Holdings manufactu...  ...      NaN\n",
              "1     Fiat Chrysler Automobiles designs, engineers, ...  ...      NaN\n",
              "2     Ford Motor Company, an automotive company, dev...  ...      NaN\n",
              "3     General Motors is a Detroit-based mutinational...  ...      NaN\n",
              "4                                                   NaN  ...      NaN\n",
              "...                                                 ...  ...      ...\n",
              "2164                                                NaN  ...      NaN\n",
              "2165                                                NaN  ...      NaN\n",
              "2166                                                NaN  ...      NaN\n",
              "2167                                                NaN  ...      NaN\n",
              "2168                                                NaN  ...      NaN\n",
              "\n",
              "[2169 rows x 5 columns]"
            ]
          },
          "metadata": {},
          "execution_count": 11
        }
      ]
    },
    {
      "cell_type": "code",
      "metadata": {
        "colab": {
          "base_uri": "https://localhost:8080/",
          "height": 419
        },
        "id": "l92h5JqXTVti",
        "outputId": "329355f9-1dcd-46a9-8287-ff2e569bce34"
      },
      "source": [
        "training_df = training_df[training_df['org_new_industry'].notna()]\n",
        "training_df"
      ],
      "execution_count": 12,
      "outputs": [
        {
          "output_type": "execute_result",
          "data": {
            "text/html": [
              "<div>\n",
              "<style scoped>\n",
              "    .dataframe tbody tr th:only-of-type {\n",
              "        vertical-align: middle;\n",
              "    }\n",
              "\n",
              "    .dataframe tbody tr th {\n",
              "        vertical-align: top;\n",
              "    }\n",
              "\n",
              "    .dataframe thead th {\n",
              "        text-align: right;\n",
              "    }\n",
              "</style>\n",
              "<table border=\"1\" class=\"dataframe\">\n",
              "  <thead>\n",
              "    <tr style=\"text-align: right;\">\n",
              "      <th></th>\n",
              "      <th>org_cb_description</th>\n",
              "      <th>org_new_industry</th>\n",
              "      <th>keyword</th>\n",
              "      <th>metakeyword</th>\n",
              "      <th>metadesc</th>\n",
              "    </tr>\n",
              "  </thead>\n",
              "  <tbody>\n",
              "    <tr>\n",
              "      <th>0</th>\n",
              "      <td>Aston Martin Lagonda Global Holdings manufactu...</td>\n",
              "      <td>Automotive - Car Manufacturing</td>\n",
              "      <td>NaN</td>\n",
              "      <td>NaN</td>\n",
              "      <td>NaN</td>\n",
              "    </tr>\n",
              "    <tr>\n",
              "      <th>1</th>\n",
              "      <td>Fiat Chrysler Automobiles designs, engineers, ...</td>\n",
              "      <td>Automotive - Car Manufacturing</td>\n",
              "      <td>NaN</td>\n",
              "      <td>NaN</td>\n",
              "      <td>NaN</td>\n",
              "    </tr>\n",
              "    <tr>\n",
              "      <th>2</th>\n",
              "      <td>Ford Motor Company, an automotive company, dev...</td>\n",
              "      <td>Automotive - Car Manufacturing</td>\n",
              "      <td>access</td>\n",
              "      <td>NaN</td>\n",
              "      <td>NaN</td>\n",
              "    </tr>\n",
              "    <tr>\n",
              "      <th>3</th>\n",
              "      <td>General Motors is a Detroit-based mutinational...</td>\n",
              "      <td>Automotive - Car Manufacturing</td>\n",
              "      <td>access</td>\n",
              "      <td>NaN</td>\n",
              "      <td>NaN</td>\n",
              "    </tr>\n",
              "    <tr>\n",
              "      <th>4</th>\n",
              "      <td>NaN</td>\n",
              "      <td>Civic, Non-Profit and Membership Groups</td>\n",
              "      <td>benefits, website, leaving, provider, cancel, ...</td>\n",
              "      <td>NaN</td>\n",
              "      <td>NaN</td>\n",
              "    </tr>\n",
              "    <tr>\n",
              "      <th>...</th>\n",
              "      <td>...</td>\n",
              "      <td>...</td>\n",
              "      <td>...</td>\n",
              "      <td>...</td>\n",
              "      <td>...</td>\n",
              "    </tr>\n",
              "    <tr>\n",
              "      <th>2120</th>\n",
              "      <td>JetBlue airways to bring humanity back to air ...</td>\n",
              "      <td>Transportation - Airline</td>\n",
              "      <td>NaN</td>\n",
              "      <td>NaN</td>\n",
              "      <td>NaN</td>\n",
              "    </tr>\n",
              "    <tr>\n",
              "      <th>2121</th>\n",
              "      <td>Southwest Airlines (NYSE: LUV) continues to di...</td>\n",
              "      <td>Transportation - Airline</td>\n",
              "      <td>NaN</td>\n",
              "      <td>NaN</td>\n",
              "      <td>NaN</td>\n",
              "    </tr>\n",
              "    <tr>\n",
              "      <th>2122</th>\n",
              "      <td>United Airlines and United Express operate app...</td>\n",
              "      <td>Transportation - Airline</td>\n",
              "      <td>NaN</td>\n",
              "      <td>NaN</td>\n",
              "      <td>NaN</td>\n",
              "    </tr>\n",
              "    <tr>\n",
              "      <th>2123</th>\n",
              "      <td>FedEx Corporation provides customers and busin...</td>\n",
              "      <td>Transportation - Shipping</td>\n",
              "      <td>NaN</td>\n",
              "      <td>NaN</td>\n",
              "      <td>NaN</td>\n",
              "    </tr>\n",
              "    <tr>\n",
              "      <th>2124</th>\n",
              "      <td>United Parcel Service (UPS) is a package deliv...</td>\n",
              "      <td>Transportation - Shipping</td>\n",
              "      <td>NaN</td>\n",
              "      <td>NaN</td>\n",
              "      <td>NaN</td>\n",
              "    </tr>\n",
              "  </tbody>\n",
              "</table>\n",
              "<p>2125 rows × 5 columns</p>\n",
              "</div>"
            ],
            "text/plain": [
              "                                     org_cb_description  ... metadesc\n",
              "0     Aston Martin Lagonda Global Holdings manufactu...  ...      NaN\n",
              "1     Fiat Chrysler Automobiles designs, engineers, ...  ...      NaN\n",
              "2     Ford Motor Company, an automotive company, dev...  ...      NaN\n",
              "3     General Motors is a Detroit-based mutinational...  ...      NaN\n",
              "4                                                   NaN  ...      NaN\n",
              "...                                                 ...  ...      ...\n",
              "2120  JetBlue airways to bring humanity back to air ...  ...      NaN\n",
              "2121  Southwest Airlines (NYSE: LUV) continues to di...  ...      NaN\n",
              "2122  United Airlines and United Express operate app...  ...      NaN\n",
              "2123  FedEx Corporation provides customers and busin...  ...      NaN\n",
              "2124  United Parcel Service (UPS) is a package deliv...  ...      NaN\n",
              "\n",
              "[2125 rows x 5 columns]"
            ]
          },
          "metadata": {},
          "execution_count": 12
        }
      ]
    },
    {
      "cell_type": "code",
      "metadata": {
        "colab": {
          "base_uri": "https://localhost:8080/"
        },
        "id": "E2YDxdEHk9RN",
        "outputId": "4c158c8f-6953-456c-d092-a63eb81d5094"
      },
      "source": [
        "training_df['description_combined'] = training_df[['org_cb_description', 'keyword', 'metakeyword','metadesc']].fillna('').agg(' '.join, axis=1)"
      ],
      "execution_count": 13,
      "outputs": [
        {
          "output_type": "stream",
          "text": [
            "/usr/local/lib/python3.7/dist-packages/ipykernel_launcher.py:1: SettingWithCopyWarning: \n",
            "A value is trying to be set on a copy of a slice from a DataFrame.\n",
            "Try using .loc[row_indexer,col_indexer] = value instead\n",
            "\n",
            "See the caveats in the documentation: https://pandas.pydata.org/pandas-docs/stable/user_guide/indexing.html#returning-a-view-versus-a-copy\n",
            "  \"\"\"Entry point for launching an IPython kernel.\n"
          ],
          "name": "stderr"
        }
      ]
    },
    {
      "cell_type": "code",
      "metadata": {
        "colab": {
          "base_uri": "https://localhost:8080/"
        },
        "id": "o5pJOOitmep_",
        "outputId": "39a65baf-ed1f-40ad-eaa2-76b26ef7d73d"
      },
      "source": [
        "training_df.dtypes"
      ],
      "execution_count": 14,
      "outputs": [
        {
          "output_type": "execute_result",
          "data": {
            "text/plain": [
              "org_cb_description      object\n",
              "org_new_industry        object\n",
              "keyword                 object\n",
              "metakeyword             object\n",
              "metadesc                object\n",
              "description_combined    object\n",
              "dtype: object"
            ]
          },
          "metadata": {},
          "execution_count": 14
        }
      ]
    },
    {
      "cell_type": "code",
      "metadata": {
        "colab": {
          "base_uri": "https://localhost:8080/",
          "height": 419
        },
        "id": "ceoJg2R-uXGQ",
        "outputId": "cf364d97-c2d7-43db-f6cf-8839ecae05eb"
      },
      "source": [
        "train_df=training_df.loc[:,['org_new_industry','description_combined']]\n",
        "train_df"
      ],
      "execution_count": 15,
      "outputs": [
        {
          "output_type": "execute_result",
          "data": {
            "text/html": [
              "<div>\n",
              "<style scoped>\n",
              "    .dataframe tbody tr th:only-of-type {\n",
              "        vertical-align: middle;\n",
              "    }\n",
              "\n",
              "    .dataframe tbody tr th {\n",
              "        vertical-align: top;\n",
              "    }\n",
              "\n",
              "    .dataframe thead th {\n",
              "        text-align: right;\n",
              "    }\n",
              "</style>\n",
              "<table border=\"1\" class=\"dataframe\">\n",
              "  <thead>\n",
              "    <tr style=\"text-align: right;\">\n",
              "      <th></th>\n",
              "      <th>org_new_industry</th>\n",
              "      <th>description_combined</th>\n",
              "    </tr>\n",
              "  </thead>\n",
              "  <tbody>\n",
              "    <tr>\n",
              "      <th>0</th>\n",
              "      <td>Automotive - Car Manufacturing</td>\n",
              "      <td>Aston Martin Lagonda Global Holdings manufactu...</td>\n",
              "    </tr>\n",
              "    <tr>\n",
              "      <th>1</th>\n",
              "      <td>Automotive - Car Manufacturing</td>\n",
              "      <td>Fiat Chrysler Automobiles designs, engineers, ...</td>\n",
              "    </tr>\n",
              "    <tr>\n",
              "      <th>2</th>\n",
              "      <td>Automotive - Car Manufacturing</td>\n",
              "      <td>Ford Motor Company, an automotive company, dev...</td>\n",
              "    </tr>\n",
              "    <tr>\n",
              "      <th>3</th>\n",
              "      <td>Automotive - Car Manufacturing</td>\n",
              "      <td>General Motors is a Detroit-based mutinational...</td>\n",
              "    </tr>\n",
              "    <tr>\n",
              "      <th>4</th>\n",
              "      <td>Civic, Non-Profit and Membership Groups</td>\n",
              "      <td>benefits, website, leaving, provider, cancel,...</td>\n",
              "    </tr>\n",
              "    <tr>\n",
              "      <th>...</th>\n",
              "      <td>...</td>\n",
              "      <td>...</td>\n",
              "    </tr>\n",
              "    <tr>\n",
              "      <th>2120</th>\n",
              "      <td>Transportation - Airline</td>\n",
              "      <td>JetBlue airways to bring humanity back to air ...</td>\n",
              "    </tr>\n",
              "    <tr>\n",
              "      <th>2121</th>\n",
              "      <td>Transportation - Airline</td>\n",
              "      <td>Southwest Airlines (NYSE: LUV) continues to di...</td>\n",
              "    </tr>\n",
              "    <tr>\n",
              "      <th>2122</th>\n",
              "      <td>Transportation - Airline</td>\n",
              "      <td>United Airlines and United Express operate app...</td>\n",
              "    </tr>\n",
              "    <tr>\n",
              "      <th>2123</th>\n",
              "      <td>Transportation - Shipping</td>\n",
              "      <td>FedEx Corporation provides customers and busin...</td>\n",
              "    </tr>\n",
              "    <tr>\n",
              "      <th>2124</th>\n",
              "      <td>Transportation - Shipping</td>\n",
              "      <td>United Parcel Service (UPS) is a package deliv...</td>\n",
              "    </tr>\n",
              "  </tbody>\n",
              "</table>\n",
              "<p>2125 rows × 2 columns</p>\n",
              "</div>"
            ],
            "text/plain": [
              "                             org_new_industry                               description_combined\n",
              "0              Automotive - Car Manufacturing  Aston Martin Lagonda Global Holdings manufactu...\n",
              "1              Automotive - Car Manufacturing  Fiat Chrysler Automobiles designs, engineers, ...\n",
              "2              Automotive - Car Manufacturing  Ford Motor Company, an automotive company, dev...\n",
              "3              Automotive - Car Manufacturing  General Motors is a Detroit-based mutinational...\n",
              "4     Civic, Non-Profit and Membership Groups   benefits, website, leaving, provider, cancel,...\n",
              "...                                       ...                                                ...\n",
              "2120                 Transportation - Airline  JetBlue airways to bring humanity back to air ...\n",
              "2121                 Transportation - Airline  Southwest Airlines (NYSE: LUV) continues to di...\n",
              "2122                 Transportation - Airline  United Airlines and United Express operate app...\n",
              "2123                Transportation - Shipping  FedEx Corporation provides customers and busin...\n",
              "2124                Transportation - Shipping  United Parcel Service (UPS) is a package deliv...\n",
              "\n",
              "[2125 rows x 2 columns]"
            ]
          },
          "metadata": {},
          "execution_count": 15
        }
      ]
    },
    {
      "cell_type": "code",
      "metadata": {
        "colab": {
          "base_uri": "https://localhost:8080/"
        },
        "id": "nquYDTGunxQ1",
        "outputId": "49978b60-fe0e-4390-9096-3923678d4068"
      },
      "source": [
        ""
      ],
      "execution_count": 8,
      "outputs": [
        {
          "output_type": "stream",
          "text": [
            "--2021-08-27 04:37:23--  http://setup.johnsnowlabs.com/colab.sh\n",
            "Resolving setup.johnsnowlabs.com (setup.johnsnowlabs.com)... 51.158.130.125\n",
            "Connecting to setup.johnsnowlabs.com (setup.johnsnowlabs.com)|51.158.130.125|:80... connected.\n",
            "HTTP request sent, awaiting response... 302 Moved Temporarily\n",
            "Location: https://raw.githubusercontent.com/JohnSnowLabs/spark-nlp/master/scripts/colab_setup.sh [following]\n",
            "--2021-08-27 04:37:24--  https://raw.githubusercontent.com/JohnSnowLabs/spark-nlp/master/scripts/colab_setup.sh\n",
            "Resolving raw.githubusercontent.com (raw.githubusercontent.com)... 185.199.108.133, 185.199.109.133, 185.199.111.133, ...\n",
            "Connecting to raw.githubusercontent.com (raw.githubusercontent.com)|185.199.108.133|:443... connected.\n",
            "HTTP request sent, awaiting response... 200 OK\n",
            "Length: 1608 (1.6K) [text/plain]\n",
            "Saving to: ‘STDOUT’\n",
            "\n",
            "-                   100%[===================>]   1.57K  --.-KB/s    in 0s      \n",
            "\n",
            "2021-08-27 04:37:24 (27.5 MB/s) - written to stdout [1608/1608]\n",
            "\n",
            "setup Colab for PySpark 3.1.2 and Spark NLP 3.2.1\n",
            "Get:1 https://cloud.r-project.org/bin/linux/ubuntu bionic-cran40/ InRelease [3,626 B]\n",
            "Ign:2 https://developer.download.nvidia.com/compute/cuda/repos/ubuntu1804/x86_64  InRelease\n",
            "Get:3 http://security.ubuntu.com/ubuntu bionic-security InRelease [88.7 kB]\n",
            "Ign:4 https://developer.download.nvidia.com/compute/machine-learning/repos/ubuntu1804/x86_64  InRelease\n",
            "Hit:5 https://developer.download.nvidia.com/compute/cuda/repos/ubuntu1804/x86_64  Release\n",
            "Get:6 https://cloud.r-project.org/bin/linux/ubuntu bionic-cran40/ Packages [66.6 kB]\n",
            "Hit:7 http://archive.ubuntu.com/ubuntu bionic InRelease\n",
            "Hit:8 http://ppa.launchpad.net/c2d4u.team/c2d4u4.0+/ubuntu bionic InRelease\n",
            "Hit:9 https://developer.download.nvidia.com/compute/machine-learning/repos/ubuntu1804/x86_64  Release\n",
            "Get:11 http://archive.ubuntu.com/ubuntu bionic-updates InRelease [88.7 kB]\n",
            "Hit:12 http://ppa.launchpad.net/cran/libgit2/ubuntu bionic InRelease\n",
            "Hit:13 http://ppa.launchpad.net/deadsnakes/ppa/ubuntu bionic InRelease\n",
            "Get:15 http://archive.ubuntu.com/ubuntu bionic-backports InRelease [74.6 kB]\n",
            "Get:16 http://security.ubuntu.com/ubuntu bionic-security/main amd64 Packages [2,294 kB]\n",
            "Get:17 http://ppa.launchpad.net/graphics-drivers/ppa/ubuntu bionic InRelease [21.3 kB]\n",
            "Get:18 http://archive.ubuntu.com/ubuntu bionic-updates/main amd64 Packages [2,730 kB]\n",
            "Get:19 http://security.ubuntu.com/ubuntu bionic-security/universe amd64 Packages [1,426 kB]\n",
            "Get:20 http://ppa.launchpad.net/graphics-drivers/ppa/ubuntu bionic/main amd64 Packages [41.6 kB]\n",
            "Get:21 http://archive.ubuntu.com/ubuntu bionic-updates/universe amd64 Packages [2,199 kB]\n",
            "Fetched 9,034 kB in 4s (2,218 kB/s)\n",
            "Reading package lists... Done\n",
            "\u001b[K     |████████████████████████████████| 212.4 MB 64 kB/s \n",
            "\u001b[K     |████████████████████████████████| 116 kB 54.3 MB/s \n",
            "\u001b[K     |████████████████████████████████| 198 kB 59.0 MB/s \n",
            "\u001b[?25h  Building wheel for pyspark (setup.py) ... \u001b[?25l\u001b[?25hdone\n"
          ],
          "name": "stdout"
        }
      ]
    },
    {
      "cell_type": "code",
      "metadata": {
        "id": "5q0dKUHWnmtg"
      },
      "source": [
        "#start spark session\n",
        "import sparknlp\n",
        "spark = sparknlp.start() \n"
      ],
      "execution_count": 16,
      "outputs": []
    },
    {
      "cell_type": "markdown",
      "metadata": {
        "id": "O7VCgnqg70aM"
      },
      "source": [
        "Pretrained models"
      ]
    },
    {
      "cell_type": "markdown",
      "metadata": {
        "id": "nob_fMMNFCqV"
      },
      "source": [
        "Text Classification with Classifier with SparkNLP"
      ]
    },
    {
      "cell_type": "code",
      "metadata": {
        "id": "Cd7V7OrdneRc"
      },
      "source": [
        "document = DocumentAssembler()\\\n",
        "    .setInputCol(\"description_combined\")\\\n",
        "    .setOutputCol(\"document\")"
      ],
      "execution_count": 17,
      "outputs": []
    },
    {
      "cell_type": "code",
      "metadata": {
        "colab": {
          "base_uri": "https://localhost:8080/"
        },
        "id": "vCCDdv19obDn",
        "outputId": "642c6818-9a15-4079-b7d4-43a5b9c31aad"
      },
      "source": [
        "use = UniversalSentenceEncoder.pretrained()\\\n",
        " .setInputCols([\"document\"])\\\n",
        " .setOutputCol(\"sentence_embeddings\")"
      ],
      "execution_count": 18,
      "outputs": [
        {
          "output_type": "stream",
          "text": [
            "tfhub_use download started this may take some time.\n",
            "Approximate size to download 923.7 MB\n",
            "[OK!]\n"
          ],
          "name": "stdout"
        }
      ]
    },
    {
      "cell_type": "code",
      "metadata": {
        "id": "oj07-OJEpu8l"
      },
      "source": [
        "classsifierdl = ClassifierDLApproach()\\\n",
        "  .setInputCols([\"sentence_embeddings\"])\\\n",
        "  .setOutputCol(\"class\")\\\n",
        "  .setLabelColumn(\"org_new_industry\")\\\n",
        "  .setMaxEpochs(5)\\\n",
        "  .setEnableOutputLogs(True)"
      ],
      "execution_count": 19,
      "outputs": []
    },
    {
      "cell_type": "code",
      "metadata": {
        "id": "iC20rjZhp02J"
      },
      "source": [
        "use_clf_pipeline = Pipeline(\n",
        "    stages = [\n",
        "        document,\n",
        "        use,\n",
        "        classsifierdl\n",
        "    ])"
      ],
      "execution_count": 20,
      "outputs": []
    },
    {
      "cell_type": "code",
      "metadata": {
        "id": "eQoFu2gXqZ0I"
      },
      "source": [
        "from pyspark.sql import SparkSession\n",
        "\n",
        "spark = SparkSession.builder \\\n",
        "    .master(\"local[1]\") \\\n",
        "    .appName(\"SparkByExamples.com\") \\\n",
        "    .getOrCreate()\n",
        "\n",
        "train_sparkdf=spark.createDataFrame(train_df) "
      ],
      "execution_count": 21,
      "outputs": []
    },
    {
      "cell_type": "code",
      "metadata": {
        "id": "yuXtkx3Hp5ZY"
      },
      "source": [
        "use_pipelineModel = use_clf_pipeline.fit(train_sparkdf)"
      ],
      "execution_count": null,
      "outputs": []
    },
    {
      "cell_type": "code",
      "metadata": {
        "colab": {
          "base_uri": "https://localhost:8080/"
        },
        "id": "nKX059c70wFE",
        "outputId": "cf72d01b-9eb8-40dc-c2d5-28512fe8f09d"
      },
      "source": [
        "!cat /root/annotator_logs/ClassifierDLApproach_c570d0becc72.log"
      ],
      "execution_count": null,
      "outputs": [
        {
          "output_type": "stream",
          "text": [
            "Training started - epochs: 5 - learning_rate: 0.005 - batch_size: 64 - training_examples: 2125 - classes: 90\n",
            "Epoch 0/5 - 0.66s - loss: 152.42564 - acc: 0.057291668 - batches: 34\n",
            "Epoch 1/5 - 0.44s - loss: 151.63655 - acc: 0.068655305 - batches: 34\n",
            "Epoch 2/5 - 0.45s - loss: 151.63655 - acc: 0.068655305 - batches: 34\n",
            "Epoch 3/5 - 0.40s - loss: 151.63655 - acc: 0.068655305 - batches: 34\n",
            "Epoch 4/5 - 0.40s - loss: 151.63655 - acc: 0.068655305 - batches: 34\n"
          ],
          "name": "stdout"
        }
      ]
    },
    {
      "cell_type": "markdown",
      "metadata": {
        "id": "-vDy37S9FY5S"
      },
      "source": [
        "Bert Sentence Embedding "
      ]
    },
    {
      "cell_type": "code",
      "metadata": {
        "id": "eF3Pb9m804oi"
      },
      "source": [
        "document = DocumentAssembler()\\\n",
        "    .setInputCol(\"description_combined\")\\\n",
        "    .setOutputCol(\"document\")"
      ],
      "execution_count": null,
      "outputs": []
    },
    {
      "cell_type": "code",
      "metadata": {
        "colab": {
          "base_uri": "https://localhost:8080/"
        },
        "id": "jZ2x1zoN1GuZ",
        "outputId": "997c6743-e5f9-4258-f9f5-54eb1230f609"
      },
      "source": [
        "bert_sent=BertSentenceEmbeddings.pretrained(\"sent_small_bert_L8_512\")\\\n",
        ".setInputCols([\"document\"])\\\n",
        ".setOutputCol(\"sentence_embeddings\")"
      ],
      "execution_count": null,
      "outputs": [
        {
          "output_type": "stream",
          "text": [
            "sent_small_bert_L8_512 download started this may take some time.\n",
            "Approximate size to download 149.1 MB\n",
            "[OK!]\n"
          ],
          "name": "stdout"
        }
      ]
    },
    {
      "cell_type": "code",
      "metadata": {
        "id": "Y88j_Dcq2Btp"
      },
      "source": [
        "classsifierd2 = ClassifierDLApproach()\\\n",
        "  .setInputCols([\"sentence_embeddings\"])\\\n",
        "  .setOutputCol(\"class\")\\\n",
        "  .setLabelColumn(\"org_new_industry\")\\\n",
        "  .setMaxEpochs(20)\\\n",
        "  .setEnableOutputLogs(True)"
      ],
      "execution_count": null,
      "outputs": []
    },
    {
      "cell_type": "code",
      "metadata": {
        "id": "StIZfgVk2LNi"
      },
      "source": [
        "bert_sent_clf_pipeline=Pipeline(\n",
        "    stages=\n",
        "    [document,bert_sent,classsifierd2])"
      ],
      "execution_count": null,
      "outputs": []
    },
    {
      "cell_type": "code",
      "metadata": {
        "id": "xi54yJzu3LbK"
      },
      "source": [
        "bert_sentPiplelineModel=bert_sent_clf_pipeline.fit(train_sparkdf)"
      ],
      "execution_count": null,
      "outputs": []
    },
    {
      "cell_type": "code",
      "metadata": {
        "colab": {
          "base_uri": "https://localhost:8080/"
        },
        "id": "bSHW0HRZ23L7",
        "outputId": "d63d0470-7c38-4c8f-f47a-2997c0f98a46"
      },
      "source": [
        "!cat /root/annotator_logs/ClassifierDLApproach_5546c333482b.log"
      ],
      "execution_count": null,
      "outputs": [
        {
          "output_type": "stream",
          "text": [
            "Training started - epochs: 20 - learning_rate: 0.005 - batch_size: 64 - training_examples: 2125 - classes: 90\n",
            "Epoch 0/20 - 0.53s - loss: 151.60966 - acc: 0.06767191 - batches: 34\n",
            "Epoch 1/20 - 0.39s - loss: 151.98505 - acc: 0.07149621 - batches: 34\n",
            "Epoch 2/20 - 0.40s - loss: 151.63652 - acc: 0.06581439 - batches: 34\n",
            "Epoch 3/20 - 0.39s - loss: 151.63655 - acc: 0.06581439 - batches: 34\n",
            "Epoch 4/20 - 0.40s - loss: 151.63655 - acc: 0.06581439 - batches: 34\n",
            "Epoch 5/20 - 0.40s - loss: 151.63655 - acc: 0.06581439 - batches: 34\n",
            "Epoch 6/20 - 0.39s - loss: 151.63655 - acc: 0.06581439 - batches: 34\n",
            "Epoch 7/20 - 0.39s - loss: 151.63655 - acc: 0.06581439 - batches: 34\n",
            "Epoch 8/20 - 0.39s - loss: 151.63655 - acc: 0.06581439 - batches: 34\n",
            "Epoch 9/20 - 0.38s - loss: 151.63655 - acc: 0.06581439 - batches: 34\n",
            "Epoch 10/20 - 0.38s - loss: 151.63655 - acc: 0.06581439 - batches: 34\n",
            "Epoch 11/20 - 0.39s - loss: 151.63655 - acc: 0.06581439 - batches: 34\n",
            "Epoch 12/20 - 0.39s - loss: 151.63655 - acc: 0.06581439 - batches: 34\n",
            "Epoch 13/20 - 0.38s - loss: 151.63655 - acc: 0.06581439 - batches: 34\n",
            "Epoch 14/20 - 0.38s - loss: 151.63655 - acc: 0.06581439 - batches: 34\n",
            "Epoch 15/20 - 0.38s - loss: 151.63655 - acc: 0.06581439 - batches: 34\n",
            "Epoch 16/20 - 0.38s - loss: 151.63655 - acc: 0.06581439 - batches: 34\n",
            "Epoch 17/20 - 0.38s - loss: 151.63655 - acc: 0.06581439 - batches: 34\n",
            "Epoch 18/20 - 0.38s - loss: 151.63655 - acc: 0.06581439 - batches: 34\n",
            "Epoch 19/20 - 0.38s - loss: 151.63655 - acc: 0.06581439 - batches: 34\n"
          ],
          "name": "stdout"
        }
      ]
    },
    {
      "cell_type": "markdown",
      "metadata": {
        "id": "XX3ip9DHFnhM"
      },
      "source": [
        "Using Glove Embeddings"
      ]
    },
    {
      "cell_type": "code",
      "metadata": {
        "colab": {
          "base_uri": "https://localhost:8080/"
        },
        "id": "QKmAynN6DQcs",
        "outputId": "c964327c-a9f5-41d1-ec0d-5f3d9f5071bc"
      },
      "source": [
        "document_assembler = DocumentAssembler() \\\n",
        "    .setInputCol(\"description_combined\") \\\n",
        "    .setOutputCol(\"document\")\n",
        "    \n",
        "tokenizer = Tokenizer() \\\n",
        "    .setInputCols([\"document\"]) \\\n",
        "    .setOutputCol(\"token\")\n",
        "      \n",
        "normalizer = Normalizer() \\\n",
        "    .setInputCols([\"token\"]) \\\n",
        "    .setOutputCol(\"normalized\")\n",
        "\n",
        "stopwords_cleaner = StopWordsCleaner()\\\n",
        "    .setInputCols(\"normalized\")\\\n",
        "    .setOutputCol(\"cleanTokens\")\\\n",
        "    .setCaseSensitive(False)\n",
        "\n",
        "lemma = LemmatizerModel.pretrained('lemma_antbnc') \\\n",
        "    .setInputCols([\"cleanTokens\"]) \\\n",
        "    .setOutputCol(\"lemma\")\n",
        "\n",
        "\n"
      ],
      "execution_count": null,
      "outputs": [
        {
          "output_type": "stream",
          "text": [
            "lemma_antbnc download started this may take some time.\n",
            "Approximate size to download 907.6 KB\n",
            "[OK!]\n"
          ],
          "name": "stdout"
        }
      ]
    },
    {
      "cell_type": "code",
      "metadata": {
        "colab": {
          "base_uri": "https://localhost:8080/"
        },
        "id": "9giuItL7D1kj",
        "outputId": "14fa33f7-d900-4093-dcf2-fba6f32e2ccd"
      },
      "source": [
        "glove_embeddings = WordEmbeddingsModel().pretrained() \\\n",
        "      .setInputCols([\"document\",'lemma'])\\\n",
        "      .setOutputCol(\"embeddings\")\\\n",
        "      .setCaseSensitive(False)\n",
        "\n",
        "embeddingsSentence = SentenceEmbeddings() \\\n",
        "      .setInputCols([\"document\", \"embeddings\"]) \\\n",
        "      .setOutputCol(\"sentence_embeddings\") \\\n",
        "      .setPoolingStrategy(\"AVERAGE\")\n",
        "\n",
        "classsifierd3 = ClassifierDLApproach()\\\n",
        "      .setInputCols([\"sentence_embeddings\"])\\\n",
        "      .setOutputCol(\"class\")\\\n",
        "      .setLabelColumn(\"org_new_industry\")\\\n",
        "      .setMaxEpochs(3)\\\n",
        "      .setEnableOutputLogs(True)\n",
        "      #.setOutputLogsPath('logs')\n",
        "\n",
        "clf_pipeline = Pipeline(\n",
        "    stages=[document_assembler, \n",
        "            tokenizer,\n",
        "            normalizer,\n",
        "            stopwords_cleaner, \n",
        "            lemma, \n",
        "            glove_embeddings,\n",
        "            embeddingsSentence,\n",
        "            classsifierd3])"
      ],
      "execution_count": null,
      "outputs": [
        {
          "output_type": "stream",
          "text": [
            "glove_100d download started this may take some time.\n",
            "Approximate size to download 145.3 MB\n",
            "[OK!]\n"
          ],
          "name": "stdout"
        }
      ]
    },
    {
      "cell_type": "code",
      "metadata": {
        "id": "OStVKi7pEELT"
      },
      "source": [
        "clf_pipelineModel = clf_pipeline.fit(train_sparkdf)"
      ],
      "execution_count": null,
      "outputs": []
    },
    {
      "cell_type": "code",
      "metadata": {
        "colab": {
          "base_uri": "https://localhost:8080/"
        },
        "id": "EuEEyXG5Ehih",
        "outputId": "9c9c1041-2670-4378-88ea-2ae8b622d9fd"
      },
      "source": [
        "!cat /root/annotator_logs/ClassifierDLApproach_ad793ec19836.log"
      ],
      "execution_count": null,
      "outputs": [
        {
          "output_type": "stream",
          "text": [
            "Training started - epochs: 3 - learning_rate: 0.005 - batch_size: 64 - training_examples: 2125 - classes: 90\n",
            "Epoch 0/3 - 0.59s - loss: 150.31068 - acc: 0.053430945 - batches: 34\n",
            "Epoch 1/3 - 0.53s - loss: 150.63655 - acc: 0.058165792 - batches: 34\n",
            "Epoch 2/3 - 0.41s - loss: 150.63657 - acc: 0.058165792 - batches: 34\n"
          ],
          "name": "stdout"
        }
      ]
    },
    {
      "cell_type": "markdown",
      "metadata": {
        "id": "klNqA0dm7ch8"
      },
      "source": [
        "Text preprocessig Spark NLP, Count Vectorizer and Logistic Regression"
      ]
    },
    {
      "cell_type": "code",
      "metadata": {
        "colab": {
          "base_uri": "https://localhost:8080/"
        },
        "id": "M_RZTKQjsv-6",
        "outputId": "9cbb0a87-cfc8-4cdd-b634-4848b11561f4"
      },
      "source": [
        "\n",
        "from pyspark.ml.feature import CountVectorizer, HashingTF, IDF, OneHotEncoder, StringIndexer, VectorAssembler, SQLTransformer\n",
        "document_assembler = DocumentAssembler() \\\n",
        "    .setInputCol(\"description_combined\") \\\n",
        "    .setOutputCol(\"document\")\n",
        "    \n",
        "tokenizer = Tokenizer() \\\n",
        "    .setInputCols([\"document\"]) \\\n",
        "    .setOutputCol(\"token\")\n",
        "      \n",
        "normalizer = Normalizer() \\\n",
        "    .setInputCols([\"token\"]) \\\n",
        "    .setOutputCol(\"normalized\")\n",
        "\n",
        "stopwords_cleaner = StopWordsCleaner()\\\n",
        "    .setInputCols(\"normalized\")\\\n",
        "    .setOutputCol(\"cleanTokens\")\\\n",
        "    .setCaseSensitive(False)\n",
        "\n",
        "lemma = LemmatizerModel.pretrained('lemma_antbnc') \\\n",
        "    .setInputCols([\"cleanTokens\"]) \\\n",
        "    .setOutputCol(\"lemma\")\n",
        "\n",
        "finisher = Finisher() \\\n",
        "      .setInputCols([\"lemma\"]) \\\n",
        "      .setOutputCols([\"token_features\"]) \\\n",
        "      .setOutputAsArray(True) \\\n",
        "      .setCleanAnnotations(False)\n",
        "\n",
        "countVectors = CountVectorizer(inputCol=\"token_features\", outputCol=\"features\", vocabSize=10000, minDF=5)\n",
        "label_stringIdx = StringIndexer(inputCol = \"org_new_industry\", outputCol = \"label\")\n",
        "nlp_pipeline = Pipeline(\n",
        "    stages=[document_assembler, \n",
        "            tokenizer,\n",
        "            normalizer,\n",
        "            stopwords_cleaner, \n",
        "            lemma, \n",
        "            finisher,\n",
        "            countVectors,\n",
        "            label_stringIdx])"
      ],
      "execution_count": 22,
      "outputs": [
        {
          "output_type": "stream",
          "text": [
            "lemma_antbnc download started this may take some time.\n",
            "Approximate size to download 907.6 KB\n",
            "[OK!]\n"
          ],
          "name": "stdout"
        }
      ]
    },
    {
      "cell_type": "code",
      "metadata": {
        "colab": {
          "base_uri": "https://localhost:8080/"
        },
        "id": "X9ZqhqzZ621h",
        "outputId": "5f5f26e4-91c5-4a8a-b076-f71ef50a62ee"
      },
      "source": [
        "log_model = nlp_pipeline.fit(train_sparkdf)\n",
        "\n",
        "processed = log_model.transform(train_sparkdf)\n",
        "\n",
        "processed.count()"
      ],
      "execution_count": 23,
      "outputs": [
        {
          "output_type": "execute_result",
          "data": {
            "text/plain": [
              "2125"
            ]
          },
          "metadata": {},
          "execution_count": 23
        }
      ]
    },
    {
      "cell_type": "code",
      "metadata": {
        "colab": {
          "base_uri": "https://localhost:8080/"
        },
        "id": "ffrrirp-7CNw",
        "outputId": "cd253303-a043-469d-968f-1c70cca5712a"
      },
      "source": [
        "(trainingData, testData) = processed.randomSplit([0.7, 0.3], seed = 100)\n",
        "print(\"Training Dataset Count: \" + str(trainingData.count()))\n",
        "print(\"Test Dataset Count: \" + str(testData.count()))"
      ],
      "execution_count": 24,
      "outputs": [
        {
          "output_type": "stream",
          "text": [
            "Training Dataset Count: 1493\n",
            "Test Dataset Count: 632\n"
          ],
          "name": "stdout"
        }
      ]
    },
    {
      "cell_type": "code",
      "metadata": {
        "colab": {
          "base_uri": "https://localhost:8080/"
        },
        "id": "ZTLz2bMD7Fic",
        "outputId": "64a30fbf-5757-4c33-c294-d1b428f735b9"
      },
      "source": [
        "from pyspark.ml.classification import LogisticRegression\n",
        "\n",
        "lr = LogisticRegression(maxIter=10, regParam=0.3, elasticNetParam=0)\n",
        "\n",
        "lrModel = lr.fit(trainingData)\n",
        "\n",
        "predictions = lrModel.transform(testData)\n",
        "\n",
        "predictions.filter(predictions['prediction'] == 32.0) \\\n",
        "    .select(\"description_combined\",\"org_new_industry\",\"probability\",\"label\",\"prediction\") \\\n",
        "    .orderBy(\"probability\", ascending=False) \\\n",
        "    .show(n = 10, truncate = 30)"
      ],
      "execution_count": 25,
      "outputs": [
        {
          "output_type": "stream",
          "text": [
            "+------------------------------+------------------------------+------------------------------+-----+----------+\n",
            "|          description_combined|              org_new_industry|                   probability|label|prediction|\n",
            "+------------------------------+------------------------------+------------------------------+-----+----------+\n",
            "| management, software, brav...|  SAAS - Contractor Engagement|[0.05234785735974428,0.0368...| 22.0|      32.0|\n",
            "| nature, geonavtarget, http...|Civic, Non-Profit and Membe...|[0.03736168911371134,0.0080...| 13.0|      32.0|\n",
            "| carbon, removal, slide, co...|Energy and Environmental - ...|[0.011745997586741034,0.013...| 32.0|      32.0|\n",
            "|3Degrees is a provider of c...|Energy and Environmental - ...|[0.004451716914380962,2.745...| 32.0|      32.0|\n",
            "| carbon, offsets, methane, ...|Energy and Environmental - ...|[3.009146850515165E-4,6.826...| 32.0|      32.0|\n",
            "+------------------------------+------------------------------+------------------------------+-----+----------+\n",
            "\n"
          ],
          "name": "stdout"
        }
      ]
    },
    {
      "cell_type": "code",
      "metadata": {
        "colab": {
          "base_uri": "https://localhost:8080/"
        },
        "id": "o5uIo3DI7GQ5",
        "outputId": "f187e436-7c22-42fe-8c64-fa5b5515c774"
      },
      "source": [
        "#Evaluate multiclass predictions\n",
        "from pyspark.ml.evaluation import MulticlassClassificationEvaluator\n",
        "\n",
        "evaluator = MulticlassClassificationEvaluator(predictionCol=\"prediction\")\n",
        "\n",
        "evaluator.evaluate(predictions)"
      ],
      "execution_count": 26,
      "outputs": [
        {
          "output_type": "execute_result",
          "data": {
            "text/plain": [
              "0.2547725718659396"
            ]
          },
          "metadata": {},
          "execution_count": 26
        }
      ]
    },
    {
      "cell_type": "code",
      "metadata": {
        "colab": {
          "base_uri": "https://localhost:8080/"
        },
        "id": "D_PeMTLr9muJ",
        "outputId": "759aef2a-f69a-4d7b-869c-ae347a31df83"
      },
      "source": [
        "#Accuracy\n",
        "from sklearn.metrics import confusion_matrix, classification_report, accuracy_score\n",
        "y_true = predictions.select(\"label\")\n",
        "y_true = y_true.toPandas()\n",
        "\n",
        "y_pred = predictions.select(\"prediction\")\n",
        "y_pred = y_pred.toPandas()\n",
        "print(accuracy_score(y_true.label, y_pred.prediction))"
      ],
      "execution_count": 38,
      "outputs": [
        {
          "output_type": "stream",
          "text": [
            "0.28955696202531644\n"
          ],
          "name": "stdout"
        }
      ]
    },
    {
      "cell_type": "code",
      "metadata": {
        "colab": {
          "base_uri": "https://localhost:8080/"
        },
        "id": "S6bjTo4V7M8k",
        "outputId": "19bce244-f33c-44b7-ae07-ec6fbb401c16"
      },
      "source": [
        "from sklearn.metrics import confusion_matrix, classification_report, accuracy_score\n",
        "y_true = predictions.select(\"label\")\n",
        "y_true = y_true.toPandas()\n",
        "\n",
        "y_pred = predictions.select(\"prediction\")\n",
        "y_pred = y_pred.toPandas()\n",
        "#class labels and counts\n",
        "y_pred.prediction.value_counts()"
      ],
      "execution_count": 27,
      "outputs": [
        {
          "output_type": "execute_result",
          "data": {
            "text/plain": [
              "0.0     257\n",
              "2.0      84\n",
              "1.0      53\n",
              "3.0      44\n",
              "4.0      32\n",
              "5.0      25\n",
              "7.0      14\n",
              "6.0      14\n",
              "11.0     11\n",
              "9.0      11\n",
              "13.0     10\n",
              "16.0     10\n",
              "10.0      8\n",
              "19.0      6\n",
              "14.0      6\n",
              "27.0      5\n",
              "20.0      5\n",
              "32.0      5\n",
              "24.0      4\n",
              "48.0      3\n",
              "36.0      3\n",
              "23.0      3\n",
              "25.0      2\n",
              "22.0      2\n",
              "15.0      2\n",
              "50.0      2\n",
              "47.0      1\n",
              "44.0      1\n",
              "58.0      1\n",
              "30.0      1\n",
              "43.0      1\n",
              "69.0      1\n",
              "65.0      1\n",
              "29.0      1\n",
              "56.0      1\n",
              "26.0      1\n",
              "60.0      1\n",
              "Name: prediction, dtype: int64"
            ]
          },
          "metadata": {},
          "execution_count": 27
        }
      ]
    },
    {
      "cell_type": "markdown",
      "metadata": {
        "id": "aflKIjYj8YTC"
      },
      "source": [
        "Logistic Regression & TFIDF "
      ]
    },
    {
      "cell_type": "code",
      "metadata": {
        "colab": {
          "base_uri": "https://localhost:8080/"
        },
        "id": "5LdDE8gE8AH0",
        "outputId": "758bc090-567b-4caa-cd8d-08275734b29f"
      },
      "source": [
        "from pyspark.ml.feature import HashingTF, IDF\n",
        "\n",
        "hashingTF = HashingTF(inputCol=\"token_features\", outputCol=\"rawFeatures\", numFeatures=10000)\n",
        "\n",
        "idf = IDF(inputCol=\"rawFeatures\", outputCol=\"features\", minDocFreq=5) #minDocFreq: remove sparse terms\n",
        "\n",
        "nlp_pipeline_tf = Pipeline(\n",
        "    stages=[document_assembler, \n",
        "            tokenizer,\n",
        "            normalizer,\n",
        "            stopwords_cleaner, \n",
        "            lemma, \n",
        "            finisher,\n",
        "            hashingTF,\n",
        "            idf,\n",
        "            label_stringIdx])\n",
        "\n",
        "model_tf = nlp_pipeline_tf.fit(train_sparkdf)\n",
        "\n",
        "processed_tf = model_tf.transform(train_sparkdf)\n",
        "\n",
        "processed_tf.count()"
      ],
      "execution_count": 28,
      "outputs": [
        {
          "output_type": "execute_result",
          "data": {
            "text/plain": [
              "2125"
            ]
          },
          "metadata": {},
          "execution_count": 28
        }
      ]
    },
    {
      "cell_type": "code",
      "metadata": {
        "colab": {
          "base_uri": "https://localhost:8080/"
        },
        "id": "soAesEvJ9Byn",
        "outputId": "eecc698c-6ccd-48eb-cc1d-3126686c4bc9"
      },
      "source": [
        "(trainingData, testData) = processed_tf.randomSplit([0.7, 0.3], seed = 100)\n",
        "print(\"Training Dataset Count: \" + str(trainingData.count()))\n",
        "print(\"Test Dataset Count: \" + str(testData.count()))"
      ],
      "execution_count": 44,
      "outputs": [
        {
          "output_type": "stream",
          "text": [
            "Training Dataset Count: 1493\n",
            "Test Dataset Count: 632\n"
          ],
          "name": "stdout"
        }
      ]
    },
    {
      "cell_type": "code",
      "metadata": {
        "colab": {
          "base_uri": "https://localhost:8080/"
        },
        "id": "nlnRcv2P9OF8",
        "outputId": "666678ae-47e5-40a7-ace9-0917546661db"
      },
      "source": [
        "\n",
        "lr_tf = lr.fit(trainingData)\n",
        "\n",
        "predictions_tf = lr_tf.transform(testData)\n",
        "\n",
        "predictions_tf.select(\"description_combined\",\"org_new_industry\",\"probability\",\"label\",\"prediction\") \\\n",
        "    .orderBy(\"probability\", ascending=False) \\\n",
        "    .show(n = 10, truncate = 30)"
      ],
      "execution_count": 45,
      "outputs": [
        {
          "output_type": "stream",
          "text": [
            "+------------------------------+------------------------------+------------------------------+-----+----------+\n",
            "|          description_combined|              org_new_industry|                   probability|label|prediction|\n",
            "+------------------------------+------------------------------+------------------------------+-----+----------+\n",
            "| sefcu, online, tuesday, we...|Finance/Banking - Credit Union|[0.9911761776840043,3.52518...| 24.0|       0.0|\n",
            "|Infor provides enterprise s...|SAAS - Leisure, Sports and ...|[0.7210925533063297,2.10307...| 57.0|       0.0|\n",
            "|MedPro Healthcare Staffing ...|Corporate Services - Consul...|[0.6544045096437753,0.00702...|  0.0|       0.0|\n",
            "|Modern Health is a mental w...|Leisure, Sports and Recreat...|[0.6129711349705067,0.01035...| 38.0|       0.0|\n",
            "| created, public, insights,...|Energy and Environmental - ...|[0.5604486377860693,0.00738...| 36.0|       0.0|\n",
            "| insights, digital, energy,...|Corporate Services - Consul...|[0.557076343128009,0.008085...|  0.0|       0.0|\n",
            "| healthcare, staffing, work...|Corporate Services - Consul...|[0.5460427309745514,0.01325...|  0.0|       0.0|\n",
            "|Regalix is a global leader ...|SAAS - Sales  - AI/Sales In...|[0.5220133037850976,0.00697...| 20.0|       0.0|\n",
            "| leidos, mission, moderniza...|Corporate Services - Consul...|[0.5164352647792437,0.00775...|  0.0|       0.0|\n",
            "| section, toggle, managemen...|Corporate Services - Consul...|[0.4156860276543967,0.00650...|  0.0|       0.0|\n",
            "+------------------------------+------------------------------+------------------------------+-----+----------+\n",
            "only showing top 10 rows\n",
            "\n"
          ],
          "name": "stdout"
        }
      ]
    },
    {
      "cell_type": "code",
      "metadata": {
        "colab": {
          "base_uri": "https://localhost:8080/"
        },
        "id": "BpND4jry9oFz",
        "outputId": "50c07f64-9153-4e28-f31e-658a572524f1"
      },
      "source": [
        "evaluator.evaluate(predictions_tf)\n",
        "\n",
        "y_true = predictions_tf.select(\"label\")\n",
        "y_true = y_true.toPandas()\n",
        "\n",
        "y_pred = predictions_tf.select(\"prediction\")\n",
        "y_pred = y_pred.toPandas()\n",
        "\n",
        "\n",
        "print(accuracy_score(y_true.label, y_pred.prediction))"
      ],
      "execution_count": 40,
      "outputs": [
        {
          "output_type": "stream",
          "text": [
            "0.2674050632911392\n"
          ],
          "name": "stdout"
        }
      ]
    },
    {
      "cell_type": "markdown",
      "metadata": {
        "id": "fZxhgJlV_KKu"
      },
      "source": [
        "Random Forest"
      ]
    },
    {
      "cell_type": "code",
      "metadata": {
        "id": "K8A7aV9p991t"
      },
      "source": [
        "#Random Forest\n",
        "from pyspark.ml.classification import RandomForestClassifier\n",
        "\n",
        "rf = RandomForestClassifier(labelCol=\"label\", \\\n",
        "                            featuresCol=\"features\", \\\n",
        "                            numTrees = 100, \\\n",
        "                            maxDepth = 4, \\\n",
        "                            maxBins = 32)\n",
        "\n",
        "\n",
        "model_rf = rf.fit(trainingData)\n",
        "predictions_rf = model_rf.transform(testData)\n"
      ],
      "execution_count": 46,
      "outputs": []
    },
    {
      "cell_type": "code",
      "metadata": {
        "colab": {
          "base_uri": "https://localhost:8080/"
        },
        "id": "qpHMlMPPEXU1",
        "outputId": "8ef12079-2929-427a-a367-a9cedc9a5c8e"
      },
      "source": [
        "y_true = predictions_rf.select(\"label\")\n",
        "y_true = y_true.toPandas()\n",
        "\n",
        "y_pred = predictions_rf.select(\"prediction\")\n",
        "y_pred = y_pred.toPandas()\n",
        "print(accuracy_score(y_true.label, y_pred.prediction))"
      ],
      "execution_count": 47,
      "outputs": [
        {
          "output_type": "stream",
          "text": [
            "0.16455696202531644\n"
          ],
          "name": "stdout"
        }
      ]
    },
    {
      "cell_type": "markdown",
      "metadata": {
        "id": "CMuBJPcr_-dB"
      },
      "source": [
        "Sentence Embedding using Glove and Logistic regression"
      ]
    },
    {
      "cell_type": "code",
      "metadata": {
        "colab": {
          "base_uri": "https://localhost:8080/"
        },
        "id": "l93ImyfW_c5G",
        "outputId": "5e25b34f-8556-4fa8-e558-8e5bb7796452"
      },
      "source": [
        "document_assembler = DocumentAssembler() \\\n",
        "      .setInputCol(\"description_combined\") \\\n",
        "      .setOutputCol(\"document\")\n",
        "    \n",
        "tokenizer = Tokenizer() \\\n",
        "      .setInputCols([\"document\"]) \\\n",
        "      .setOutputCol(\"token\")\n",
        "    \n",
        "normalizer = Normalizer() \\\n",
        "      .setInputCols([\"token\"]) \\\n",
        "      .setOutputCol(\"normalized\")\n",
        "\n",
        "stopwords_cleaner = StopWordsCleaner()\\\n",
        "      .setInputCols(\"normalized\")\\\n",
        "      .setOutputCol(\"cleanTokens\")\\\n",
        "      .setCaseSensitive(False)\n",
        "\n",
        "glove_embeddings = WordEmbeddingsModel().pretrained() \\\n",
        "      .setInputCols([\"document\",'cleanTokens'])\\\n",
        "      .setOutputCol(\"embeddings\")\\\n",
        "      .setCaseSensitive(False)\n",
        "\n",
        "embeddingsSentence = SentenceEmbeddings() \\\n",
        "      .setInputCols([\"document\", \"embeddings\"]) \\\n",
        "      .setOutputCol(\"sentence_embeddings\") \\\n",
        "      .setPoolingStrategy(\"AVERAGE\")\n",
        "    \n",
        "embeddings_finisher = EmbeddingsFinisher() \\\n",
        "      .setInputCols([\"sentence_embeddings\"]) \\\n",
        "      .setOutputCols([\"finished_sentence_embeddings\"]) \\\n",
        "      .setOutputAsVector(True)\\\n",
        "      .setCleanAnnotations(False)\n",
        "\n",
        "explodeVectors = SQLTransformer(statement=\n",
        "      \"SELECT EXPLODE(finished_sentence_embeddings) AS features, * FROM __THIS__\")\n",
        "\n",
        "label_stringIdx = StringIndexer(inputCol = \"org_new_industry\", outputCol = \"label\")\n",
        "\n",
        "\n",
        "nlp_pipeline_w2v = Pipeline(\n",
        "    stages=[document_assembler, \n",
        "            tokenizer,\n",
        "            normalizer,\n",
        "            stopwords_cleaner, \n",
        "            glove_embeddings,\n",
        "            embeddingsSentence,\n",
        "            embeddings_finisher,\n",
        "            explodeVectors,\n",
        "            label_stringIdx])\n",
        "\n",
        "nlp_model_w2v = nlp_pipeline_w2v.fit(train_sparkdf)\n",
        "\n",
        "processed_w2v = nlp_model_w2v.transform(train_sparkdf)\n",
        "\n",
        "processed_w2v.count()"
      ],
      "execution_count": 35,
      "outputs": [
        {
          "output_type": "stream",
          "text": [
            "glove_100d download started this may take some time.\n",
            "Approximate size to download 145.3 MB\n",
            "[OK!]\n"
          ],
          "name": "stdout"
        },
        {
          "output_type": "execute_result",
          "data": {
            "text/plain": [
              "2125"
            ]
          },
          "metadata": {},
          "execution_count": 35
        }
      ]
    },
    {
      "cell_type": "code",
      "metadata": {
        "colab": {
          "base_uri": "https://localhost:8080/"
        },
        "id": "uxLimGq9AwqA",
        "outputId": "741e3998-5dc8-4d91-a0c0-eeb1491ed9e4"
      },
      "source": [
        "processed_w2v.select('description_combined','features','label').show()"
      ],
      "execution_count": 36,
      "outputs": [
        {
          "output_type": "stream",
          "text": [
            "+--------------------+--------------------+-----+\n",
            "|description_combined|            features|label|\n",
            "+--------------------+--------------------+-----+\n",
            "|Aston Martin Lago...|[0.07989142090082...| 72.0|\n",
            "|Fiat Chrysler Aut...|[-0.0646159574389...| 72.0|\n",
            "|Ford Motor Compan...|[-0.0467863827943...| 72.0|\n",
            "|General Motors is...|[-0.1721586585044...| 72.0|\n",
            "| benefits, websit...|[-0.0966890454292...| 13.0|\n",
            "| union, workers, ...|[0.13052451610565...| 13.0|\n",
            "| cancer, research...|[-0.0404780320823...| 13.0|\n",
            "| science, public,...|[0.07133471965789...| 13.0|\n",
            "| chemistry, award...|[0.08529332280158...| 13.0|\n",
            "| diabetes, overvi...|[0.01586429215967...| 13.0|\n",
            "| bureau, advocacy...|[-0.0264652371406...| 13.0|\n",
            "| afscme, union, w...|[0.09348104149103...| 13.0|\n",
            "| randi, president...|[0.20875857770442...| 13.0|\n",
            "|The American Psyc...|[0.09846050292253...| 13.0|\n",
            "|This is the missi...|[0.03039588406682...| 13.0|\n",
            "| health, union, r...|[0.04145178943872...| 13.0|\n",
            "| scouts, girls, s...|[0.21835327148437...| 13.0|\n",
            "| animals, humane,...|[0.15270458161830...| 13.0|\n",
            "| power, media, de...|[0.08002189546823...| 13.0|\n",
            "| teamsters, divis...|[0.15616370737552...| 13.0|\n",
            "+--------------------+--------------------+-----+\n",
            "only showing top 20 rows\n",
            "\n"
          ],
          "name": "stdout"
        }
      ]
    },
    {
      "cell_type": "code",
      "metadata": {
        "colab": {
          "base_uri": "https://localhost:8080/"
        },
        "id": "8GRo6wuYA-iy",
        "outputId": "b4dea39c-ceae-4e9e-f874-82a2ab198891"
      },
      "source": [
        "(trainingData, testData) = processed_w2v.randomSplit([0.7, 0.3], seed = 100)\n",
        "print(\"Training Dataset Count: \" + str(trainingData.count()))\n",
        "print(\"Test Dataset Count: \" + str(testData.count()))"
      ],
      "execution_count": 37,
      "outputs": [
        {
          "output_type": "stream",
          "text": [
            "Training Dataset Count: 1493\n",
            "Test Dataset Count: 632\n"
          ],
          "name": "stdout"
        }
      ]
    },
    {
      "cell_type": "code",
      "metadata": {
        "id": "x4kHprxCA_-p"
      },
      "source": [
        "\n",
        "from pyspark.sql.functions import udf\n",
        "\n",
        "@udf(\"long\")\n",
        "def num_nonzeros(v):\n",
        "    return v.numNonzeros()\n",
        "\n",
        "testData = testData.where(num_nonzeros(\"features\") != 0)"
      ],
      "execution_count": 48,
      "outputs": []
    },
    {
      "cell_type": "code",
      "metadata": {
        "colab": {
          "base_uri": "https://localhost:8080/"
        },
        "id": "dkqH5WtAE4ID",
        "outputId": "4ba18a42-021f-4fb7-d784-66c9d65f3217"
      },
      "source": [
        "lrModel_w2v = lr.fit(trainingData)\n",
        "predictions_w2v = lrModel_w2v.transform(testData)\n",
        "\n",
        "predictions_w2v.select(\"description_combined\",\"org_new_industry\",\"probability\",\"label\",\"prediction\") \\\n",
        "    .orderBy(\"probability\", ascending=False) \\\n",
        "    .show(n = 10, truncate = 30)"
      ],
      "execution_count": 49,
      "outputs": [
        {
          "output_type": "stream",
          "text": [
            "+------------------------------+------------------------------+------------------------------+-----+----------+\n",
            "|          description_combined|              org_new_industry|                   probability|label|prediction|\n",
            "+------------------------------+------------------------------+------------------------------+-----+----------+\n",
            "| sefcu, online, tuesday, we...|Finance/Banking - Credit Union|[0.9911761776840043,3.52518...| 24.0|       0.0|\n",
            "|Infor provides enterprise s...|SAAS - Leisure, Sports and ...|[0.7210925533063297,2.10307...| 57.0|       0.0|\n",
            "|MedPro Healthcare Staffing ...|Corporate Services - Consul...|[0.6544045096437753,0.00702...|  0.0|       0.0|\n",
            "|Modern Health is a mental w...|Leisure, Sports and Recreat...|[0.6129711349705067,0.01035...| 38.0|       0.0|\n",
            "| created, public, insights,...|Energy and Environmental - ...|[0.5604486377860693,0.00738...| 36.0|       0.0|\n",
            "| insights, digital, energy,...|Corporate Services - Consul...|[0.557076343128009,0.008085...|  0.0|       0.0|\n",
            "| healthcare, staffing, work...|Corporate Services - Consul...|[0.5460427309745514,0.01325...|  0.0|       0.0|\n",
            "|Regalix is a global leader ...|SAAS - Sales  - AI/Sales In...|[0.5220133037850976,0.00697...| 20.0|       0.0|\n",
            "| leidos, mission, moderniza...|Corporate Services - Consul...|[0.5164352647792437,0.00775...|  0.0|       0.0|\n",
            "| section, toggle, managemen...|Corporate Services - Consul...|[0.4156860276543967,0.00650...|  0.0|       0.0|\n",
            "+------------------------------+------------------------------+------------------------------+-----+----------+\n",
            "only showing top 10 rows\n",
            "\n"
          ],
          "name": "stdout"
        }
      ]
    },
    {
      "cell_type": "code",
      "metadata": {
        "colab": {
          "base_uri": "https://localhost:8080/"
        },
        "id": "M81qj04EFHlK",
        "outputId": "e303df8d-71c0-4f4f-82cd-c3137c07169f"
      },
      "source": [
        "#Accuracy\n",
        "y_true = predictions_w2v.select(\"label\")\n",
        "y_true = y_true.toPandas()\n",
        "\n",
        "y_pred = predictions_w2v.select(\"prediction\")\n",
        "y_pred = y_pred.toPandas()\n",
        "print(accuracy_score(y_true.label, y_pred.prediction))"
      ],
      "execution_count": 50,
      "outputs": [
        {
          "output_type": "stream",
          "text": [
            "0.33134920634920634\n"
          ],
          "name": "stdout"
        }
      ]
    }
  ]
}