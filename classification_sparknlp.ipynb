{
  "nbformat": 4,
  "nbformat_minor": 0,
  "metadata": {
    "colab": {
      "name": "Industry Classifier",
      "provenance": [],
      "collapsed_sections": []
    },
    "kernelspec": {
      "name": "python3",
      "display_name": "Python 3"
    },
    "language_info": {
      "name": "python"
    }
  },
  "cells": [
    {
      "cell_type": "markdown",
      "metadata": {
        "id": "gq89-XkADwHH"
      },
      "source": [
        "**Spark NLP for Multiclass Text Classification**\n"
      ]
    },
    {
      "cell_type": "markdown",
      "metadata": {
        "id": "eRZUvT4_EB4I"
      },
      "source": [
        "Spark NLP provides a single framework for all NLP needs. It is an open source NLP library build on top of Apache spark and Spark ML.It provides an easy way to integrate with ML pipelines\n",
        "\n"
      ]
    },
    {
      "cell_type": "code",
      "metadata": {
        "colab": {
          "base_uri": "https://localhost:8080/"
        },
        "id": "WzPfgzsPEK8L",
        "outputId": "a0433143-cef1-4adb-9577-a1b4d295e5f1"
      },
      "source": [
        "#installs Spark and pyspark\n",
        "!wget http://setup.johnsnowlabs.com/colab.sh -O - | bash"
      ],
      "execution_count": 1,
      "outputs": [
        {
          "output_type": "stream",
          "name": "stdout",
          "text": [
            "--2021-09-10 23:51:33--  http://setup.johnsnowlabs.com/colab.sh\n",
            "Resolving setup.johnsnowlabs.com (setup.johnsnowlabs.com)... 51.158.130.125\n",
            "Connecting to setup.johnsnowlabs.com (setup.johnsnowlabs.com)|51.158.130.125|:80... connected.\n",
            "HTTP request sent, awaiting response... 302 Moved Temporarily\n",
            "Location: https://raw.githubusercontent.com/JohnSnowLabs/spark-nlp/master/scripts/colab_setup.sh [following]\n",
            "--2021-09-10 23:51:33--  https://raw.githubusercontent.com/JohnSnowLabs/spark-nlp/master/scripts/colab_setup.sh\n",
            "Resolving raw.githubusercontent.com (raw.githubusercontent.com)... 185.199.108.133, 185.199.109.133, 185.199.110.133, ...\n",
            "Connecting to raw.githubusercontent.com (raw.githubusercontent.com)|185.199.108.133|:443... connected.\n",
            "HTTP request sent, awaiting response... 200 OK\n",
            "Length: 1608 (1.6K) [text/plain]\n",
            "Saving to: ‘STDOUT’\n",
            "\n",
            "-                   100%[===================>]   1.57K  --.-KB/s    in 0s      \n",
            "\n",
            "2021-09-10 23:51:33 (34.8 MB/s) - written to stdout [1608/1608]\n",
            "\n",
            "setup Colab for PySpark 3.1.2 and Spark NLP 3.2.2\n",
            "Get:1 http://security.ubuntu.com/ubuntu bionic-security InRelease [88.7 kB]\n",
            "Get:2 https://cloud.r-project.org/bin/linux/ubuntu bionic-cran40/ InRelease [3,626 B]\n",
            "Ign:3 https://developer.download.nvidia.com/compute/cuda/repos/ubuntu1804/x86_64  InRelease\n",
            "Get:4 http://ppa.launchpad.net/c2d4u.team/c2d4u4.0+/ubuntu bionic InRelease [15.9 kB]\n",
            "Hit:5 http://archive.ubuntu.com/ubuntu bionic InRelease\n",
            "Ign:6 https://developer.download.nvidia.com/compute/machine-learning/repos/ubuntu1804/x86_64  InRelease\n",
            "Get:7 https://developer.download.nvidia.com/compute/cuda/repos/ubuntu1804/x86_64  Release [696 B]\n",
            "Hit:8 https://developer.download.nvidia.com/compute/machine-learning/repos/ubuntu1804/x86_64  Release\n",
            "Get:9 https://developer.download.nvidia.com/compute/cuda/repos/ubuntu1804/x86_64  Release.gpg [836 B]\n",
            "Get:10 http://archive.ubuntu.com/ubuntu bionic-updates InRelease [88.7 kB]\n",
            "Hit:11 http://ppa.launchpad.net/cran/libgit2/ubuntu bionic InRelease\n",
            "Get:12 http://archive.ubuntu.com/ubuntu bionic-backports InRelease [74.6 kB]\n",
            "Get:13 http://ppa.launchpad.net/deadsnakes/ppa/ubuntu bionic InRelease [15.9 kB]\n",
            "Get:14 http://security.ubuntu.com/ubuntu bionic-security/restricted amd64 Packages [560 kB]\n",
            "Get:15 http://security.ubuntu.com/ubuntu bionic-security/main amd64 Packages [2,320 kB]\n",
            "Get:16 http://security.ubuntu.com/ubuntu bionic-security/universe amd64 Packages [1,428 kB]\n",
            "Hit:17 http://ppa.launchpad.net/graphics-drivers/ppa/ubuntu bionic InRelease\n",
            "Get:19 https://developer.download.nvidia.com/compute/cuda/repos/ubuntu1804/x86_64  Packages [717 kB]\n",
            "Get:20 http://ppa.launchpad.net/c2d4u.team/c2d4u4.0+/ubuntu bionic/main Sources [1,796 kB]\n",
            "Get:21 http://archive.ubuntu.com/ubuntu bionic-updates/universe amd64 Packages [2,202 kB]\n",
            "Get:22 http://ppa.launchpad.net/c2d4u.team/c2d4u4.0+/ubuntu bionic/main amd64 Packages [919 kB]\n",
            "Get:23 http://archive.ubuntu.com/ubuntu bionic-updates/main amd64 Packages [2,755 kB]\n",
            "Get:24 http://archive.ubuntu.com/ubuntu bionic-updates/restricted amd64 Packages [593 kB]\n",
            "Get:25 http://ppa.launchpad.net/deadsnakes/ppa/ubuntu bionic/main amd64 Packages [40.8 kB]\n",
            "Fetched 13.6 MB in 3s (4,199 kB/s)\n",
            "Reading package lists... Done\n",
            "\u001b[K     |████████████████████████████████| 212.4 MB 67 kB/s \n",
            "\u001b[K     |████████████████████████████████| 118 kB 21.6 MB/s \n",
            "\u001b[K     |████████████████████████████████| 198 kB 70.4 MB/s \n",
            "\u001b[?25h  Building wheel for pyspark (setup.py) ... \u001b[?25l\u001b[?25hdone\n"
          ]
        }
      ]
    },
    {
      "cell_type": "code",
      "metadata": {
        "id": "cX1A0xmgLuaG"
      },
      "source": [
        "#load required packages\n",
        "import os\n",
        "import numpy as np\n",
        "import pandas as pd\n",
        "import sparknlp\n",
        "import sys\n",
        "\n",
        "from pyspark.sql import SparkSession\n",
        "from pyspark.ml import Pipeline\n",
        "\n",
        "from sparknlp.annotator import *\n",
        "from sparknlp.common import *\n",
        "from sparknlp.base import *\n"
      ],
      "execution_count": 1,
      "outputs": []
    },
    {
      "cell_type": "code",
      "metadata": {
        "id": "aXwsKj4h02W4"
      },
      "source": [
        "#start spark sessiom\n",
        "spark = sparknlp.start() \n",
        "\n"
      ],
      "execution_count": 2,
      "outputs": []
    },
    {
      "cell_type": "code",
      "metadata": {
        "colab": {
          "base_uri": "https://localhost:8080/",
          "height": 1000
        },
        "id": "3vPeI4GfPKep",
        "outputId": "dcbcc47a-ed9d-4ef2-d944-8b73c6168c2a"
      },
      "source": [
        "#load training data\n",
        " \n",
        "training_df = pd.read_excel(open('training.xlsx', 'rb'),\n",
        "              sheet_name='training')\n",
        "training_df"
      ],
      "execution_count": 3,
      "outputs": [
        {
          "output_type": "execute_result",
          "data": {
            "text/html": [
              "<div>\n",
              "<style scoped>\n",
              "    .dataframe tbody tr th:only-of-type {\n",
              "        vertical-align: middle;\n",
              "    }\n",
              "\n",
              "    .dataframe tbody tr th {\n",
              "        vertical-align: top;\n",
              "    }\n",
              "\n",
              "    .dataframe thead th {\n",
              "        text-align: right;\n",
              "    }\n",
              "</style>\n",
              "<table border=\"1\" class=\"dataframe\">\n",
              "  <thead>\n",
              "    <tr style=\"text-align: right;\">\n",
              "      <th></th>\n",
              "      <th>Organization - ID</th>\n",
              "      <th>Organization - Name</th>\n",
              "      <th>Organization - Website</th>\n",
              "      <th>Organization - CB Description</th>\n",
              "      <th>Organization - Company Type</th>\n",
              "      <th>Organization - CB Industries</th>\n",
              "      <th>Organization - Employee Range</th>\n",
              "      <th>Organization - New Industry</th>\n",
              "      <th>Keyword</th>\n",
              "      <th>MetaKeyword</th>\n",
              "      <th>MetaDescription</th>\n",
              "      <th>web_description</th>\n",
              "      <th>web_keywords</th>\n",
              "    </tr>\n",
              "  </thead>\n",
              "  <tbody>\n",
              "    <tr>\n",
              "      <th>0</th>\n",
              "      <td>440</td>\n",
              "      <td>Aston Martin Lagonda</td>\n",
              "      <td>https://www.astonmartin.comen-us/</td>\n",
              "      <td>Aston Martin Lagonda Global Holdings manufactu...</td>\n",
              "      <td>Acquirer</td>\n",
              "      <td>Automotive, Leisure, Manufacturing, Product De...</td>\n",
              "      <td>1001-5000</td>\n",
              "      <td>Automotive - Car Manufacturing</td>\n",
              "      <td>NaN</td>\n",
              "      <td>NaN</td>\n",
              "      <td>NaN</td>\n",
              "      <td>NaN</td>\n",
              "      <td>NaN</td>\n",
              "    </tr>\n",
              "    <tr>\n",
              "      <th>1</th>\n",
              "      <td>898</td>\n",
              "      <td>Fiat Chrysler Auto</td>\n",
              "      <td>https://www.fcagroup.comen-US/Pages/home.aspx</td>\n",
              "      <td>Fiat Chrysler Automobiles designs, engineers, ...</td>\n",
              "      <td>Acquirer</td>\n",
              "      <td>Automotive, Industrial Manufacturing, Manufact...</td>\n",
              "      <td>10001+</td>\n",
              "      <td>Automotive - Car Manufacturing</td>\n",
              "      <td>NaN</td>\n",
              "      <td>NaN</td>\n",
              "      <td>NaN</td>\n",
              "      <td>NaN</td>\n",
              "      <td>NaN</td>\n",
              "    </tr>\n",
              "    <tr>\n",
              "      <th>2</th>\n",
              "      <td>930</td>\n",
              "      <td>Ford Motor Company</td>\n",
              "      <td>https://www.ford.com</td>\n",
              "      <td>Ford Motor Company, an automotive company, dev...</td>\n",
              "      <td>Acquirer</td>\n",
              "      <td>Apps, Automotive, Manufacturing, Transportation</td>\n",
              "      <td>10001+</td>\n",
              "      <td>Automotive - Car Manufacturing</td>\n",
              "      <td>access</td>\n",
              "      <td>NaN</td>\n",
              "      <td>NaN</td>\n",
              "      <td>FordÃ‚Â® is Built for America. Discover the la...</td>\n",
              "      <td>NaN</td>\n",
              "    </tr>\n",
              "    <tr>\n",
              "      <th>3</th>\n",
              "      <td>965</td>\n",
              "      <td>General Motors Company</td>\n",
              "      <td>https://www.gm.com</td>\n",
              "      <td>General Motors is a Detroit-based mutinational...</td>\n",
              "      <td>Acquirer</td>\n",
              "      <td>Automotive, Enterprise Software, Manufacturing...</td>\n",
              "      <td>10001+</td>\n",
              "      <td>Automotive - Car Manufacturing</td>\n",
              "      <td>access</td>\n",
              "      <td>NaN</td>\n",
              "      <td>NaN</td>\n",
              "      <td>General Motors is home to Chevrolet, Buick, GM...</td>\n",
              "      <td>NaN</td>\n",
              "    </tr>\n",
              "    <tr>\n",
              "      <th>4</th>\n",
              "      <td>296</td>\n",
              "      <td>AARP</td>\n",
              "      <td>http://www.aarp.org</td>\n",
              "      <td>NaN</td>\n",
              "      <td>Acquirer</td>\n",
              "      <td>NaN</td>\n",
              "      <td>NaN</td>\n",
              "      <td>Civic, Non-Profit and Membership Groups</td>\n",
              "      <td>benefits, website, leaving, provider, cancel, ...</td>\n",
              "      <td>NaN</td>\n",
              "      <td>NaN</td>\n",
              "      <td>AARP is the nation's largest nonprofit, nonpar...</td>\n",
              "      <td>aarp, real possibilities, baby boomers, driver...</td>\n",
              "    </tr>\n",
              "    <tr>\n",
              "      <th>...</th>\n",
              "      <td>...</td>\n",
              "      <td>...</td>\n",
              "      <td>...</td>\n",
              "      <td>...</td>\n",
              "      <td>...</td>\n",
              "      <td>...</td>\n",
              "      <td>...</td>\n",
              "      <td>...</td>\n",
              "      <td>...</td>\n",
              "      <td>...</td>\n",
              "      <td>...</td>\n",
              "      <td>...</td>\n",
              "      <td>...</td>\n",
              "    </tr>\n",
              "    <tr>\n",
              "      <th>2120</th>\n",
              "      <td>1157</td>\n",
              "      <td>JetBlue</td>\n",
              "      <td>https://www.jetblue.com</td>\n",
              "      <td>JetBlue airways to bring humanity back to air ...</td>\n",
              "      <td>Acquirer</td>\n",
              "      <td>Transportation</td>\n",
              "      <td>10001+</td>\n",
              "      <td>Transportation - Airline</td>\n",
              "      <td>NaN</td>\n",
              "      <td>NaN</td>\n",
              "      <td>NaN</td>\n",
              "      <td>JetBlue offers flights to 90+ destinations wit...</td>\n",
              "      <td>JetBlue airline, flights, vacations, low airfa...</td>\n",
              "    </tr>\n",
              "    <tr>\n",
              "      <th>2121</th>\n",
              "      <td>1743</td>\n",
              "      <td>Southwest Airlines</td>\n",
              "      <td>https://www.southwest.com</td>\n",
              "      <td>Southwest Airlines (NYSE: LUV) continues to di...</td>\n",
              "      <td>Acquirer</td>\n",
              "      <td>Public Transportation</td>\n",
              "      <td>10001+</td>\n",
              "      <td>Transportation - Airline</td>\n",
              "      <td>NaN</td>\n",
              "      <td>NaN</td>\n",
              "      <td>NaN</td>\n",
              "      <td>Find low fares to top destinations on the offi...</td>\n",
              "      <td>NaN</td>\n",
              "    </tr>\n",
              "    <tr>\n",
              "      <th>2122</th>\n",
              "      <td>1933</td>\n",
              "      <td>United Continental Holdings</td>\n",
              "      <td>https://www.united.comen/us</td>\n",
              "      <td>United Airlines and United Express operate app...</td>\n",
              "      <td>Acquirer</td>\n",
              "      <td>Aerospace, Hospitality, In-Flight Entertainmen...</td>\n",
              "      <td>10001+</td>\n",
              "      <td>Transportation - Airline</td>\n",
              "      <td>NaN</td>\n",
              "      <td>NaN</td>\n",
              "      <td>NaN</td>\n",
              "      <td>NaN</td>\n",
              "      <td>NaN</td>\n",
              "    </tr>\n",
              "    <tr>\n",
              "      <th>2123</th>\n",
              "      <td>894</td>\n",
              "      <td>FedEx Corporation</td>\n",
              "      <td>https://www.fedex.comen-us/home.html</td>\n",
              "      <td>FedEx Corporation provides customers and busin...</td>\n",
              "      <td>Acquirer</td>\n",
              "      <td>Commercial Real Estate, E-Commerce, Logistics,...</td>\n",
              "      <td>10001+</td>\n",
              "      <td>Transportation - Shipping</td>\n",
              "      <td>NaN</td>\n",
              "      <td>NaN</td>\n",
              "      <td>NaN</td>\n",
              "      <td>NaN</td>\n",
              "      <td>NaN</td>\n",
              "    </tr>\n",
              "    <tr>\n",
              "      <th>2124</th>\n",
              "      <td>1936</td>\n",
              "      <td>UPS</td>\n",
              "      <td>https://www.ups.comus/en/global.page</td>\n",
              "      <td>United Parcel Service (UPS) is a package deliv...</td>\n",
              "      <td>Acquirer</td>\n",
              "      <td>Logistics, Messaging, Transportation</td>\n",
              "      <td>10001+</td>\n",
              "      <td>Transportation - Shipping</td>\n",
              "      <td>NaN</td>\n",
              "      <td>NaN</td>\n",
              "      <td>NaN</td>\n",
              "      <td>NaN</td>\n",
              "      <td>NaN</td>\n",
              "    </tr>\n",
              "  </tbody>\n",
              "</table>\n",
              "<p>2125 rows × 13 columns</p>\n",
              "</div>"
            ],
            "text/plain": [
              "      Organization - ID  ...                                       web_keywords\n",
              "0                   440  ...                                                NaN\n",
              "1                   898  ...                                                NaN\n",
              "2                   930  ...                                                NaN\n",
              "3                   965  ...                                                NaN\n",
              "4                   296  ...  aarp, real possibilities, baby boomers, driver...\n",
              "...                 ...  ...                                                ...\n",
              "2120               1157  ...  JetBlue airline, flights, vacations, low airfa...\n",
              "2121               1743  ...                                                NaN\n",
              "2122               1933  ...                                                NaN\n",
              "2123                894  ...                                                NaN\n",
              "2124               1936  ...                                                NaN\n",
              "\n",
              "[2125 rows x 13 columns]"
            ]
          },
          "metadata": {},
          "execution_count": 3
        }
      ]
    },
    {
      "cell_type": "code",
      "metadata": {
        "colab": {
          "base_uri": "https://localhost:8080/",
          "height": 910
        },
        "id": "Fj9Xj9TbQlfH",
        "outputId": "efcbfa85-b329-4781-c69f-6d5fc33a2bab"
      },
      "source": [
        "#rename columns\n",
        "training_df.columns=['org_id','org_name','org_website','org_cb_description','org_company_type','org_cb_industry','org_company_size','org_new_industry','keyword','metakeyword','metadesc','webdesc','webkeyword']\n",
        "\n",
        "#remove columns not part of the study\n",
        "drop_col=['org_id','org_name','org_website','org_company_type','org_cb_industry','org_company_size']\n",
        "training_df.drop(columns=drop_col,axis=1, inplace=True)\n",
        "training_df\n"
      ],
      "execution_count": 4,
      "outputs": [
        {
          "output_type": "execute_result",
          "data": {
            "text/html": [
              "<div>\n",
              "<style scoped>\n",
              "    .dataframe tbody tr th:only-of-type {\n",
              "        vertical-align: middle;\n",
              "    }\n",
              "\n",
              "    .dataframe tbody tr th {\n",
              "        vertical-align: top;\n",
              "    }\n",
              "\n",
              "    .dataframe thead th {\n",
              "        text-align: right;\n",
              "    }\n",
              "</style>\n",
              "<table border=\"1\" class=\"dataframe\">\n",
              "  <thead>\n",
              "    <tr style=\"text-align: right;\">\n",
              "      <th></th>\n",
              "      <th>org_cb_description</th>\n",
              "      <th>org_new_industry</th>\n",
              "      <th>keyword</th>\n",
              "      <th>metakeyword</th>\n",
              "      <th>metadesc</th>\n",
              "      <th>webdesc</th>\n",
              "      <th>webkeyword</th>\n",
              "    </tr>\n",
              "  </thead>\n",
              "  <tbody>\n",
              "    <tr>\n",
              "      <th>0</th>\n",
              "      <td>Aston Martin Lagonda Global Holdings manufactu...</td>\n",
              "      <td>Automotive - Car Manufacturing</td>\n",
              "      <td>NaN</td>\n",
              "      <td>NaN</td>\n",
              "      <td>NaN</td>\n",
              "      <td>NaN</td>\n",
              "      <td>NaN</td>\n",
              "    </tr>\n",
              "    <tr>\n",
              "      <th>1</th>\n",
              "      <td>Fiat Chrysler Automobiles designs, engineers, ...</td>\n",
              "      <td>Automotive - Car Manufacturing</td>\n",
              "      <td>NaN</td>\n",
              "      <td>NaN</td>\n",
              "      <td>NaN</td>\n",
              "      <td>NaN</td>\n",
              "      <td>NaN</td>\n",
              "    </tr>\n",
              "    <tr>\n",
              "      <th>2</th>\n",
              "      <td>Ford Motor Company, an automotive company, dev...</td>\n",
              "      <td>Automotive - Car Manufacturing</td>\n",
              "      <td>access</td>\n",
              "      <td>NaN</td>\n",
              "      <td>NaN</td>\n",
              "      <td>FordÃ‚Â® is Built for America. Discover the la...</td>\n",
              "      <td>NaN</td>\n",
              "    </tr>\n",
              "    <tr>\n",
              "      <th>3</th>\n",
              "      <td>General Motors is a Detroit-based mutinational...</td>\n",
              "      <td>Automotive - Car Manufacturing</td>\n",
              "      <td>access</td>\n",
              "      <td>NaN</td>\n",
              "      <td>NaN</td>\n",
              "      <td>General Motors is home to Chevrolet, Buick, GM...</td>\n",
              "      <td>NaN</td>\n",
              "    </tr>\n",
              "    <tr>\n",
              "      <th>4</th>\n",
              "      <td>NaN</td>\n",
              "      <td>Civic, Non-Profit and Membership Groups</td>\n",
              "      <td>benefits, website, leaving, provider, cancel, ...</td>\n",
              "      <td>NaN</td>\n",
              "      <td>NaN</td>\n",
              "      <td>AARP is the nation's largest nonprofit, nonpar...</td>\n",
              "      <td>aarp, real possibilities, baby boomers, driver...</td>\n",
              "    </tr>\n",
              "    <tr>\n",
              "      <th>...</th>\n",
              "      <td>...</td>\n",
              "      <td>...</td>\n",
              "      <td>...</td>\n",
              "      <td>...</td>\n",
              "      <td>...</td>\n",
              "      <td>...</td>\n",
              "      <td>...</td>\n",
              "    </tr>\n",
              "    <tr>\n",
              "      <th>2120</th>\n",
              "      <td>JetBlue airways to bring humanity back to air ...</td>\n",
              "      <td>Transportation - Airline</td>\n",
              "      <td>NaN</td>\n",
              "      <td>NaN</td>\n",
              "      <td>NaN</td>\n",
              "      <td>JetBlue offers flights to 90+ destinations wit...</td>\n",
              "      <td>JetBlue airline, flights, vacations, low airfa...</td>\n",
              "    </tr>\n",
              "    <tr>\n",
              "      <th>2121</th>\n",
              "      <td>Southwest Airlines (NYSE: LUV) continues to di...</td>\n",
              "      <td>Transportation - Airline</td>\n",
              "      <td>NaN</td>\n",
              "      <td>NaN</td>\n",
              "      <td>NaN</td>\n",
              "      <td>Find low fares to top destinations on the offi...</td>\n",
              "      <td>NaN</td>\n",
              "    </tr>\n",
              "    <tr>\n",
              "      <th>2122</th>\n",
              "      <td>United Airlines and United Express operate app...</td>\n",
              "      <td>Transportation - Airline</td>\n",
              "      <td>NaN</td>\n",
              "      <td>NaN</td>\n",
              "      <td>NaN</td>\n",
              "      <td>NaN</td>\n",
              "      <td>NaN</td>\n",
              "    </tr>\n",
              "    <tr>\n",
              "      <th>2123</th>\n",
              "      <td>FedEx Corporation provides customers and busin...</td>\n",
              "      <td>Transportation - Shipping</td>\n",
              "      <td>NaN</td>\n",
              "      <td>NaN</td>\n",
              "      <td>NaN</td>\n",
              "      <td>NaN</td>\n",
              "      <td>NaN</td>\n",
              "    </tr>\n",
              "    <tr>\n",
              "      <th>2124</th>\n",
              "      <td>United Parcel Service (UPS) is a package deliv...</td>\n",
              "      <td>Transportation - Shipping</td>\n",
              "      <td>NaN</td>\n",
              "      <td>NaN</td>\n",
              "      <td>NaN</td>\n",
              "      <td>NaN</td>\n",
              "      <td>NaN</td>\n",
              "    </tr>\n",
              "  </tbody>\n",
              "</table>\n",
              "<p>2125 rows × 7 columns</p>\n",
              "</div>"
            ],
            "text/plain": [
              "                                     org_cb_description  ...                                         webkeyword\n",
              "0     Aston Martin Lagonda Global Holdings manufactu...  ...                                                NaN\n",
              "1     Fiat Chrysler Automobiles designs, engineers, ...  ...                                                NaN\n",
              "2     Ford Motor Company, an automotive company, dev...  ...                                                NaN\n",
              "3     General Motors is a Detroit-based mutinational...  ...                                                NaN\n",
              "4                                                   NaN  ...  aarp, real possibilities, baby boomers, driver...\n",
              "...                                                 ...  ...                                                ...\n",
              "2120  JetBlue airways to bring humanity back to air ...  ...  JetBlue airline, flights, vacations, low airfa...\n",
              "2121  Southwest Airlines (NYSE: LUV) continues to di...  ...                                                NaN\n",
              "2122  United Airlines and United Express operate app...  ...                                                NaN\n",
              "2123  FedEx Corporation provides customers and busin...  ...                                                NaN\n",
              "2124  United Parcel Service (UPS) is a package deliv...  ...                                                NaN\n",
              "\n",
              "[2125 rows x 7 columns]"
            ]
          },
          "metadata": {},
          "execution_count": 4
        }
      ]
    },
    {
      "cell_type": "code",
      "metadata": {
        "colab": {
          "base_uri": "https://localhost:8080/",
          "height": 189
        },
        "id": "l92h5JqXTVti",
        "outputId": "df7ca174-1cef-4ef6-cc4e-84cb36196efe"
      },
      "source": [
        "#drop rows for NA's in org_new_industry\n",
        "training_df = training_df[training_df['org_new_industry'].notna()]\n"
      ],
      "execution_count": 2,
      "outputs": [
        {
          "output_type": "error",
          "ename": "NameError",
          "evalue": "ignored",
          "traceback": [
            "\u001b[0;31m---------------------------------------------------------------------------\u001b[0m",
            "\u001b[0;31mNameError\u001b[0m                                 Traceback (most recent call last)",
            "\u001b[0;32m<ipython-input-2-0c963c635435>\u001b[0m in \u001b[0;36m<module>\u001b[0;34m()\u001b[0m\n\u001b[1;32m      1\u001b[0m \u001b[0;31m#drop rows for NA's in org_new_indus\u001b[0m\u001b[0;34m\u001b[0m\u001b[0;34m\u001b[0m\u001b[0;34m\u001b[0m\u001b[0m\n\u001b[0;32m----> 2\u001b[0;31m \u001b[0mtraining_df\u001b[0m \u001b[0;34m=\u001b[0m \u001b[0mtraining_df\u001b[0m\u001b[0;34m[\u001b[0m\u001b[0mtraining_df\u001b[0m\u001b[0;34m[\u001b[0m\u001b[0;34m'org_new_industry'\u001b[0m\u001b[0;34m]\u001b[0m\u001b[0;34m.\u001b[0m\u001b[0mnotna\u001b[0m\u001b[0;34m(\u001b[0m\u001b[0;34m)\u001b[0m\u001b[0;34m]\u001b[0m\u001b[0;34m\u001b[0m\u001b[0;34m\u001b[0m\u001b[0m\n\u001b[0m",
            "\u001b[0;31mNameError\u001b[0m: name 'training_df' is not defined"
          ]
        }
      ]
    },
    {
      "cell_type": "code",
      "metadata": {
        "colab": {
          "base_uri": "https://localhost:8080/"
        },
        "id": "512MUlP2m1Ks",
        "outputId": "c5071d9c-24c0-420a-8302-d4d4552a6f85"
      },
      "source": [
        "#description combined is the document to be classified\n",
        "training_df['description_combined'] = training_df[['org_cb_description', 'keyword', 'metakeyword','metadesc','webdesc','webkeyword']].fillna('').agg(' '.join, axis=1)\n",
        "training_df['description_combined']"
      ],
      "execution_count": 6,
      "outputs": [
        {
          "output_type": "execute_result",
          "data": {
            "text/plain": [
              "0       Aston Martin Lagonda Global Holdings manufactu...\n",
              "1       Fiat Chrysler Automobiles designs, engineers, ...\n",
              "2       Ford Motor Company, an automotive company, dev...\n",
              "3       General Motors is a Detroit-based mutinational...\n",
              "4        benefits, website, leaving, provider, cancel,...\n",
              "                              ...                        \n",
              "2120    JetBlue airways to bring humanity back to air ...\n",
              "2121    Southwest Airlines (NYSE: LUV) continues to di...\n",
              "2122    United Airlines and United Express operate app...\n",
              "2123    FedEx Corporation provides customers and busin...\n",
              "2124    United Parcel Service (UPS) is a package deliv...\n",
              "Name: description_combined, Length: 2125, dtype: object"
            ]
          },
          "metadata": {},
          "execution_count": 6
        }
      ]
    },
    {
      "cell_type": "code",
      "metadata": {
        "id": "bix-cpJZE4uk"
      },
      "source": [
        "#drop rows for NA's in description\n",
        "training_df = training_df[training_df['description_combined'].notna()]"
      ],
      "execution_count": 7,
      "outputs": []
    },
    {
      "cell_type": "code",
      "metadata": {
        "colab": {
          "base_uri": "https://localhost:8080/",
          "height": 423
        },
        "id": "ceoJg2R-uXGQ",
        "outputId": "b854de8b-827e-4dc1-e87d-829df2dca832"
      },
      "source": [
        "train_df=training_df.loc[:,['org_new_industry','description_combined']]\n",
        "train_df"
      ],
      "execution_count": 8,
      "outputs": [
        {
          "output_type": "execute_result",
          "data": {
            "text/html": [
              "<div>\n",
              "<style scoped>\n",
              "    .dataframe tbody tr th:only-of-type {\n",
              "        vertical-align: middle;\n",
              "    }\n",
              "\n",
              "    .dataframe tbody tr th {\n",
              "        vertical-align: top;\n",
              "    }\n",
              "\n",
              "    .dataframe thead th {\n",
              "        text-align: right;\n",
              "    }\n",
              "</style>\n",
              "<table border=\"1\" class=\"dataframe\">\n",
              "  <thead>\n",
              "    <tr style=\"text-align: right;\">\n",
              "      <th></th>\n",
              "      <th>org_new_industry</th>\n",
              "      <th>description_combined</th>\n",
              "    </tr>\n",
              "  </thead>\n",
              "  <tbody>\n",
              "    <tr>\n",
              "      <th>0</th>\n",
              "      <td>Automotive - Car Manufacturing</td>\n",
              "      <td>Aston Martin Lagonda Global Holdings manufactu...</td>\n",
              "    </tr>\n",
              "    <tr>\n",
              "      <th>1</th>\n",
              "      <td>Automotive - Car Manufacturing</td>\n",
              "      <td>Fiat Chrysler Automobiles designs, engineers, ...</td>\n",
              "    </tr>\n",
              "    <tr>\n",
              "      <th>2</th>\n",
              "      <td>Automotive - Car Manufacturing</td>\n",
              "      <td>Ford Motor Company, an automotive company, dev...</td>\n",
              "    </tr>\n",
              "    <tr>\n",
              "      <th>3</th>\n",
              "      <td>Automotive - Car Manufacturing</td>\n",
              "      <td>General Motors is a Detroit-based mutinational...</td>\n",
              "    </tr>\n",
              "    <tr>\n",
              "      <th>4</th>\n",
              "      <td>Civic, Non-Profit and Membership Groups</td>\n",
              "      <td>benefits, website, leaving, provider, cancel,...</td>\n",
              "    </tr>\n",
              "    <tr>\n",
              "      <th>...</th>\n",
              "      <td>...</td>\n",
              "      <td>...</td>\n",
              "    </tr>\n",
              "    <tr>\n",
              "      <th>2120</th>\n",
              "      <td>Transportation - Airline</td>\n",
              "      <td>JetBlue airways to bring humanity back to air ...</td>\n",
              "    </tr>\n",
              "    <tr>\n",
              "      <th>2121</th>\n",
              "      <td>Transportation - Airline</td>\n",
              "      <td>Southwest Airlines (NYSE: LUV) continues to di...</td>\n",
              "    </tr>\n",
              "    <tr>\n",
              "      <th>2122</th>\n",
              "      <td>Transportation - Airline</td>\n",
              "      <td>United Airlines and United Express operate app...</td>\n",
              "    </tr>\n",
              "    <tr>\n",
              "      <th>2123</th>\n",
              "      <td>Transportation - Shipping</td>\n",
              "      <td>FedEx Corporation provides customers and busin...</td>\n",
              "    </tr>\n",
              "    <tr>\n",
              "      <th>2124</th>\n",
              "      <td>Transportation - Shipping</td>\n",
              "      <td>United Parcel Service (UPS) is a package deliv...</td>\n",
              "    </tr>\n",
              "  </tbody>\n",
              "</table>\n",
              "<p>2125 rows × 2 columns</p>\n",
              "</div>"
            ],
            "text/plain": [
              "                             org_new_industry                               description_combined\n",
              "0              Automotive - Car Manufacturing  Aston Martin Lagonda Global Holdings manufactu...\n",
              "1              Automotive - Car Manufacturing  Fiat Chrysler Automobiles designs, engineers, ...\n",
              "2              Automotive - Car Manufacturing  Ford Motor Company, an automotive company, dev...\n",
              "3              Automotive - Car Manufacturing  General Motors is a Detroit-based mutinational...\n",
              "4     Civic, Non-Profit and Membership Groups   benefits, website, leaving, provider, cancel,...\n",
              "...                                       ...                                                ...\n",
              "2120                 Transportation - Airline  JetBlue airways to bring humanity back to air ...\n",
              "2121                 Transportation - Airline  Southwest Airlines (NYSE: LUV) continues to di...\n",
              "2122                 Transportation - Airline  United Airlines and United Express operate app...\n",
              "2123                Transportation - Shipping  FedEx Corporation provides customers and busin...\n",
              "2124                Transportation - Shipping  United Parcel Service (UPS) is a package deliv...\n",
              "\n",
              "[2125 rows x 2 columns]"
            ]
          },
          "metadata": {},
          "execution_count": 8
        }
      ]
    },
    {
      "cell_type": "code",
      "metadata": {
        "colab": {
          "base_uri": "https://localhost:8080/",
          "height": 814
        },
        "id": "qVd9eW2PFck0",
        "outputId": "353f3ecc-7c63-406a-ab67-e0cf2949c3ee"
      },
      "source": [
        "#Check class distribution\n",
        "import matplotlib.pyplot as plt\n",
        "ax = train_df[\"org_new_industry\"].value_counts().plot(kind='bar',\n",
        "                                    figsize=(14,8),\n",
        "                                    title=\"Industry type distribution\")\n",
        "ax.set_xlabel(\"Industry type\")\n",
        "ax.set_ylabel(\"count\")\n",
        "plt.show()"
      ],
      "execution_count": 10,
      "outputs": [
        {
          "output_type": "display_data",
          "data": {
            "image/png": "[encoded data removed]",
            "text/plain": [
              "<Figure size 1008x576 with 1 Axes>"
            ]
          },
          "metadata": {
            "needs_background": "light"
          }
        }
      ]
    },
    {
      "cell_type": "code",
      "metadata": {
        "id": "b4EU-MzvIOSy"
      },
      "source": [
        "\n",
        "#train_df=train_df.groupby('org_new_industry').filter(lambda x : len(x)>9)"
      ],
      "execution_count": 32,
      "outputs": []
    },
    {
      "cell_type": "code",
      "metadata": {
        "id": "D8yYFDYsJdqY"
      },
      "source": [
        "#train_df.loc[train_df['org_new_industry'].str.contains(\"SAAS - Leisure\"),'org_new_industry'] = 'SAAS - Leisure, Sports and Recreation - Fitness'"
      ],
      "execution_count": 12,
      "outputs": []
    },
    {
      "cell_type": "code",
      "metadata": {
        "colab": {
          "base_uri": "https://localhost:8080/"
        },
        "id": "dRWCz7xpF6GB",
        "outputId": "71ac6527-9749-4da8-a8fb-0488a5b3e5f5"
      },
      "source": [
        "train_df[\"org_new_industry\"].value_counts()"
      ],
      "execution_count": 11,
      "outputs": [
        {
          "output_type": "execute_result",
          "data": {
            "text/plain": [
              "Corporate Services - Consulting    123\n",
              "Finance/Banking - Bank             115\n",
              "SAAS - Sales  - CRM                100\n",
              "SAAS - Finance/HR - Recruiting      94\n",
              "SAAS - eCommerce                    78\n",
              "                                  ... \n",
              "SAAS - Email Marketing               1\n",
              "Transportation                       1\n",
              "SAAS - NGO                           1\n",
              "SAAS - Sales  - Chat                 1\n",
              "SAAS - Marketing Tech                1\n",
              "Name: org_new_industry, Length: 90, dtype: int64"
            ]
          },
          "metadata": {},
          "execution_count": 11
        }
      ]
    },
    {
      "cell_type": "code",
      "metadata": {
        "colab": {
          "base_uri": "https://localhost:8080/"
        },
        "id": "-RdLS1gYA4C1",
        "outputId": "f633c851-5005-4a94-9e1d-3b20fe95f4fc"
      },
      "source": [
        "#Seperate majority class and minority\n",
        "train_df_major=train_df.groupby('org_new_industry').filter(lambda x : len(x)>10)\n",
        "train_df_major[\"org_new_industry\"].value_counts()\n",
        "\n",
        "\n",
        "\n"
      ],
      "execution_count": 9,
      "outputs": [
        {
          "output_type": "execute_result",
          "data": {
            "text/plain": [
              "Corporate Services - Consulting                                    123\n",
              "Finance/Banking - Bank                                             115\n",
              "SAAS - Sales  - CRM                                                100\n",
              "SAAS - Finance/HR - Recruiting                                      94\n",
              "SAAS - eCommerce                                                    78\n",
              "SAAS - EdTech                                                       74\n",
              "Computer Software - Gig Marketplace                                 71\n",
              "SAAS - Marketing Tech - Event Management                            59\n",
              "Leisure, Sports and Recreation - Fitness Brands                     55\n",
              "SAAS - Finance/HR - Human Resources                                 54\n",
              "SAAS - Marketing Tech - Marketing Automation                        50\n",
              "SAAS - Customer Service                                             48\n",
              "Leisure, Sports and Recreation - Fitness Chains                     46\n",
              "Civic, Non-Profit and Membership Groups                             43\n",
              "SAAS - Finance/HR - Accounting                                      42\n",
              "Computer Software - Finance/Banking - Digital Banking               39\n",
              "Retail - Internet Retail                                            38\n",
              "Leisure, Sports and Recreation - Restaurants, Bars and Eateries     37\n",
              "SAAS - Services Management                                          35\n",
              "Leisure, Sports and Recreation - Hotels & Resorts                   35\n",
              "SAAS - Sales  - AI/Sales Intelligence                               34\n",
              "Corporate Services - Recruiting Agency                              33\n",
              "SAAS - Contractor Engagement                                        32\n",
              "Retail - General Retailers                                          31\n",
              "SAAS - Banking Platform                                             30\n",
              "Finance/Banking - Credit Union                                      30\n",
              "Corporate Services - Scaled Outbound Operations                     29\n",
              "Media - Social Media                                                27\n",
              "SAAS - Finance/HR - Payroll                                         25\n",
              "SAAS - GovTech                                                      23\n",
              "Media - Educational Publishing                                      22\n",
              "Corporate Services - Trade Show Organizers                          22\n",
              "Computer Software - C2C Marketplace                                 22\n",
              "Finance/Banking - Finanical Services - Monitoring                   22\n",
              "Energy and Environmental - Carbon Offset Supplier                   22\n",
              "Energy and Environmental - Carbon Measurement & Mgmt                21\n",
              "Leisure, Sports and Recreation - Fitness Technology                 21\n",
              "Food and Beverage - Grocery                                         21\n",
              "Consumer Services - Cleaning Services                               21\n",
              "SAAS - Point of Sale                                                19\n",
              "Consumer Services - Automotive                                      19\n",
              "Consumer Services - Real Estate Brokers                             17\n",
              "SAAS - Feedback                                                     16\n",
              "SAAS - Leisure, Sports and Recreation - Fitness                     16\n",
              "Computer Software - Leisure, Sports and Recreation                  16\n",
              "Media - Publishing                                                  15\n",
              "Finance/Banking - Financial Services                                15\n",
              "SAAS - Public Safety                                                14\n",
              "SAAS - Agtech                                                       13\n",
              "SAAS - Leisure, Sports and Recreation - Travel Management           12\n",
              "Corporate Services - Market Research                                12\n",
              "Corporate Services - Performance Marketing Agency                   11\n",
              "SAAS - Document Management                                          11\n",
              "Name: org_new_industry, dtype: int64"
            ]
          },
          "metadata": {},
          "execution_count": 9
        }
      ]
    },
    {
      "cell_type": "code",
      "metadata": {
        "colab": {
          "base_uri": "https://localhost:8080/"
        },
        "id": "jcciVUm29-b8",
        "outputId": "89db0126-e9f5-48c3-9147-7d3381ca828b"
      },
      "source": [
        "train_df_minor=train_df.groupby('org_new_industry').filter(lambda x : len(x)<10 )\n",
        "train_df_minor[\"org_new_industry\"].value_counts()\n"
      ],
      "execution_count": 10,
      "outputs": [
        {
          "output_type": "execute_result",
          "data": {
            "text/plain": [
              "Transportation - Airline                                     9\n",
              "Computer Software - Online Education                         8\n",
              "Telecommunications                                           8\n",
              "Computer Software                                            8\n",
              "Finance/Banking - Financial Services - Credit Card Issuer    7\n",
              "Retail - Fashion                                             6\n",
              "Media - Publication Tool                                     6\n",
              "SAAS - Automotive                                            6\n",
              "Finance/Banking - CUSO                                       6\n",
              "Computer Hardware                                            5\n",
              "SAAS - Cannabis                                              5\n",
              "Consumer Product Manufacturing                               5\n",
              "SAAS - Transportation                                        4\n",
              "SAAS - Energy                                                4\n",
              "Automotive - Car Manufacturing                               4\n",
              "Corporate Services - Scaled Client Success Operations        4\n",
              "Energy and Environmental - Utilities                         4\n",
              "SAAS - Hospitals and Healthcare - Dental                     4\n",
              "SAAS - Manufacturing                                         3\n",
              "SAAS - Finance/HR - Expense Reporting                        3\n",
              "Energy and Environmental - Oil and Gas                       3\n",
              "SAAS - Finance/HR - ERP                                      2\n",
              "SAAS - Marketing Tech - SEO                                  2\n",
              "SAAS - Hospitals and Healthcare - Medical                    2\n",
              "Transportation - Shipping                                    2\n",
              "Transportation                                               1\n",
              "SAAS - Sales  - Chat                                         1\n",
              "SAAS - NGO                                                   1\n",
              "SAAS - Marketing Tech                                        1\n",
              "SAAS - Email Marketing                                       1\n",
              "Name: org_new_industry, dtype: int64"
            ]
          },
          "metadata": {},
          "execution_count": 10
        }
      ]
    },
    {
      "cell_type": "code",
      "metadata": {
        "colab": {
          "base_uri": "https://localhost:8080/"
        },
        "id": "6ugLs6f79gtb",
        "outputId": "c5c416a1-b9d7-4d72-b150-98a444d8826f"
      },
      "source": [
        "train_df_major[\"org_new_industry\"].value_counts()"
      ],
      "execution_count": 14,
      "outputs": [
        {
          "output_type": "execute_result",
          "data": {
            "text/plain": [
              "Corporate Services - Consulting                                    123\n",
              "Finance/Banking - Bank                                             115\n",
              "SAAS - Sales  - CRM                                                100\n",
              "SAAS - Finance/HR - Recruiting                                      94\n",
              "SAAS - eCommerce                                                    78\n",
              "SAAS - EdTech                                                       74\n",
              "Computer Software - Gig Marketplace                                 71\n",
              "SAAS - Marketing Tech - Event Management                            59\n",
              "Leisure, Sports and Recreation - Fitness Brands                     55\n",
              "SAAS - Finance/HR - Human Resources                                 54\n",
              "SAAS - Marketing Tech - Marketing Automation                        50\n",
              "SAAS - Customer Service                                             48\n",
              "Leisure, Sports and Recreation - Fitness Chains                     46\n",
              "Civic, Non-Profit and Membership Groups                             43\n",
              "SAAS - Finance/HR - Accounting                                      42\n",
              "Computer Software - Finance/Banking - Digital Banking               39\n",
              "Retail - Internet Retail                                            38\n",
              "Leisure, Sports and Recreation - Restaurants, Bars and Eateries     37\n",
              "Leisure, Sports and Recreation - Hotels & Resorts                   35\n",
              "SAAS - Services Management                                          35\n",
              "SAAS - Sales  - AI/Sales Intelligence                               34\n",
              "Corporate Services - Recruiting Agency                              33\n",
              "SAAS - Contractor Engagement                                        32\n",
              "Retail - General Retailers                                          31\n",
              "SAAS - Banking Platform                                             30\n",
              "Finance/Banking - Credit Union                                      30\n",
              "Corporate Services - Scaled Outbound Operations                     29\n",
              "Media - Social Media                                                27\n",
              "SAAS - Finance/HR - Payroll                                         25\n",
              "SAAS - GovTech                                                      23\n",
              "Energy and Environmental - Carbon Offset Supplier                   22\n",
              "Finance/Banking - Finanical Services - Monitoring                   22\n",
              "Computer Software - C2C Marketplace                                 22\n",
              "Corporate Services - Trade Show Organizers                          22\n",
              "Media - Educational Publishing                                      22\n",
              "Food and Beverage - Grocery                                         21\n",
              "Energy and Environmental - Carbon Measurement & Mgmt                21\n",
              "Leisure, Sports and Recreation - Fitness Technology                 21\n",
              "Consumer Services - Cleaning Services                               21\n",
              "Consumer Services - Automotive                                      19\n",
              "SAAS - Point of Sale                                                19\n",
              "Consumer Services - Real Estate Brokers                             17\n",
              "Computer Software - Leisure, Sports and Recreation                  16\n",
              "SAAS - Feedback                                                     16\n",
              "SAAS - Leisure, Sports and Recreation - Fitness                     16\n",
              "Finance/Banking - Financial Services                                15\n",
              "Media - Publishing                                                  15\n",
              "SAAS - Public Safety                                                14\n",
              "SAAS - Agtech                                                       13\n",
              "Corporate Services - Market Research                                12\n",
              "SAAS - Leisure, Sports and Recreation - Travel Management           12\n",
              "SAAS - Document Management                                          11\n",
              "Corporate Services - Performance Marketing Agency                   11\n",
              "Name: org_new_industry, dtype: int64"
            ]
          },
          "metadata": {},
          "execution_count": 14
        }
      ]
    },
    {
      "cell_type": "code",
      "metadata": {
        "id": "5ZggzDX1Cytn"
      },
      "source": [
        "from sklearn.utils import resample\n",
        "train_df_minor_upsampled = resample(train_df_minor, \n",
        "                                 replace=True,     # sample with replacement\n",
        "                                 n_samples=3000,    # to match majority class\n",
        "                                 random_state=123) \n",
        "\n"
      ],
      "execution_count": 11,
      "outputs": []
    },
    {
      "cell_type": "code",
      "metadata": {
        "colab": {
          "base_uri": "https://localhost:8080/"
        },
        "id": "vdWDu_CAywoa",
        "outputId": "63bbac94-1ea6-4748-a507-e6aade500c21"
      },
      "source": [
        "#combine majority class with upsampled minority class\n",
        "train_df=pd.concat([train_df_major, train_df_minor_upsampled])\n"
      ],
      "execution_count": 12,
      "outputs": [
        {
          "output_type": "execute_result",
          "data": {
            "text/plain": [
              "(4930, 2)"
            ]
          },
          "metadata": {},
          "execution_count": 12
        }
      ]
    },
    {
      "cell_type": "code",
      "metadata": {
        "colab": {
          "base_uri": "https://localhost:8080/"
        },
        "id": "Ky6oFowdFpel",
        "outputId": "463931e0-0e18-4f07-eb25-e519b83de862"
      },
      "source": [
        "train_df[\"org_new_industry\"].value_counts()"
      ],
      "execution_count": 18,
      "outputs": [
        {
          "output_type": "execute_result",
          "data": {
            "text/plain": [
              "Transportation - Airline                                     202\n",
              "Telecommunications                                           199\n",
              "Computer Software - Online Education                         192\n",
              "Computer Software                                            186\n",
              "Finance/Banking - Financial Services - Credit Card Issuer    163\n",
              "                                                            ... \n",
              "SAAS - Agtech                                                 13\n",
              "SAAS - Leisure, Sports and Recreation - Travel Management     12\n",
              "Corporate Services - Market Research                          12\n",
              "Corporate Services - Performance Marketing Agency             11\n",
              "SAAS - Document Management                                    11\n",
              "Name: org_new_industry, Length: 83, dtype: int64"
            ]
          },
          "metadata": {},
          "execution_count": 18
        }
      ]
    },
    {
      "cell_type": "code",
      "metadata": {
        "id": "WSPYb2n6Kgi6"
      },
      "source": [
        "from pyspark.sql import SparkSession\n",
        "\n",
        "spark = SparkSession.builder \\\n",
        "    .master(\"local[1]\") \\\n",
        "    .appName(\"SparkByExamples.com\") \\\n",
        "    .getOrCreate()\n",
        "\n",
        "train_sparkdf=spark.createDataFrame(train_df) "
      ],
      "execution_count": null,
      "outputs": []
    },
    {
      "cell_type": "markdown",
      "metadata": {
        "id": "nob_fMMNFCqV"
      },
      "source": [
        "Text Classification with Classifier with SparkNLP"
      ]
    },
    {
      "cell_type": "markdown",
      "metadata": {
        "id": "-L6lMem7M5DW"
      },
      "source": [
        " Code for SparkNLP modified from JohnSnowLabs tutorials https://github.com/JohnSnowLabs/spark-nlp-workshop "
      ]
    },
    {
      "cell_type": "code",
      "metadata": {
        "id": "Cd7V7OrdneRc"
      },
      "source": [
        "document = DocumentAssembler()\\\n",
        "    .setInputCol(\"description_combined\")\\\n",
        "    .setOutputCol(\"document\")"
      ],
      "execution_count": null,
      "outputs": []
    },
    {
      "cell_type": "code",
      "metadata": {
        "colab": {
          "base_uri": "https://localhost:8080/"
        },
        "id": "vCCDdv19obDn",
        "outputId": "5bceab90-5369-4741-d578-b5db484be9d4"
      },
      "source": [
        "use = UniversalSentenceEncoder.pretrained()\\\n",
        " .setInputCols([\"document\"])\\\n",
        " .setOutputCol(\"sentence_embeddings\")"
      ],
      "execution_count": null,
      "outputs": [
        {
          "output_type": "stream",
          "name": "stdout",
          "text": [
            "tfhub_use download started this may take some time.\n",
            "Approximate size to download 923.7 MB\n",
            "[OK!]\n"
          ]
        }
      ]
    },
    {
      "cell_type": "code",
      "metadata": {
        "id": "oj07-OJEpu8l"
      },
      "source": [
        "classsifierdl = ClassifierDLApproach()\\\n",
        "  .setInputCols([\"sentence_embeddings\"])\\\n",
        "  .setOutputCol(\"class\")\\\n",
        "  .setLabelColumn(\"org_new_industry\")\\\n",
        "  .setMaxEpochs(100)\\\n",
        "  .setEnableOutputLogs(True)"
      ],
      "execution_count": null,
      "outputs": []
    },
    {
      "cell_type": "code",
      "metadata": {
        "id": "iC20rjZhp02J"
      },
      "source": [
        "use_clf_pipeline = Pipeline(\n",
        "    stages = [\n",
        "        document,\n",
        "        use,\n",
        "        classsifierdl\n",
        "    ])"
      ],
      "execution_count": null,
      "outputs": []
    },
    {
      "cell_type": "code",
      "metadata": {
        "id": "yuXtkx3Hp5ZY"
      },
      "source": [
        "use_pipelineModel = use_clf_pipeline.fit(train_sparkdf)"
      ],
      "execution_count": null,
      "outputs": []
    },
    {
      "cell_type": "code",
      "metadata": {
        "colab": {
          "base_uri": "https://localhost:8080/"
        },
        "id": "nKX059c70wFE",
        "outputId": "da4d7f7f-52d0-472a-ff1d-4e9903ba261e"
      },
      "source": [
        "#Check the log file for accuracy\n",
        "!cat /root/annotator_logs/ClassifierDLApproach_be988989c0da.log"
      ],
      "execution_count": null,
      "outputs": [
        {
          "output_type": "stream",
          "name": "stdout",
          "text": [
            "Training started - epochs: 10 - learning_rate: 0.005 - batch_size: 64 - training_examples: 1408 - classes: 57\n",
            "Epoch 0/10 - 0.91s - loss: 86.350716 - acc: 0.06392045 - batches: 22\n",
            "Epoch 1/10 - 0.49s - loss: 85.34599 - acc: 0.06534091 - batches: 22\n",
            "Epoch 2/10 - 0.50s - loss: 85.20158 - acc: 0.06534091 - batches: 22\n",
            "Epoch 3/10 - 0.49s - loss: 85.18302 - acc: 0.07457387 - batches: 22\n",
            "Epoch 4/10 - 0.44s - loss: 85.15109 - acc: 0.09090909 - batches: 22\n",
            "Epoch 5/10 - 0.46s - loss: 85.31926 - acc: 0.09090909 - batches: 22\n",
            "Epoch 6/10 - 0.44s - loss: 85.45742 - acc: 0.09090909 - batches: 22\n",
            "Epoch 7/10 - 0.42s - loss: 85.69988 - acc: 0.09090909 - batches: 22\n",
            "Epoch 8/10 - 0.41s - loss: 85.692604 - acc: 0.09090909 - batches: 22\n",
            "Epoch 9/10 - 0.42s - loss: 85.70982 - acc: 0.09090909 - batches: 22\n"
          ]
        }
      ]
    },
    {
      "cell_type": "markdown",
      "metadata": {
        "id": "-vDy37S9FY5S"
      },
      "source": [
        "Bert Sentence Embedding "
      ]
    },
    {
      "cell_type": "code",
      "metadata": {
        "id": "eF3Pb9m804oi"
      },
      "source": [
        "document = DocumentAssembler()\\\n",
        "    .setInputCol(\"description_combined\")\\\n",
        "    .setOutputCol(\"document\")"
      ],
      "execution_count": null,
      "outputs": []
    },
    {
      "cell_type": "code",
      "metadata": {
        "colab": {
          "base_uri": "https://localhost:8080/"
        },
        "id": "jZ2x1zoN1GuZ",
        "outputId": "a9e788a4-2e73-49fd-d337-e1df8740c2ce"
      },
      "source": [
        "bert_sent=BertSentenceEmbeddings.pretrained(\"sent_small_bert_L8_512\")\\\n",
        ".setInputCols([\"document\"])\\\n",
        ".setOutputCol(\"sentence_embeddings\")"
      ],
      "execution_count": null,
      "outputs": [
        {
          "output_type": "stream",
          "name": "stdout",
          "text": [
            "sent_small_bert_L8_512 download started this may take some time.\n",
            "Approximate size to download 149.1 MB\n",
            "[OK!]\n"
          ]
        }
      ]
    },
    {
      "cell_type": "code",
      "metadata": {
        "id": "Y88j_Dcq2Btp"
      },
      "source": [
        "classsifierd2 = ClassifierDLApproach()\\\n",
        "  .setInputCols([\"sentence_embeddings\"])\\\n",
        "  .setOutputCol(\"class\")\\\n",
        "  .setLabelColumn(\"org_new_industry\")\\\n",
        "  .setMaxEpochs(20)\\\n",
        "  .setEnableOutputLogs(True)"
      ],
      "execution_count": null,
      "outputs": []
    },
    {
      "cell_type": "code",
      "metadata": {
        "id": "StIZfgVk2LNi"
      },
      "source": [
        "bert_sent_clf_pipeline=Pipeline(\n",
        "    stages=\n",
        "    [document,bert_sent,classsifierd2])"
      ],
      "execution_count": null,
      "outputs": []
    },
    {
      "cell_type": "code",
      "metadata": {
        "id": "xi54yJzu3LbK"
      },
      "source": [
        "bert_sentPiplelineModel=bert_sent_clf_pipeline.fit(train_sparkdf)"
      ],
      "execution_count": null,
      "outputs": []
    },
    {
      "cell_type": "code",
      "metadata": {
        "colab": {
          "base_uri": "https://localhost:8080/"
        },
        "id": "bSHW0HRZ23L7",
        "outputId": "b17fde70-ef3e-4bdc-b000-c1c5cce91d69"
      },
      "source": [
        "!cat /root/annotator_logs/ClassifierDLApproach_e03f35e43850.log"
      ],
      "execution_count": null,
      "outputs": [
        {
          "output_type": "stream",
          "name": "stdout",
          "text": [
            "Training started - epochs: 100 - learning_rate: 0.005 - batch_size: 64 - training_examples: 2000 - classes: 57\n",
            "Epoch 0/100 - 0.79s - loss: 127.83613 - acc: 0.07711694 - batches: 32\n",
            "Epoch 1/100 - 0.50s - loss: 127.5002 - acc: 0.10483871 - batches: 32\n",
            "Epoch 2/100 - 0.49s - loss: 126.309616 - acc: 0.11391129 - batches: 32\n",
            "Epoch 3/100 - 0.47s - loss: 126.31585 - acc: 0.11794355 - batches: 32\n",
            "Epoch 4/100 - 0.50s - loss: 126.34202 - acc: 0.11794355 - batches: 32\n",
            "Epoch 5/100 - 0.51s - loss: 126.31132 - acc: 0.12096774 - batches: 32\n",
            "Epoch 6/100 - 0.51s - loss: 126.31459 - acc: 0.11945564 - batches: 32\n",
            "Epoch 7/100 - 0.49s - loss: 126.28653 - acc: 0.12247984 - batches: 32\n",
            "Epoch 8/100 - 0.50s - loss: 126.196724 - acc: 0.12298387 - batches: 32\n",
            "Epoch 9/100 - 0.53s - loss: 126.078224 - acc: 0.123487905 - batches: 32\n",
            "Epoch 10/100 - 0.49s - loss: 125.960625 - acc: 0.123487905 - batches: 32\n",
            "Epoch 11/100 - 0.49s - loss: 125.74481 - acc: 0.13004032 - batches: 32\n",
            "Epoch 12/100 - 0.50s - loss: 125.35416 - acc: 0.15070565 - batches: 32\n",
            "Epoch 13/100 - 0.51s - loss: 124.86316 - acc: 0.15372984 - batches: 32\n",
            "Epoch 14/100 - 0.50s - loss: 124.50943 - acc: 0.15725806 - batches: 32\n",
            "Epoch 15/100 - 0.52s - loss: 124.336395 - acc: 0.16028225 - batches: 32\n",
            "Epoch 16/100 - 0.51s - loss: 124.252335 - acc: 0.16028225 - batches: 32\n",
            "Epoch 17/100 - 0.50s - loss: 124.21479 - acc: 0.16129032 - batches: 32\n",
            "Epoch 18/100 - 0.57s - loss: 124.1936 - acc: 0.16179435 - batches: 32\n",
            "Epoch 19/100 - 0.72s - loss: 124.18042 - acc: 0.16179435 - batches: 32\n",
            "Epoch 20/100 - 0.65s - loss: 124.173416 - acc: 0.16179435 - batches: 32\n",
            "Epoch 21/100 - 0.51s - loss: 124.16824 - acc: 0.16179435 - batches: 32\n",
            "Epoch 22/100 - 0.49s - loss: 124.163124 - acc: 0.16179435 - batches: 32\n",
            "Epoch 23/100 - 0.49s - loss: 124.15852 - acc: 0.16179435 - batches: 32\n",
            "Epoch 24/100 - 0.49s - loss: 124.153465 - acc: 0.16179435 - batches: 32\n",
            "Epoch 25/100 - 0.49s - loss: 124.14829 - acc: 0.16179435 - batches: 32\n",
            "Epoch 26/100 - 0.54s - loss: 124.14335 - acc: 0.16179435 - batches: 32\n",
            "Epoch 27/100 - 0.55s - loss: 124.13809 - acc: 0.16179435 - batches: 32\n",
            "Epoch 28/100 - 0.58s - loss: 124.13211 - acc: 0.16179435 - batches: 32\n",
            "Epoch 29/100 - 0.56s - loss: 124.1261 - acc: 0.16179435 - batches: 32\n",
            "Epoch 30/100 - 0.55s - loss: 124.119484 - acc: 0.16179435 - batches: 32\n",
            "Epoch 31/100 - 0.53s - loss: 124.1125 - acc: 0.16179435 - batches: 32\n",
            "Epoch 32/100 - 0.55s - loss: 124.10552 - acc: 0.16179435 - batches: 32\n",
            "Epoch 33/100 - 0.55s - loss: 124.09795 - acc: 0.16179435 - batches: 32\n",
            "Epoch 34/100 - 0.55s - loss: 124.08961 - acc: 0.16179435 - batches: 32\n",
            "Epoch 35/100 - 0.58s - loss: 124.0814 - acc: 0.16179435 - batches: 32\n",
            "Epoch 36/100 - 0.58s - loss: 124.07245 - acc: 0.16179435 - batches: 32\n",
            "Epoch 37/100 - 0.59s - loss: 124.063354 - acc: 0.16179435 - batches: 32\n",
            "Epoch 38/100 - 0.58s - loss: 124.05355 - acc: 0.16179435 - batches: 32\n",
            "Epoch 39/100 - 0.58s - loss: 124.04345 - acc: 0.16179435 - batches: 32\n",
            "Epoch 40/100 - 0.56s - loss: 124.03159 - acc: 0.16179435 - batches: 32\n",
            "Epoch 41/100 - 0.55s - loss: 124.01919 - acc: 0.16179435 - batches: 32\n",
            "Epoch 42/100 - 0.56s - loss: 124.006516 - acc: 0.16179435 - batches: 32\n",
            "Epoch 43/100 - 0.55s - loss: 123.99297 - acc: 0.16179435 - batches: 32\n",
            "Epoch 44/100 - 0.57s - loss: 123.97943 - acc: 0.16179435 - batches: 32\n",
            "Epoch 45/100 - 0.57s - loss: 123.9654 - acc: 0.16179435 - batches: 32\n",
            "Epoch 46/100 - 0.62s - loss: 123.951164 - acc: 0.16179435 - batches: 32\n",
            "Epoch 47/100 - 0.59s - loss: 123.9365 - acc: 0.16179435 - batches: 32\n",
            "Epoch 48/100 - 0.56s - loss: 123.9217 - acc: 0.16229838 - batches: 32\n",
            "Epoch 49/100 - 0.59s - loss: 123.90688 - acc: 0.16229838 - batches: 32\n",
            "Epoch 50/100 - 0.71s - loss: 123.89138 - acc: 0.16229838 - batches: 32\n",
            "Epoch 51/100 - 0.59s - loss: 123.87617 - acc: 0.16229838 - batches: 32\n",
            "Epoch 52/100 - 0.61s - loss: 123.86089 - acc: 0.16229838 - batches: 32\n",
            "Epoch 53/100 - 0.61s - loss: 123.84564 - acc: 0.16229838 - batches: 32\n",
            "Epoch 54/100 - 0.64s - loss: 123.83032 - acc: 0.16229838 - batches: 32\n",
            "Epoch 55/100 - 0.59s - loss: 123.81534 - acc: 0.16229838 - batches: 32\n",
            "Epoch 56/100 - 0.60s - loss: 123.80016 - acc: 0.16229838 - batches: 32\n",
            "Epoch 57/100 - 0.60s - loss: 123.7852 - acc: 0.16229838 - batches: 32\n",
            "Epoch 58/100 - 0.57s - loss: 123.77082 - acc: 0.16280241 - batches: 32\n",
            "Epoch 59/100 - 0.61s - loss: 123.75645 - acc: 0.16280241 - batches: 32\n",
            "Epoch 60/100 - 0.59s - loss: 123.74254 - acc: 0.16280241 - batches: 32\n",
            "Epoch 61/100 - 0.60s - loss: 123.728935 - acc: 0.16280241 - batches: 32\n",
            "Epoch 62/100 - 0.60s - loss: 123.7159 - acc: 0.16280241 - batches: 32\n",
            "Epoch 63/100 - 0.58s - loss: 123.7034 - acc: 0.16280241 - batches: 32\n",
            "Epoch 64/100 - 0.60s - loss: 123.69094 - acc: 0.16280241 - batches: 32\n",
            "Epoch 65/100 - 0.58s - loss: 123.67917 - acc: 0.16280241 - batches: 32\n",
            "Epoch 66/100 - 0.60s - loss: 123.66779 - acc: 0.16280241 - batches: 32\n",
            "Epoch 67/100 - 0.57s - loss: 123.656784 - acc: 0.16280241 - batches: 32\n",
            "Epoch 68/100 - 0.62s - loss: 123.64601 - acc: 0.16280241 - batches: 32\n",
            "Epoch 69/100 - 0.58s - loss: 123.63561 - acc: 0.16280241 - batches: 32\n",
            "Epoch 70/100 - 0.59s - loss: 123.62579 - acc: 0.16280241 - batches: 32\n",
            "Epoch 71/100 - 0.62s - loss: 123.61617 - acc: 0.16280241 - batches: 32\n",
            "Epoch 72/100 - 0.58s - loss: 123.607155 - acc: 0.16280241 - batches: 32\n",
            "Epoch 73/100 - 0.61s - loss: 123.598526 - acc: 0.16280241 - batches: 32\n",
            "Epoch 74/100 - 0.61s - loss: 123.590126 - acc: 0.16280241 - batches: 32\n",
            "Epoch 75/100 - 0.60s - loss: 123.58215 - acc: 0.16280241 - batches: 32\n",
            "Epoch 76/100 - 0.59s - loss: 123.574295 - acc: 0.16280241 - batches: 32\n",
            "Epoch 77/100 - 0.61s - loss: 123.56692 - acc: 0.16280241 - batches: 32\n",
            "Epoch 78/100 - 0.59s - loss: 123.5598 - acc: 0.16280241 - batches: 32\n",
            "Epoch 79/100 - 0.58s - loss: 123.55319 - acc: 0.16280241 - batches: 32\n",
            "Epoch 80/100 - 0.60s - loss: 123.54661 - acc: 0.16280241 - batches: 32\n",
            "Epoch 81/100 - 0.62s - loss: 123.5405 - acc: 0.16280241 - batches: 32\n",
            "Epoch 82/100 - 0.58s - loss: 123.53463 - acc: 0.16330644 - batches: 32\n",
            "Epoch 83/100 - 0.59s - loss: 123.52881 - acc: 0.16330644 - batches: 32\n",
            "Epoch 84/100 - 0.62s - loss: 123.523415 - acc: 0.16330644 - batches: 32\n",
            "Epoch 85/100 - 0.61s - loss: 123.51801 - acc: 0.16330644 - batches: 32\n",
            "Epoch 86/100 - 0.61s - loss: 123.51286 - acc: 0.16330644 - batches: 32\n",
            "Epoch 87/100 - 0.59s - loss: 123.50794 - acc: 0.16330644 - batches: 32\n",
            "Epoch 88/100 - 0.59s - loss: 123.50315 - acc: 0.16330644 - batches: 32\n",
            "Epoch 89/100 - 0.58s - loss: 123.49845 - acc: 0.16330644 - batches: 32\n",
            "Epoch 90/100 - 0.60s - loss: 123.49399 - acc: 0.16330644 - batches: 32\n",
            "Epoch 91/100 - 0.60s - loss: 123.48976 - acc: 0.16330644 - batches: 32\n",
            "Epoch 92/100 - 0.58s - loss: 123.48564 - acc: 0.16330644 - batches: 32\n",
            "Epoch 93/100 - 0.60s - loss: 123.481674 - acc: 0.16330644 - batches: 32\n",
            "Epoch 94/100 - 0.59s - loss: 123.4778 - acc: 0.16330644 - batches: 32\n",
            "Epoch 95/100 - 0.60s - loss: 123.47412 - acc: 0.16330644 - batches: 32\n",
            "Epoch 96/100 - 0.59s - loss: 123.47049 - acc: 0.16330644 - batches: 32\n",
            "Epoch 97/100 - 0.61s - loss: 123.46706 - acc: 0.16330644 - batches: 32\n",
            "Epoch 98/100 - 0.59s - loss: 123.46362 - acc: 0.16330644 - batches: 32\n",
            "Epoch 99/100 - 0.58s - loss: 123.4604 - acc: 0.16330644 - batches: 32\n"
          ]
        }
      ]
    },
    {
      "cell_type": "markdown",
      "metadata": {
        "id": "XX3ip9DHFnhM"
      },
      "source": [
        "Using Glove Embeddings"
      ]
    },
    {
      "cell_type": "code",
      "metadata": {
        "colab": {
          "base_uri": "https://localhost:8080/"
        },
        "id": "QKmAynN6DQcs",
        "outputId": "e12727f4-e95b-4cbb-a5d5-f3949b851d9a"
      },
      "source": [
        "document_assembler = DocumentAssembler() \\\n",
        "    .setInputCol(\"description_combined\") \\\n",
        "    .setOutputCol(\"document\")\n",
        "    \n",
        "tokenizer = Tokenizer() \\\n",
        "    .setInputCols([\"document\"]) \\\n",
        "    .setOutputCol(\"token\")\n",
        "      \n",
        "normalizer = Normalizer() \\\n",
        "    .setInputCols([\"token\"]) \\\n",
        "    .setOutputCol(\"normalized\")\n",
        "\n",
        "stopwords_cleaner = StopWordsCleaner()\\\n",
        "    .setInputCols(\"normalized\")\\\n",
        "    .setOutputCol(\"cleanTokens\")\\\n",
        "    .setCaseSensitive(False)\n",
        "\n",
        "lemma = LemmatizerModel.pretrained('lemma_antbnc') \\\n",
        "    .setInputCols([\"cleanTokens\"]) \\\n",
        "    .setOutputCol(\"lemma\")\n",
        "\n",
        "\n"
      ],
      "execution_count": 33,
      "outputs": [
        {
          "output_type": "stream",
          "name": "stdout",
          "text": [
            "lemma_antbnc download started this may take some time.\n",
            "Approximate size to download 907.6 KB\n",
            "[OK!]\n"
          ]
        }
      ]
    },
    {
      "cell_type": "code",
      "metadata": {
        "colab": {
          "base_uri": "https://localhost:8080/"
        },
        "id": "9giuItL7D1kj",
        "outputId": "eaca98d2-3aa6-4a48-b7f4-a5fdecd09d2e"
      },
      "source": [
        "glove_embeddings = WordEmbeddingsModel().pretrained() \\\n",
        "      .setInputCols([\"document\",'lemma'])\\\n",
        "      .setOutputCol(\"embeddings\")\\\n",
        "      .setCaseSensitive(False)\n",
        "\n",
        "embeddingsSentence = SentenceEmbeddings() \\\n",
        "      .setInputCols([\"document\", \"embeddings\"]) \\\n",
        "      .setOutputCol(\"sentence_embeddings\") \\\n",
        "      .setPoolingStrategy(\"AVERAGE\")\n",
        "\n",
        "classsifierd3 = ClassifierDLApproach()\\\n",
        "      .setInputCols([\"sentence_embeddings\"])\\\n",
        "      .setOutputCol(\"class\")\\\n",
        "      .setLabelColumn(\"org_new_industry\")\\\n",
        "      .setMaxEpochs(150)\\\n",
        "      .setEnableOutputLogs(True)\n",
        "      #.setOutputLogsPath('logs')\n",
        "\n",
        "clf_pipeline = Pipeline(\n",
        "    stages=[document_assembler, \n",
        "            tokenizer,\n",
        "            normalizer,\n",
        "            stopwords_cleaner, \n",
        "            lemma, \n",
        "            glove_embeddings,\n",
        "            embeddingsSentence,\n",
        "            classsifierd3])"
      ],
      "execution_count": 34,
      "outputs": [
        {
          "output_type": "stream",
          "name": "stdout",
          "text": [
            "glove_100d download started this may take some time.\n",
            "Approximate size to download 145.3 MB\n",
            "[OK!]\n"
          ]
        }
      ]
    },
    {
      "cell_type": "code",
      "metadata": {
        "id": "OStVKi7pEELT"
      },
      "source": [
        "clf_pipelineModel = clf_pipeline.fit(train_sparkdf)"
      ],
      "execution_count": 35,
      "outputs": []
    },
    {
      "cell_type": "code",
      "metadata": {
        "colab": {
          "base_uri": "https://localhost:8080/"
        },
        "id": "vgFupVrIhItX",
        "outputId": "4f73f53b-5660-4467-ef31-87292c343dd0"
      },
      "source": [
        "!cat /root/annotator_logs/ClassifierDLApproach_9c336719bc43.log"
      ],
      "execution_count": 36,
      "outputs": [
        {
          "output_type": "stream",
          "name": "stdout",
          "text": [
            "Training started - epochs: 150 - learning_rate: 0.005 - batch_size: 64 - training_examples: 4930 - classes: 83\n",
            "Epoch 0/150 - 1.65s - loss: 340.80334 - acc: 0.1434659 - batches: 78\n",
            "Epoch 1/150 - 1.14s - loss: 330.56232 - acc: 0.26704547 - batches: 78\n",
            "Epoch 2/150 - 1.11s - loss: 328.5298 - acc: 0.2924107 - batches: 78\n",
            "Epoch 3/150 - 1.08s - loss: 328.1712 - acc: 0.29383117 - batches: 78\n",
            "Epoch 4/150 - 1.06s - loss: 328.1233 - acc: 0.29383117 - batches: 78\n",
            "Epoch 5/150 - 1.05s - loss: 328.10086 - acc: 0.29383117 - batches: 78\n",
            "Epoch 6/150 - 1.03s - loss: 328.0877 - acc: 0.29383117 - batches: 78\n",
            "Epoch 7/150 - 1.02s - loss: 328.07816 - acc: 0.29383117 - batches: 78\n",
            "Epoch 8/150 - 1.06s - loss: 328.07056 - acc: 0.29383117 - batches: 78\n",
            "Epoch 9/150 - 1.08s - loss: 328.06433 - acc: 0.29383117 - batches: 78\n",
            "Epoch 10/150 - 1.06s - loss: 328.05917 - acc: 0.29383117 - batches: 78\n",
            "Epoch 11/150 - 1.11s - loss: 328.05505 - acc: 0.29383117 - batches: 78\n",
            "Epoch 12/150 - 1.04s - loss: 328.05167 - acc: 0.29383117 - batches: 78\n",
            "Epoch 13/150 - 1.07s - loss: 328.04886 - acc: 0.29383117 - batches: 78\n",
            "Epoch 14/150 - 1.06s - loss: 328.04645 - acc: 0.29383117 - batches: 78\n",
            "Epoch 15/150 - 1.04s - loss: 328.04404 - acc: 0.29383117 - batches: 78\n",
            "Epoch 16/150 - 1.03s - loss: 328.04184 - acc: 0.29383117 - batches: 78\n",
            "Epoch 17/150 - 1.04s - loss: 328.0398 - acc: 0.29383117 - batches: 78\n",
            "Epoch 18/150 - 1.32s - loss: 328.03778 - acc: 0.29383117 - batches: 78\n",
            "Epoch 19/150 - 1.21s - loss: 328.03595 - acc: 0.29383117 - batches: 78\n",
            "Epoch 20/150 - 1.06s - loss: 328.03418 - acc: 0.29383117 - batches: 78\n",
            "Epoch 21/150 - 1.08s - loss: 328.0324 - acc: 0.29383117 - batches: 78\n",
            "Epoch 22/150 - 1.05s - loss: 328.03073 - acc: 0.29383117 - batches: 78\n",
            "Epoch 23/150 - 1.04s - loss: 328.02927 - acc: 0.29383117 - batches: 78\n",
            "Epoch 24/150 - 1.03s - loss: 328.02795 - acc: 0.29383117 - batches: 78\n",
            "Epoch 25/150 - 1.03s - loss: 328.02682 - acc: 0.29383117 - batches: 78\n",
            "Epoch 26/150 - 1.02s - loss: 328.02567 - acc: 0.29383117 - batches: 78\n",
            "Epoch 27/150 - 1.02s - loss: 328.0248 - acc: 0.29383117 - batches: 78\n",
            "Epoch 28/150 - 1.07s - loss: 328.0239 - acc: 0.29383117 - batches: 78\n",
            "Epoch 29/150 - 1.03s - loss: 328.0231 - acc: 0.29383117 - batches: 78\n",
            "Epoch 30/150 - 1.03s - loss: 328.0223 - acc: 0.29383117 - batches: 78\n",
            "Epoch 31/150 - 1.04s - loss: 328.02158 - acc: 0.29383117 - batches: 78\n",
            "Epoch 32/150 - 1.03s - loss: 328.02094 - acc: 0.29383117 - batches: 78\n",
            "Epoch 33/150 - 1.03s - loss: 328.02023 - acc: 0.29383117 - batches: 78\n",
            "Epoch 34/150 - 1.02s - loss: 328.0196 - acc: 0.29383117 - batches: 78\n",
            "Epoch 35/150 - 1.02s - loss: 328.01892 - acc: 0.29383117 - batches: 78\n",
            "Epoch 36/150 - 1.03s - loss: 328.01825 - acc: 0.29383117 - batches: 78\n",
            "Epoch 37/150 - 1.05s - loss: 328.01755 - acc: 0.29383117 - batches: 78\n",
            "Epoch 38/150 - 1.04s - loss: 328.0168 - acc: 0.29383117 - batches: 78\n",
            "Epoch 39/150 - 1.01s - loss: 328.01602 - acc: 0.29383117 - batches: 78\n",
            "Epoch 40/150 - 1.04s - loss: 328.01508 - acc: 0.29383117 - batches: 78\n",
            "Epoch 41/150 - 1.02s - loss: 328.01392 - acc: 0.29383117 - batches: 78\n",
            "Epoch 42/150 - 1.03s - loss: 328.01224 - acc: 0.29383117 - batches: 78\n",
            "Epoch 43/150 - 1.04s - loss: 328.0089 - acc: 0.29383117 - batches: 78\n",
            "Epoch 44/150 - 1.02s - loss: 327.99698 - acc: 0.29383117 - batches: 78\n",
            "Epoch 45/150 - 1.05s - loss: 326.7438 - acc: 0.30194804 - batches: 78\n",
            "Epoch 46/150 - 1.05s - loss: 325.27295 - acc: 0.31128246 - batches: 78\n",
            "Epoch 47/150 - 1.16s - loss: 324.7918 - acc: 0.3143263 - batches: 78\n",
            "Epoch 48/150 - 1.05s - loss: 324.51953 - acc: 0.3143263 - batches: 78\n",
            "Epoch 49/150 - 1.03s - loss: 324.412 - acc: 0.3143263 - batches: 78\n",
            "Epoch 50/150 - 0.99s - loss: 324.34976 - acc: 0.3143263 - batches: 78\n",
            "Epoch 51/150 - 1.02s - loss: 324.30826 - acc: 0.3143263 - batches: 78\n",
            "Epoch 52/150 - 1.02s - loss: 324.27863 - acc: 0.3143263 - batches: 78\n",
            "Epoch 53/150 - 1.05s - loss: 324.2555 - acc: 0.3143263 - batches: 78\n",
            "Epoch 54/150 - 1.02s - loss: 324.23734 - acc: 0.3143263 - batches: 78\n",
            "Epoch 55/150 - 1.02s - loss: 324.2223 - acc: 0.3143263 - batches: 78\n",
            "Epoch 56/150 - 1.04s - loss: 324.20972 - acc: 0.3143263 - batches: 78\n",
            "Epoch 57/150 - 1.03s - loss: 324.199 - acc: 0.3143263 - batches: 78\n",
            "Epoch 58/150 - 1.02s - loss: 324.18973 - acc: 0.3143263 - batches: 78\n",
            "Epoch 59/150 - 1.04s - loss: 324.1814 - acc: 0.3143263 - batches: 78\n",
            "Epoch 60/150 - 1.08s - loss: 324.17407 - acc: 0.3143263 - batches: 78\n",
            "Epoch 61/150 - 1.02s - loss: 324.16727 - acc: 0.3143263 - batches: 78\n",
            "Epoch 62/150 - 1.02s - loss: 324.16122 - acc: 0.3143263 - batches: 78\n",
            "Epoch 63/150 - 1.04s - loss: 324.15573 - acc: 0.3143263 - batches: 78\n",
            "Epoch 64/150 - 1.02s - loss: 324.15067 - acc: 0.3143263 - batches: 78\n",
            "Epoch 65/150 - 1.02s - loss: 324.14594 - acc: 0.3143263 - batches: 78\n",
            "Epoch 66/150 - 1.01s - loss: 324.14163 - acc: 0.3143263 - batches: 78\n",
            "Epoch 67/150 - 1.05s - loss: 324.13742 - acc: 0.3143263 - batches: 78\n",
            "Epoch 68/150 - 1.05s - loss: 324.1335 - acc: 0.3143263 - batches: 78\n",
            "Epoch 69/150 - 1.25s - loss: 324.12985 - acc: 0.3143263 - batches: 78\n",
            "Epoch 70/150 - 1.02s - loss: 324.12637 - acc: 0.3143263 - batches: 78\n",
            "Epoch 71/150 - 1.02s - loss: 324.12302 - acc: 0.3143263 - batches: 78\n",
            "Epoch 72/150 - 1.03s - loss: 324.1198 - acc: 0.3143263 - batches: 78\n",
            "Epoch 73/150 - 1.04s - loss: 324.11685 - acc: 0.3143263 - batches: 78\n",
            "Epoch 74/150 - 1.03s - loss: 324.11398 - acc: 0.3143263 - batches: 78\n",
            "Epoch 75/150 - 1.01s - loss: 324.11136 - acc: 0.3143263 - batches: 78\n",
            "Epoch 76/150 - 1.03s - loss: 324.1087 - acc: 0.3143263 - batches: 78\n",
            "Epoch 77/150 - 1.04s - loss: 324.10623 - acc: 0.3143263 - batches: 78\n",
            "Epoch 78/150 - 1.03s - loss: 324.1039 - acc: 0.3143263 - batches: 78\n",
            "Epoch 79/150 - 1.02s - loss: 324.1017 - acc: 0.3143263 - batches: 78\n",
            "Epoch 80/150 - 1.03s - loss: 324.0996 - acc: 0.3143263 - batches: 78\n",
            "Epoch 81/150 - 1.03s - loss: 324.09756 - acc: 0.3143263 - batches: 78\n",
            "Epoch 82/150 - 1.02s - loss: 324.09558 - acc: 0.3143263 - batches: 78\n",
            "Epoch 83/150 - 1.03s - loss: 324.09366 - acc: 0.3143263 - batches: 78\n",
            "Epoch 84/150 - 1.03s - loss: 324.09195 - acc: 0.3143263 - batches: 78\n",
            "Epoch 85/150 - 1.03s - loss: 324.09027 - acc: 0.3143263 - batches: 78\n",
            "Epoch 86/150 - 1.09s - loss: 324.08856 - acc: 0.3143263 - batches: 78\n",
            "Epoch 87/150 - 1.06s - loss: 324.08685 - acc: 0.3143263 - batches: 78\n",
            "Epoch 88/150 - 1.06s - loss: 324.08542 - acc: 0.3143263 - batches: 78\n",
            "Epoch 89/150 - 1.06s - loss: 324.08395 - acc: 0.3143263 - batches: 78\n",
            "Epoch 90/150 - 1.06s - loss: 324.08252 - acc: 0.3143263 - batches: 78\n",
            "Epoch 91/150 - 1.09s - loss: 324.08112 - acc: 0.3143263 - batches: 78\n",
            "Epoch 92/150 - 1.06s - loss: 324.0798 - acc: 0.3143263 - batches: 78\n",
            "Epoch 93/150 - 1.09s - loss: 324.07846 - acc: 0.3143263 - batches: 78\n",
            "Epoch 94/150 - 1.05s - loss: 324.0772 - acc: 0.3143263 - batches: 78\n",
            "Epoch 95/150 - 1.03s - loss: 324.076 - acc: 0.3143263 - batches: 78\n",
            "Epoch 96/150 - 1.04s - loss: 324.07477 - acc: 0.3143263 - batches: 78\n",
            "Epoch 97/150 - 1.04s - loss: 324.0736 - acc: 0.3143263 - batches: 78\n",
            "Epoch 98/150 - 1.05s - loss: 324.07245 - acc: 0.3143263 - batches: 78\n",
            "Epoch 99/150 - 1.06s - loss: 324.07132 - acc: 0.3143263 - batches: 78\n",
            "Epoch 100/150 - 1.04s - loss: 324.07028 - acc: 0.3143263 - batches: 78\n",
            "Epoch 101/150 - 1.04s - loss: 324.06927 - acc: 0.3143263 - batches: 78\n",
            "Epoch 102/150 - 1.03s - loss: 324.0682 - acc: 0.3143263 - batches: 78\n",
            "Epoch 103/150 - 1.01s - loss: 324.06717 - acc: 0.3143263 - batches: 78\n",
            "Epoch 104/150 - 1.05s - loss: 324.06628 - acc: 0.3143263 - batches: 78\n",
            "Epoch 105/150 - 1.04s - loss: 324.06528 - acc: 0.3143263 - batches: 78\n",
            "Epoch 106/150 - 1.04s - loss: 324.06433 - acc: 0.3143263 - batches: 78\n",
            "Epoch 107/150 - 1.02s - loss: 324.06345 - acc: 0.3143263 - batches: 78\n",
            "Epoch 108/150 - 1.04s - loss: 324.06256 - acc: 0.3143263 - batches: 78\n",
            "Epoch 109/150 - 1.03s - loss: 324.0617 - acc: 0.3143263 - batches: 78\n",
            "Epoch 110/150 - 1.02s - loss: 324.06085 - acc: 0.3143263 - batches: 78\n",
            "Epoch 111/150 - 1.17s - loss: 324.06006 - acc: 0.3143263 - batches: 78\n",
            "Epoch 112/150 - 1.03s - loss: 324.05927 - acc: 0.3143263 - batches: 78\n",
            "Epoch 113/150 - 1.03s - loss: 324.05853 - acc: 0.3143263 - batches: 78\n",
            "Epoch 114/150 - 1.04s - loss: 324.05765 - acc: 0.3143263 - batches: 78\n",
            "Epoch 115/150 - 1.07s - loss: 324.05685 - acc: 0.3143263 - batches: 78\n",
            "Epoch 116/150 - 1.04s - loss: 324.05612 - acc: 0.3143263 - batches: 78\n",
            "Epoch 117/150 - 1.03s - loss: 324.05536 - acc: 0.3143263 - batches: 78\n",
            "Epoch 118/150 - 1.07s - loss: 324.0545 - acc: 0.3143263 - batches: 78\n",
            "Epoch 119/150 - 1.04s - loss: 324.0537 - acc: 0.3143263 - batches: 78\n",
            "Epoch 120/150 - 1.02s - loss: 324.05295 - acc: 0.3143263 - batches: 78\n",
            "Epoch 121/150 - 1.01s - loss: 324.05212 - acc: 0.3143263 - batches: 78\n",
            "Epoch 122/150 - 1.00s - loss: 324.05136 - acc: 0.3143263 - batches: 78\n",
            "Epoch 123/150 - 1.02s - loss: 324.05048 - acc: 0.3143263 - batches: 78\n",
            "Epoch 124/150 - 1.03s - loss: 324.04962 - acc: 0.3143263 - batches: 78\n",
            "Epoch 125/150 - 1.05s - loss: 324.04868 - acc: 0.3143263 - batches: 78\n",
            "Epoch 126/150 - 1.02s - loss: 324.0477 - acc: 0.3143263 - batches: 78\n",
            "Epoch 127/150 - 1.01s - loss: 324.04663 - acc: 0.3143263 - batches: 78\n",
            "Epoch 128/150 - 1.03s - loss: 324.04562 - acc: 0.3143263 - batches: 78\n",
            "Epoch 129/150 - 1.03s - loss: 324.0442 - acc: 0.3143263 - batches: 78\n",
            "Epoch 130/150 - 1.01s - loss: 324.04242 - acc: 0.3143263 - batches: 78\n",
            "Epoch 131/150 - 1.01s - loss: 324.03992 - acc: 0.3143263 - batches: 78\n",
            "Epoch 132/150 - 1.00s - loss: 324.0349 - acc: 0.3143263 - batches: 78\n",
            "Epoch 133/150 - 1.03s - loss: 324.01984 - acc: 0.3143263 - batches: 78\n",
            "Epoch 134/150 - 1.01s - loss: 323.88907 - acc: 0.32284904 - batches: 78\n",
            "Epoch 135/150 - 1.07s - loss: 323.46164 - acc: 0.3309659 - batches: 78\n",
            "Epoch 136/150 - 1.04s - loss: 323.4283 - acc: 0.33299512 - batches: 78\n",
            "Epoch 137/150 - 1.05s - loss: 323.4033 - acc: 0.33400974 - batches: 78\n",
            "Epoch 138/150 - 1.03s - loss: 323.3796 - acc: 0.33400974 - batches: 78\n",
            "Epoch 139/150 - 1.03s - loss: 323.3589 - acc: 0.33400974 - batches: 78\n",
            "Epoch 140/150 - 1.03s - loss: 323.33966 - acc: 0.33400974 - batches: 78\n",
            "Epoch 141/150 - 1.06s - loss: 323.32294 - acc: 0.33400974 - batches: 78\n",
            "Epoch 142/150 - 1.04s - loss: 323.3084 - acc: 0.33400974 - batches: 78\n",
            "Epoch 143/150 - 1.05s - loss: 323.29462 - acc: 0.33400974 - batches: 78\n",
            "Epoch 144/150 - 1.05s - loss: 323.28223 - acc: 0.33400974 - batches: 78\n",
            "Epoch 145/150 - 1.05s - loss: 323.2703 - acc: 0.33400974 - batches: 78\n",
            "Epoch 146/150 - 1.05s - loss: 323.25967 - acc: 0.33400974 - batches: 78\n",
            "Epoch 147/150 - 1.04s - loss: 323.2494 - acc: 0.33400974 - batches: 78\n",
            "Epoch 148/150 - 1.06s - loss: 323.24014 - acc: 0.33400974 - batches: 78\n",
            "Epoch 149/150 - 1.05s - loss: 323.2313 - acc: 0.33400974 - batches: 78\n"
          ]
        }
      ]
    },
    {
      "cell_type": "markdown",
      "metadata": {
        "id": "EoS2GYXMX_ed"
      },
      "source": [
        "Logistic Regression"
      ]
    },
    {
      "cell_type": "code",
      "metadata": {
        "colab": {
          "base_uri": "https://localhost:8080/"
        },
        "id": "M_RZTKQjsv-6",
        "outputId": "9b02aac7-596f-49fc-e542-5c8ef45b6676"
      },
      "source": [
        "#Text preprocessig Spark NLP, Count Vectorizer and Logistic Regression\n",
        "from pyspark.ml.feature import CountVectorizer, HashingTF, IDF, OneHotEncoder, StringIndexer, VectorAssembler, SQLTransformer\n",
        "document_assembler = DocumentAssembler() \\\n",
        "    .setInputCol(\"description_combined\") \\\n",
        "    .setOutputCol(\"document\")\n",
        "    \n",
        "tokenizer = Tokenizer() \\\n",
        "    .setInputCols([\"document\"]) \\\n",
        "    .setOutputCol(\"token\")\n",
        "      \n",
        "normalizer = Normalizer() \\\n",
        "    .setInputCols([\"token\"]) \\\n",
        "    .setOutputCol(\"normalized\")\n",
        "\n",
        "stopwords_cleaner = StopWordsCleaner()\\\n",
        "    .setInputCols(\"normalized\")\\\n",
        "    .setOutputCol(\"cleanTokens\")\\\n",
        "    .setCaseSensitive(False)\n",
        "\n",
        "lemma = LemmatizerModel.pretrained('lemma_antbnc') \\\n",
        "    .setInputCols([\"cleanTokens\"]) \\\n",
        "    .setOutputCol(\"lemma\")\n",
        "\n",
        "finisher = Finisher() \\\n",
        "      .setInputCols([\"lemma\"]) \\\n",
        "      .setOutputCols([\"token_features\"]) \\\n",
        "      .setOutputAsArray(True) \\\n",
        "      .setCleanAnnotations(False)\n",
        "\n",
        "countVectors = CountVectorizer(inputCol=\"token_features\", outputCol=\"features\", vocabSize=10000, minDF=5)\n",
        "label_stringIdx = StringIndexer(inputCol = \"org_new_industry\", outputCol = \"label\")\n",
        "nlp_pipeline = Pipeline(\n",
        "    stages=[document_assembler, \n",
        "            tokenizer,\n",
        "            normalizer,\n",
        "            stopwords_cleaner, \n",
        "            lemma, \n",
        "            finisher,\n",
        "            countVectors,\n",
        "            label_stringIdx])"
      ],
      "execution_count": 19,
      "outputs": [
        {
          "output_type": "stream",
          "name": "stdout",
          "text": [
            "lemma_antbnc download started this may take some time.\n",
            "Approximate size to download 907.6 KB\n",
            "[OK!]\n"
          ]
        }
      ]
    },
    {
      "cell_type": "code",
      "metadata": {
        "colab": {
          "base_uri": "https://localhost:8080/"
        },
        "id": "NInGcPbNt2K5",
        "outputId": "f778e037-7997-43b0-e6e6-9000be746da1"
      },
      "source": [
        "nlp_model = nlp_pipeline.fit(train_sparkdf)\n",
        "processed = nlp_model.transform(train_sparkdf)\n",
        "\n",
        "processed.count()"
      ],
      "execution_count": 22,
      "outputs": [
        {
          "output_type": "execute_result",
          "data": {
            "text/plain": [
              "4930"
            ]
          },
          "metadata": {},
          "execution_count": 22
        }
      ]
    },
    {
      "cell_type": "code",
      "metadata": {
        "colab": {
          "base_uri": "https://localhost:8080/"
        },
        "id": "doJmQX9rvGJh",
        "outputId": "0b0ca72b-bb1f-4df7-8a3e-2e4aea1cfaa8"
      },
      "source": [
        "(trainingData, testData) = processed.randomSplit([0.7, 0.3], seed = 100)\n",
        "print(\"Training Dataset Count: \" + str(trainingData.count()))\n",
        "print(\"Test Dataset Count: \" + str(testData.count()))"
      ],
      "execution_count": 23,
      "outputs": [
        {
          "output_type": "stream",
          "name": "stdout",
          "text": [
            "Training Dataset Count: 3430\n",
            "Test Dataset Count: 1500\n"
          ]
        }
      ]
    },
    {
      "cell_type": "code",
      "metadata": {
        "colab": {
          "base_uri": "https://localhost:8080/"
        },
        "id": "Da4thdTQvRHJ",
        "outputId": "1d4003b8-a926-4db1-c4f2-4155212b639b"
      },
      "source": [
        "from pyspark.ml.classification import LogisticRegression\n",
        "\n",
        "lr = LogisticRegression(maxIter=10, regParam=0.3, elasticNetParam=0)\n",
        "\n",
        "lrModel = lr.fit(trainingData)\n",
        "\n",
        "predictions = lrModel.transform(testData)\n",
        "\n",
        "predictions.filter(predictions['prediction'] == 32.0) \\\n",
        "    .select(\"description_combined\",\"org_new_industry\",\"probability\",\"label\",\"prediction\") \\\n",
        "    .orderBy(\"probability\", ascending=False) \\\n",
        "    .show(n = 10, truncate = 30)"
      ],
      "execution_count": 24,
      "outputs": [
        {
          "output_type": "stream",
          "name": "stdout",
          "text": [
            "+------------------------------+-----------------------+------------------------------+-----+----------+\n",
            "|          description_combined|       org_new_industry|                   probability|label|prediction|\n",
            "+------------------------------+-----------------------+------------------------------+-----+----------+\n",
            "| business, digital, sapphir...|SAAS - Finance/HR - ERP|[0.010163164404573878,0.011...| 32.0|      32.0|\n",
            "| business, digital, sapphir...|SAAS - Finance/HR - ERP|[0.010163164404573878,0.011...| 32.0|      32.0|\n",
            "| business, digital, sapphir...|SAAS - Finance/HR - ERP|[0.010163164404573878,0.011...| 32.0|      32.0|\n",
            "| business, digital, sapphir...|SAAS - Finance/HR - ERP|[0.010163164404573878,0.011...| 32.0|      32.0|\n",
            "| business, digital, sapphir...|SAAS - Finance/HR - ERP|[0.010163164404573878,0.011...| 32.0|      32.0|\n",
            "| business, digital, sapphir...|SAAS - Finance/HR - ERP|[0.010163164404573878,0.011...| 32.0|      32.0|\n",
            "| business, digital, sapphir...|SAAS - Finance/HR - ERP|[0.010163164404573878,0.011...| 32.0|      32.0|\n",
            "| business, digital, sapphir...|SAAS - Finance/HR - ERP|[0.010163164404573878,0.011...| 32.0|      32.0|\n",
            "| business, digital, sapphir...|SAAS - Finance/HR - ERP|[0.010163164404573878,0.011...| 32.0|      32.0|\n",
            "| business, digital, sapphir...|SAAS - Finance/HR - ERP|[0.010163164404573878,0.011...| 32.0|      32.0|\n",
            "+------------------------------+-----------------------+------------------------------+-----+----------+\n",
            "only showing top 10 rows\n",
            "\n"
          ]
        }
      ]
    },
    {
      "cell_type": "code",
      "metadata": {
        "colab": {
          "base_uri": "https://localhost:8080/"
        },
        "id": "etXjlG6Rx1rq",
        "outputId": "a5780916-5044-4465-be59-6c968fe2ddef"
      },
      "source": [
        "\n",
        "#Evaluate multiclass predictions\n",
        "from pyspark.ml.evaluation import MulticlassClassificationEvaluator\n",
        "\n",
        "evaluator = MulticlassClassificationEvaluator(predictionCol=\"prediction\")\n",
        "\n",
        "evaluator.evaluate(predictions)"
      ],
      "execution_count": 25,
      "outputs": [
        {
          "output_type": "execute_result",
          "data": {
            "text/plain": [
              "0.6621127368480232"
            ]
          },
          "metadata": {},
          "execution_count": 25
        }
      ]
    },
    {
      "cell_type": "code",
      "metadata": {
        "id": "sBxk1zsxyBFE"
      },
      "source": [
        "\n",
        "from sklearn.metrics import confusion_matrix, classification_report, accuracy_score\n",
        "y_true = predictions.select(\"label\")\n",
        "y_true = y_true.toPandas()\n",
        "\n",
        "y_pred = predictions.select(\"prediction\")\n",
        "y_pred = y_pred.toPandas()"
      ],
      "execution_count": 30,
      "outputs": []
    },
    {
      "cell_type": "code",
      "metadata": {
        "colab": {
          "base_uri": "https://localhost:8080/"
        },
        "id": "BomNhi0Fp4Bo",
        "outputId": "f3da5e21-8855-4f2e-d91c-2dc3d9c1962b"
      },
      "source": [
        "\n",
        "confusion_matrix = confusion_matrix(list(y_true.label.astype(int)), list(y_pred.prediction.astype(int)))\n",
        "confusion_matrix"
      ],
      "execution_count": 27,
      "outputs": [
        {
          "output_type": "execute_result",
          "data": {
            "text/plain": [
              "array([[26,  1,  0, ...,  0,  0,  0],\n",
              "       [ 5, 19,  0, ...,  0,  0,  0],\n",
              "       [ 1,  0, 19, ...,  0,  0,  0],\n",
              "       ...,\n",
              "       [ 3,  2,  0, ...,  0,  0,  0],\n",
              "       [ 2,  0,  0, ...,  0,  1,  0],\n",
              "       [ 0,  0,  0, ...,  0,  0,  0]])"
            ]
          },
          "metadata": {},
          "execution_count": 27
        }
      ]
    },
    {
      "cell_type": "code",
      "metadata": {
        "colab": {
          "base_uri": "https://localhost:8080/"
        },
        "id": "zEXMGosDqDV4",
        "outputId": "46fdd82b-6295-4e5c-8b03-7b1ff927a91e"
      },
      "source": [
        "print(classification_report(y_true.label, y_pred.prediction))\n",
        "print(accuracy_score(y_true.label, y_pred.prediction))"
      ],
      "execution_count": 31,
      "outputs": [
        {
          "output_type": "stream",
          "name": "stdout",
          "text": [
            "              precision    recall  f1-score   support\n",
            "\n",
            "         0.0       0.75      1.00      0.86        64\n",
            "         1.0       0.26      1.00      0.41        55\n",
            "         2.0       0.56      0.84      0.67        51\n",
            "         3.0       0.80      0.77      0.78        56\n",
            "         4.0       0.93      1.00      0.96        54\n",
            "         5.0       0.97      0.77      0.86        48\n",
            "         6.0       0.81      0.85      0.83        34\n",
            "         7.0       0.96      1.00      0.98        45\n",
            "         8.0       0.97      1.00      0.99        37\n",
            "         9.0       0.96      1.00      0.98        47\n",
            "        10.0       0.24      0.69      0.36        26\n",
            "        11.0       0.49      0.76      0.59        29\n",
            "        12.0       1.00      1.00      1.00        33\n",
            "        13.0       0.97      1.00      0.99        34\n",
            "        14.0       0.95      1.00      0.97        37\n",
            "        15.0       0.32      0.41      0.36        34\n",
            "        16.0       0.92      1.00      0.96        23\n",
            "        17.0       1.00      1.00      1.00        37\n",
            "        18.0       1.00      1.00      1.00        31\n",
            "        19.0       1.00      1.00      1.00        31\n",
            "        20.0       0.95      1.00      0.97        36\n",
            "        21.0       0.55      0.59      0.57        27\n",
            "        22.0       1.00      1.00      1.00        25\n",
            "        23.0       0.50      0.56      0.53        27\n",
            "        24.0       0.64      0.64      0.64        25\n",
            "        25.0       0.75      0.36      0.49        25\n",
            "        26.0       1.00      1.00      1.00        19\n",
            "        27.0       0.56      0.50      0.53        20\n",
            "        28.0       1.00      1.00      1.00        11\n",
            "        29.0       1.00      1.00      1.00        26\n",
            "        30.0       1.00      0.05      0.09        21\n",
            "        31.0       0.85      0.65      0.73        17\n",
            "        32.0       1.00      1.00      1.00        21\n",
            "        33.0       0.12      0.08      0.10        13\n",
            "        34.0       0.89      1.00      0.94         8\n",
            "        35.0       0.36      0.36      0.36        11\n",
            "        36.0       0.00      0.00      0.00        13\n",
            "        37.0       0.56      0.33      0.42        15\n",
            "        38.0       0.40      0.12      0.18        17\n",
            "        39.0       1.00      1.00      1.00        10\n",
            "        40.0       0.00      0.00      0.00         8\n",
            "        41.0       0.33      0.09      0.14        11\n",
            "        42.0       0.00      0.00      0.00         9\n",
            "        43.0       1.00      0.07      0.13        14\n",
            "        44.0       1.00      0.60      0.75        10\n",
            "        45.0       1.00      1.00      1.00         9\n",
            "        46.0       0.20      0.08      0.12        12\n",
            "        47.0       0.00      0.00      0.00        16\n",
            "        48.0       0.67      0.33      0.44         6\n",
            "        49.0       1.00      1.00      1.00        10\n",
            "        50.0       0.33      0.12      0.18         8\n",
            "        51.0       1.00      1.00      1.00         9\n",
            "        52.0       1.00      0.20      0.33         5\n",
            "        53.0       0.00      0.00      0.00        11\n",
            "        54.0       1.00      0.30      0.46        10\n",
            "        55.0       1.00      1.00      1.00         7\n",
            "        56.0       0.00      0.00      0.00         5\n",
            "        57.0       0.00      0.00      0.00         3\n",
            "        58.0       0.00      0.00      0.00         7\n",
            "        59.0       0.00      0.00      0.00         8\n",
            "        60.0       0.50      0.14      0.22         7\n",
            "        61.0       1.00      0.50      0.67         6\n",
            "        62.0       0.50      0.20      0.29         5\n",
            "        63.0       0.00      0.00      0.00         9\n",
            "        64.0       1.00      1.00      1.00         7\n",
            "        65.0       0.00      0.00      0.00         6\n",
            "        66.0       0.00      0.00      0.00         6\n",
            "        67.0       0.00      0.00      0.00         4\n",
            "        68.0       0.00      0.00      0.00         6\n",
            "        69.0       0.00      0.00      0.00        10\n",
            "        70.0       0.00      0.00      0.00         5\n",
            "        71.0       0.00      0.00      0.00         5\n",
            "        72.0       0.00      0.00      0.00         3\n",
            "        73.0       0.00      0.00      0.00         3\n",
            "        74.0       0.00      0.00      0.00        10\n",
            "        75.0       0.00      0.00      0.00         3\n",
            "        76.0       0.00      0.00      0.00         5\n",
            "        77.0       0.00      0.00      0.00         7\n",
            "        78.0       1.00      0.17      0.29         6\n",
            "        79.0       0.00      0.00      0.00         5\n",
            "        80.0       1.00      0.17      0.29         6\n",
            "        81.0       0.00      0.00      0.00         3\n",
            "        82.0       0.00      0.00      0.00         2\n",
            "\n",
            "    accuracy                           0.70      1500\n",
            "   macro avg       0.54      0.46      0.46      1500\n",
            "weighted avg       0.69      0.70      0.66      1500\n",
            "\n",
            "0.6966666666666667\n"
          ]
        },
        {
          "output_type": "stream",
          "name": "stderr",
          "text": [
            "/usr/local/lib/python3.7/dist-packages/sklearn/metrics/_classification.py:1272: UndefinedMetricWarning: Precision and F-score are ill-defined and being set to 0.0 in labels with no predicted samples. Use `zero_division` parameter to control this behavior.\n",
            "  _warn_prf(average, modifier, msg_start, len(result))\n"
          ]
        }
      ]
    },
    {
      "cell_type": "markdown",
      "metadata": {
        "id": "YBTECx75qbN1"
      },
      "source": [
        "Logistic Regression with TF-IDF\n"
      ]
    },
    {
      "cell_type": "code",
      "metadata": {
        "colab": {
          "base_uri": "https://localhost:8080/"
        },
        "id": "AxVlg5Guqe3l",
        "outputId": "39a1bdba-9c03-4dff-cde5-7b2ca47e1c9b"
      },
      "source": [
        "\n",
        "from pyspark.ml.feature import HashingTF, IDF\n",
        "\n",
        "hashingTF = HashingTF(inputCol=\"token_features\", outputCol=\"rawFeatures\", numFeatures=10000)\n",
        "\n",
        "idf = IDF(inputCol=\"rawFeatures\", outputCol=\"features\", minDocFreq=5) #minDocFreq: remove sparse terms\n",
        "\n",
        "nlp_pipeline_tf = Pipeline(\n",
        "    stages=[document_assembler, \n",
        "            tokenizer,\n",
        "            normalizer,\n",
        "            stopwords_cleaner, \n",
        "            lemma, \n",
        "            finisher,\n",
        "            hashingTF,\n",
        "            idf,\n",
        "            label_stringIdx])\n",
        "\n",
        "nlp_model_tf = nlp_pipeline_tf.fit(train_sparkdf)\n",
        "\n",
        "processed_tf = nlp_model_tf.transform(train_sparkdf)\n",
        "\n",
        "processed_tf.count()"
      ],
      "execution_count": 26,
      "outputs": [
        {
          "output_type": "execute_result",
          "data": {
            "text/plain": [
              "4930"
            ]
          },
          "metadata": {},
          "execution_count": 26
        }
      ]
    },
    {
      "cell_type": "code",
      "metadata": {
        "colab": {
          "base_uri": "https://localhost:8080/"
        },
        "id": "nHt24KoTDwqo",
        "outputId": "cbd32b27-9e24-40b8-918a-78151f2ce093"
      },
      "source": [
        "processed_tf.select('description_combined','features','label').show()"
      ],
      "execution_count": 40,
      "outputs": [
        {
          "output_type": "stream",
          "name": "stdout",
          "text": [
            "+--------------------+--------------------+-----+\n",
            "|description_combined|            features|label|\n",
            "+--------------------+--------------------+-----+\n",
            "| benefits, websit...|(10000,[70,116,13...| 37.0|\n",
            "| union, workers, ...|(10000,[36,557,82...| 37.0|\n",
            "| cancer, research...|(10000,[116,157,3...| 37.0|\n",
            "| science, public,...|(10000,[387,573,5...| 37.0|\n",
            "| chemistry, award...|(10000,[71,217,32...| 37.0|\n",
            "| diabetes, overvi...|(10000,[125,710,1...| 37.0|\n",
            "| bureau, advocacy...|(10000,[120,178,3...| 37.0|\n",
            "| afscme, union, w...|(10000,[228,272,5...| 37.0|\n",
            "| randi, president...|(10000,[855,1306,...| 37.0|\n",
            "|The American Psyc...|(10000,[393,743,7...| 37.0|\n",
            "|This is the missi...|(10000,[29,80,116...| 37.0|\n",
            "| health, union, r...|(10000,[178,228,3...| 37.0|\n",
            "| scouts, girls, s...|(10000,[72,573,59...| 37.0|\n",
            "| animals, humane,...|(10000,[327,630,7...| 37.0|\n",
            "| power, media, de...|(10000,[228,1209,...| 37.0|\n",
            "| teamsters, divis...|(10000,[188,228,3...| 37.0|\n",
            "|    IUOE provides...|(10000,[47,306,55...| 37.0|\n",
            "| september, worke...|(10000,[67,132,18...| 37.0|\n",
            "|                    |       (10000,[],[])| 37.0|\n",
            "| liuna, america, ...|(10000,[157,188,2...| 37.0|\n",
            "+--------------------+--------------------+-----+\n",
            "only showing top 20 rows\n",
            "\n"
          ]
        }
      ]
    },
    {
      "cell_type": "code",
      "metadata": {
        "colab": {
          "base_uri": "https://localhost:8080/"
        },
        "id": "q9EzO-3HD9qU",
        "outputId": "273bb564-b3b8-48cb-8fc8-3652b634cb46"
      },
      "source": [
        "\n",
        "(trainingData, testData) = processed_tf.randomSplit([0.7, 0.3], seed = 100)\n",
        "print(\"Training Dataset Count: \" + str(trainingData.count()))\n",
        "print(\"Test Dataset Count: \" + str(testData.count()))"
      ],
      "execution_count": 27,
      "outputs": [
        {
          "output_type": "stream",
          "name": "stdout",
          "text": [
            "Training Dataset Count: 3430\n",
            "Test Dataset Count: 1500\n"
          ]
        }
      ]
    },
    {
      "cell_type": "code",
      "metadata": {
        "colab": {
          "base_uri": "https://localhost:8080/"
        },
        "id": "Q4F4JtGfEHOu",
        "outputId": "bfb8e2f2-794f-489d-977b-993a1c0b737d"
      },
      "source": [
        "\n",
        "lrModel_tf = lr.fit(trainingData)\n",
        "\n",
        "predictions_tf = lrModel_tf.transform(testData)\n",
        "\n",
        "predictions_tf.select(\"description_combined\",\"org_new_industry\",\"probability\",\"label\",\"prediction\") \\\n",
        "    .orderBy(\"probability\", ascending=False) \\\n",
        "    .show(n = 20, truncate = 30)"
      ],
      "execution_count": 28,
      "outputs": [
        {
          "output_type": "stream",
          "name": "stdout",
          "text": [
            "+------------------------------+------------------------+------------------------------+-----+----------+\n",
            "|          description_combined|        org_new_industry|                   probability|label|prediction|\n",
            "+------------------------------+------------------------+------------------------------+-----+----------+\n",
            "|Hawaiian provides single-ca...|Transportation - Airline|[0.9854912495506277,3.99101...|  0.0|       0.0|\n",
            "|Hawaiian provides single-ca...|Transportation - Airline|[0.9854912495506277,3.99101...|  0.0|       0.0|\n",
            "|Hawaiian provides single-ca...|Transportation - Airline|[0.9854912495506277,3.99101...|  0.0|       0.0|\n",
            "|Hawaiian provides single-ca...|Transportation - Airline|[0.9854912495506277,3.99101...|  0.0|       0.0|\n",
            "|Hawaiian provides single-ca...|Transportation - Airline|[0.9854912495506277,3.99101...|  0.0|       0.0|\n",
            "|Hawaiian provides single-ca...|Transportation - Airline|[0.9854912495506277,3.99101...|  0.0|       0.0|\n",
            "|JetBlue airways to bring hu...|Transportation - Airline|[0.806354757728898,0.010357...|  0.0|       0.0|\n",
            "|JetBlue airways to bring hu...|Transportation - Airline|[0.806354757728898,0.010357...|  0.0|       0.0|\n",
            "|JetBlue airways to bring hu...|Transportation - Airline|[0.806354757728898,0.010357...|  0.0|       0.0|\n",
            "|JetBlue airways to bring hu...|Transportation - Airline|[0.806354757728898,0.010357...|  0.0|       0.0|\n",
            "|JetBlue airways to bring hu...|Transportation - Airline|[0.806354757728898,0.010357...|  0.0|       0.0|\n",
            "|JetBlue airways to bring hu...|Transportation - Airline|[0.806354757728898,0.010357...|  0.0|       0.0|\n",
            "|JetBlue airways to bring hu...|Transportation - Airline|[0.806354757728898,0.010357...|  0.0|       0.0|\n",
            "|JetBlue airways to bring hu...|Transportation - Airline|[0.806354757728898,0.010357...|  0.0|       0.0|\n",
            "|JetBlue airways to bring hu...|Transportation - Airline|[0.806354757728898,0.010357...|  0.0|       0.0|\n",
            "|JetBlue airways to bring hu...|Transportation - Airline|[0.806354757728898,0.010357...|  0.0|       0.0|\n",
            "|Frontier Airlines, Inc. own...|Transportation - Airline|[0.7924666001280279,0.00734...|  0.0|       0.0|\n",
            "|Frontier Airlines, Inc. own...|Transportation - Airline|[0.7924666001280279,0.00734...|  0.0|       0.0|\n",
            "|Frontier Airlines, Inc. own...|Transportation - Airline|[0.7924666001280279,0.00734...|  0.0|       0.0|\n",
            "|Frontier Airlines, Inc. own...|Transportation - Airline|[0.7924666001280279,0.00734...|  0.0|       0.0|\n",
            "+------------------------------+------------------------+------------------------------+-----+----------+\n",
            "only showing top 20 rows\n",
            "\n"
          ]
        }
      ]
    },
    {
      "cell_type": "code",
      "metadata": {
        "colab": {
          "base_uri": "https://localhost:8080/"
        },
        "id": "1DREkm6lEI2M",
        "outputId": "8f425e4c-7079-456d-9e91-926ea768ae73"
      },
      "source": [
        "\n",
        "y_true = predictions_tf.select(\"label\")\n",
        "y_true = y_true.toPandas()\n",
        "\n",
        "y_pred = predictions_tf.select(\"prediction\")\n",
        "y_pred = y_pred.toPandas()\n",
        "\n",
        "print(classification_report(y_true.label, y_pred.prediction))\n",
        "print(accuracy_score(y_true.label, y_pred.prediction))"
      ],
      "execution_count": 32,
      "outputs": [
        {
          "output_type": "stream",
          "name": "stdout",
          "text": [
            "              precision    recall  f1-score   support\n",
            "\n",
            "         0.0       0.74      1.00      0.85        64\n",
            "         1.0       0.27      1.00      0.42        55\n",
            "         2.0       0.49      0.84      0.62        51\n",
            "         3.0       0.77      0.77      0.77        56\n",
            "         4.0       0.92      1.00      0.96        54\n",
            "         5.0       0.95      0.77      0.85        48\n",
            "         6.0       0.78      0.85      0.82        34\n",
            "         7.0       0.94      1.00      0.97        45\n",
            "         8.0       0.97      1.00      0.99        37\n",
            "         9.0       0.96      1.00      0.98        47\n",
            "        10.0       0.24      0.65      0.35        26\n",
            "        11.0       0.46      0.66      0.54        29\n",
            "        12.0       0.97      1.00      0.99        33\n",
            "        13.0       0.94      1.00      0.97        34\n",
            "        14.0       0.90      1.00      0.95        37\n",
            "        15.0       0.33      0.47      0.39        34\n",
            "        16.0       0.88      1.00      0.94        23\n",
            "        17.0       1.00      1.00      1.00        37\n",
            "        18.0       1.00      1.00      1.00        31\n",
            "        19.0       0.94      1.00      0.97        31\n",
            "        20.0       0.97      1.00      0.99        36\n",
            "        21.0       0.50      0.56      0.53        27\n",
            "        22.0       1.00      1.00      1.00        25\n",
            "        23.0       0.52      0.48      0.50        27\n",
            "        24.0       0.56      0.56      0.56        25\n",
            "        25.0       0.62      0.40      0.49        25\n",
            "        26.0       1.00      0.84      0.91        19\n",
            "        27.0       0.62      0.50      0.56        20\n",
            "        28.0       0.92      1.00      0.96        11\n",
            "        29.0       1.00      1.00      1.00        26\n",
            "        30.0       1.00      0.05      0.09        21\n",
            "        31.0       0.60      0.53      0.56        17\n",
            "        32.0       1.00      1.00      1.00        21\n",
            "        33.0       0.29      0.15      0.20        13\n",
            "        34.0       0.80      1.00      0.89         8\n",
            "        35.0       0.23      0.27      0.25        11\n",
            "        36.0       0.00      0.00      0.00        13\n",
            "        37.0       0.50      0.20      0.29        15\n",
            "        38.0       0.50      0.12      0.19        17\n",
            "        39.0       0.91      1.00      0.95        10\n",
            "        40.0       0.00      0.00      0.00         8\n",
            "        41.0       0.33      0.09      0.14        11\n",
            "        42.0       0.00      0.00      0.00         9\n",
            "        43.0       0.00      0.00      0.00        14\n",
            "        44.0       0.75      0.30      0.43        10\n",
            "        45.0       1.00      1.00      1.00         9\n",
            "        46.0       1.00      0.08      0.15        12\n",
            "        47.0       0.00      0.00      0.00        16\n",
            "        48.0       0.67      0.33      0.44         6\n",
            "        49.0       1.00      1.00      1.00        10\n",
            "        50.0       0.33      0.12      0.18         8\n",
            "        51.0       1.00      1.00      1.00         9\n",
            "        52.0       0.50      0.20      0.29         5\n",
            "        53.0       0.00      0.00      0.00        11\n",
            "        54.0       1.00      0.20      0.33        10\n",
            "        55.0       1.00      1.00      1.00         7\n",
            "        56.0       0.00      0.00      0.00         5\n",
            "        57.0       0.00      0.00      0.00         3\n",
            "        58.0       0.00      0.00      0.00         7\n",
            "        59.0       0.00      0.00      0.00         8\n",
            "        60.0       0.00      0.00      0.00         7\n",
            "        61.0       1.00      0.50      0.67         6\n",
            "        62.0       1.00      0.20      0.33         5\n",
            "        63.0       0.00      0.00      0.00         9\n",
            "        64.0       1.00      1.00      1.00         7\n",
            "        65.0       0.00      0.00      0.00         6\n",
            "        66.0       0.00      0.00      0.00         6\n",
            "        67.0       0.00      0.00      0.00         4\n",
            "        68.0       0.00      0.00      0.00         6\n",
            "        69.0       0.00      0.00      0.00        10\n",
            "        70.0       0.00      0.00      0.00         5\n",
            "        71.0       0.00      0.00      0.00         5\n",
            "        72.0       0.00      0.00      0.00         3\n",
            "        73.0       0.00      0.00      0.00         3\n",
            "        74.0       0.00      0.00      0.00        10\n",
            "        75.0       0.00      0.00      0.00         3\n",
            "        76.0       0.00      0.00      0.00         5\n",
            "        77.0       0.00      0.00      0.00         7\n",
            "        78.0       1.00      0.17      0.29         6\n",
            "        79.0       0.00      0.00      0.00         5\n",
            "        80.0       1.00      0.17      0.29         6\n",
            "        81.0       0.00      0.00      0.00         3\n",
            "        82.0       0.00      0.00      0.00         2\n",
            "\n",
            "    accuracy                           0.68      1500\n",
            "   macro avg       0.51      0.45      0.44      1500\n",
            "weighted avg       0.67      0.68      0.64      1500\n",
            "\n",
            "0.684\n"
          ]
        },
        {
          "output_type": "stream",
          "name": "stderr",
          "text": [
            "/usr/local/lib/python3.7/dist-packages/sklearn/metrics/_classification.py:1272: UndefinedMetricWarning: Precision and F-score are ill-defined and being set to 0.0 in labels with no predicted samples. Use `zero_division` parameter to control this behavior.\n",
            "  _warn_prf(average, modifier, msg_start, len(result))\n"
          ]
        }
      ]
    },
    {
      "cell_type": "markdown",
      "metadata": {
        "id": "4X11QkQqLY1Z"
      },
      "source": [
        "\n",
        "Random Forest with TFIDF"
      ]
    },
    {
      "cell_type": "code",
      "metadata": {
        "id": "3LIKNdCqLTSE"
      },
      "source": [
        "from pyspark.ml.classification import RandomForestClassifier\n",
        "\n",
        "rf = RandomForestClassifier(labelCol=\"label\", \\\n",
        "                            featuresCol=\"features\", \\\n",
        "                            numTrees = 100, \\\n",
        "                            maxDepth = 4, \\\n",
        "                            maxBins = 32)\n",
        "\n",
        "# Train model with Training Data\n",
        "rfModel = rf.fit(trainingData)\n",
        "predictions_rf = rfModel.transform(testData)"
      ],
      "execution_count": 34,
      "outputs": []
    },
    {
      "cell_type": "code",
      "metadata": {
        "colab": {
          "base_uri": "https://localhost:8080/"
        },
        "id": "0BlpxwiPLvTJ",
        "outputId": "db24f5a7-f6a0-4633-d6ac-220650b095cd"
      },
      "source": [
        "predictions_rf.select(\"description_combined\",\"org_new_industry\",\"probability\",\"label\",\"prediction\") \\\n",
        "    .orderBy(\"probability\", ascending=False) \\\n",
        "    .show(n = 10, truncate = 30)"
      ],
      "execution_count": 35,
      "outputs": [
        {
          "output_type": "stream",
          "name": "stdout",
          "text": [
            "+------------------------------+------------------------------+------------------------------+-----+----------+\n",
            "|          description_combined|              org_new_industry|                   probability|label|prediction|\n",
            "+------------------------------+------------------------------+------------------------------+-----+----------+\n",
            "| black, veatch, management,...|Corporate Services - Consul...|[0.16196282531599457,0.0824...|  0.0|       0.0|\n",
            "| overview, projects, recent...|Corporate Services - Consul...|[0.14397670547986222,0.0661...|  0.0|       0.0|\n",
            "| water, projects, carollo, ...|Corporate Services - Consul...|[0.12673924328903607,0.0497...|  0.0|       0.0|\n",
            "| professor, research, econo...|Corporate Services - Consul...|[0.12578155357312987,0.1148...|  0.0|       0.0|\n",
            "|Arup is an independent firm...|Energy and Environmental - ...|[0.12168340824457735,0.0493...| 36.0|       0.0|\n",
            "| gilbane, company, building...|Corporate Services - Consul...|[0.11886669744587075,0.0538...|  0.0|       0.0|\n",
            "| water, smith, learn, windo...|Corporate Services - Consul...|[0.1134393390260575,0.06069...|  0.0|       0.0|\n",
            "| services, kleen, safety, l...|Corporate Services - Consul...|[0.11199570926188958,0.0501...|  0.0|       0.0|\n",
            "| winrock, solutions, servic...|Energy and Environmental - ...|[0.1117497685364905,0.06693...| 36.0|       0.0|\n",
            "|Cross Country Staffing has ...|SAAS - Finance/HR - Recruiting|[0.11023260691467869,0.0479...|  3.0|       0.0|\n",
            "+------------------------------+------------------------------+------------------------------+-----+----------+\n",
            "only showing top 10 rows\n",
            "\n"
          ]
        }
      ]
    },
    {
      "cell_type": "code",
      "metadata": {
        "id": "UO7njjjoL95L",
        "colab": {
          "base_uri": "https://localhost:8080/"
        },
        "outputId": "3f9cca92-278d-4319-e745-e38362b04f5f"
      },
      "source": [
        "y_true = predictions_rf.select(\"label\")\n",
        "y_true = y_true.toPandas()\n",
        "\n",
        "y_pred = predictions_rf.select(\"prediction\")\n",
        "y_pred = y_pred.toPandas()\n",
        "\n",
        "print(classification_report(y_true.label, y_pred.prediction))\n",
        "print(accuracy_score(y_true.label, y_pred.prediction))"
      ],
      "execution_count": 36,
      "outputs": [
        {
          "output_type": "stream",
          "name": "stdout",
          "text": [
            "              precision    recall  f1-score   support\n",
            "\n",
            "         0.0       0.09      1.00      0.16        31\n",
            "         1.0       0.23      0.79      0.36        24\n",
            "         2.0       0.41      0.33      0.37        33\n",
            "         3.0       0.68      0.45      0.54        29\n",
            "         4.0       0.67      0.48      0.56        25\n",
            "         5.0       0.58      0.73      0.64        26\n",
            "         6.0       0.00      0.00      0.00        23\n",
            "         7.0       0.67      0.44      0.53        18\n",
            "         8.0       0.00      0.00      0.00        19\n",
            "         9.0       0.67      0.29      0.40        14\n",
            "        10.0       0.00      0.00      0.00        15\n",
            "        11.0       0.00      0.00      0.00        13\n",
            "        12.0       0.00      0.00      0.00         9\n",
            "        13.0       0.00      0.00      0.00        15\n",
            "        14.0       0.00      0.00      0.00        12\n",
            "        15.0       0.00      0.00      0.00        10\n",
            "        16.0       0.00      0.00      0.00        13\n",
            "        17.0       0.00      0.00      0.00         9\n",
            "        18.0       0.00      0.00      0.00        13\n",
            "        19.0       0.00      0.00      0.00        12\n",
            "        20.0       0.00      0.00      0.00         8\n",
            "        21.0       0.00      0.00      0.00         5\n",
            "        22.0       0.00      0.00      0.00        12\n",
            "        23.0       0.00      0.00      0.00         8\n",
            "        24.0       0.00      0.00      0.00         8\n",
            "        25.0       0.00      0.00      0.00        10\n",
            "        26.0       0.00      0.00      0.00        13\n",
            "        27.0       0.00      0.00      0.00         9\n",
            "        28.0       0.00      0.00      0.00        10\n",
            "        29.0       0.00      0.00      0.00         4\n",
            "        30.0       0.00      0.00      0.00         5\n",
            "        31.0       0.00      0.00      0.00        10\n",
            "        32.0       0.00      0.00      0.00         8\n",
            "        33.0       0.00      0.00      0.00        10\n",
            "        34.0       0.00      0.00      0.00         9\n",
            "        35.0       0.00      0.00      0.00        10\n",
            "        36.0       0.00      0.00      0.00         8\n",
            "        37.0       0.00      0.00      0.00         2\n",
            "        38.0       0.00      0.00      0.00        10\n",
            "        39.0       0.00      0.00      0.00         4\n",
            "        40.0       0.00      0.00      0.00         6\n",
            "        41.0       0.00      0.00      0.00         7\n",
            "        42.0       0.00      0.00      0.00         5\n",
            "        43.0       0.00      0.00      0.00         4\n",
            "        44.0       0.00      0.00      0.00         2\n",
            "\n",
            "    accuracy                           0.21       550\n",
            "   macro avg       0.09      0.10      0.08       550\n",
            "weighted avg       0.17      0.21      0.16       550\n",
            "\n",
            "0.21272727272727274\n"
          ]
        },
        {
          "output_type": "stream",
          "name": "stderr",
          "text": [
            "/usr/local/lib/python3.7/dist-packages/sklearn/metrics/_classification.py:1272: UndefinedMetricWarning: Precision and F-score are ill-defined and being set to 0.0 in labels with no predicted samples. Use `zero_division` parameter to control this behavior.\n",
            "  _warn_prf(average, modifier, msg_start, len(result))\n"
          ]
        }
      ]
    },
    {
      "cell_type": "markdown",
      "metadata": {
        "id": "ug5CJHYTcWpl"
      },
      "source": [
        "\n",
        "Logistic Regression with Universal Sentence Encoder"
      ]
    },
    {
      "cell_type": "code",
      "metadata": {
        "colab": {
          "base_uri": "https://localhost:8080/"
        },
        "id": "Ps32x3_z3_di",
        "outputId": "d293d726-e7f9-44d1-e713-6f305de2981a"
      },
      "source": [
        "from pyspark.ml.feature import CountVectorizer, HashingTF, IDF, OneHotEncoder, StringIndexer, VectorAssembler, SQLTransformer\n",
        "useEmbeddings = UniversalSentenceEncoder.pretrained()\\\n",
        "      .setInputCols(\"document\")\\\n",
        "      .setOutputCol(\"use_embeddings\")"
      ],
      "execution_count": 14,
      "outputs": [
        {
          "output_type": "stream",
          "name": "stdout",
          "text": [
            "tfhub_use download started this may take some time.\n",
            "Approximate size to download 923.7 MB\n",
            "[OK!]\n"
          ]
        }
      ]
    },
    {
      "cell_type": "code",
      "metadata": {
        "id": "9lmnY92c4CtN"
      },
      "source": [
        "\n",
        "document_assembler = DocumentAssembler() \\\n",
        "      .setInputCol(\"description_combined\") \\\n",
        "      .setOutputCol(\"document\")\n",
        "\n",
        "loaded_useEmbeddings = UniversalSentenceEncoder.load('/root/cache_pretrained/tfhub_use_en_2.4.0_2.4_1587136330099')\\\n",
        "      .setInputCols(\"document\")\\\n",
        "      .setOutputCol(\"use_embeddings\")\n",
        "\n",
        "embeddings_finisher = EmbeddingsFinisher() \\\n",
        "      .setInputCols([\"use_embeddings\"]) \\\n",
        "      .setOutputCols([\"finished_use_embeddings\"]) \\\n",
        "      .setOutputAsVector(True)\\\n",
        "      .setCleanAnnotations(False)\n",
        "\n",
        "label_stringIdx = StringIndexer(inputCol = \"org_new_industry\", outputCol = \"label\")\n",
        "\n",
        "use_pipeline = Pipeline(\n",
        "      stages=[\n",
        "        document_assembler,\n",
        "        loaded_useEmbeddings,\n",
        "        embeddings_finisher,\n",
        "        label_stringIdx]\n",
        "      )\n",
        "\n",
        "use_df = use_pipeline.fit(train_sparkdf).transform(train_sparkdf)"
      ],
      "execution_count": 15,
      "outputs": []
    },
    {
      "cell_type": "code",
      "metadata": {
        "id": "LEcX0I9t4Uv3"
      },
      "source": [
        "from pyspark.sql.functions import explode\n",
        "\n",
        "use_df= use_df.withColumn(\"features\", explode(use_df.finished_use_embeddings))"
      ],
      "execution_count": 16,
      "outputs": []
    },
    {
      "cell_type": "code",
      "metadata": {
        "colab": {
          "base_uri": "https://localhost:8080/"
        },
        "id": "CdbhR8UXe-oH",
        "outputId": "1eb0a421-a7e3-467b-abb5-e8e96596f728"
      },
      "source": [
        "use_df.show(2)"
      ],
      "execution_count": 23,
      "outputs": [
        {
          "output_type": "stream",
          "name": "stdout",
          "text": [
            "+--------------------+--------------------+--------------------+--------------------+-----------------------+-----+--------------------+\n",
            "|    org_new_industry|description_combined|            document|      use_embeddings|finished_use_embeddings|label|            features|\n",
            "+--------------------+--------------------+--------------------+--------------------+-----------------------+-----+--------------------+\n",
            "|Civic, Non-Profit...| benefits, websit...|[{document, 0, 24...|[{sentence_embedd...|   [[-0.052313111722...| 37.0|[-0.0523131117224...|\n",
            "|Civic, Non-Profit...| union, workers, ...|[{document, 0, 44...|[{sentence_embedd...|   [[-0.055451113730...| 37.0|[-0.0554511137306...|\n",
            "+--------------------+--------------------+--------------------+--------------------+-----------------------+-----+--------------------+\n",
            "only showing top 2 rows\n",
            "\n"
          ]
        }
      ]
    },
    {
      "cell_type": "code",
      "metadata": {
        "colab": {
          "base_uri": "https://localhost:8080/"
        },
        "id": "DkxdYGxD4l36",
        "outputId": "c6f146cd-e0f9-47c0-bd61-0fd2d792cd29"
      },
      "source": [
        "(trainingData, testData) = use_df.randomSplit([0.7, 0.3], seed = 100)\n",
        "print(\"Training Dataset Count: \" + str(trainingData.count()))\n",
        "print(\"Test Dataset Count: \" + str(testData.count()))"
      ],
      "execution_count": 17,
      "outputs": [
        {
          "output_type": "stream",
          "name": "stdout",
          "text": [
            "Training Dataset Count: 3430\n",
            "Test Dataset Count: 1500\n"
          ]
        }
      ]
    },
    {
      "cell_type": "code",
      "metadata": {
        "colab": {
          "base_uri": "https://localhost:8080/"
        },
        "id": "x9oQlQa34o3T",
        "outputId": "e57fedaf-30f0-4477-9fd6-40e9f22326b2"
      },
      "source": [
        "from sklearn.metrics import confusion_matrix, classification_report, accuracy_score\n",
        "import pandas as pd\n",
        "\n",
        "from pyspark.ml.classification import LogisticRegression\n",
        "\n",
        "lr = LogisticRegression(maxIter=20, regParam=0.3, elasticNetParam=0)\n",
        "\n",
        "lrModel = lr.fit(trainingData)\n",
        "\n",
        "predictions = lrModel.transform(testData)\n",
        "\n",
        "predictions.filter(predictions['prediction'] == 0) \\\n",
        "    .select(\"description_combined\",\"org_new_industry\",\"probability\",\"label\",\"prediction\") \\\n",
        "    .orderBy(\"probability\", ascending=False) \\\n",
        "    .show(n = 20, truncate = 30)"
      ],
      "execution_count": 18,
      "outputs": [
        {
          "output_type": "stream",
          "name": "stdout",
          "text": [
            "+------------------------------+------------------------+------------------------------+-----+----------+\n",
            "|          description_combined|        org_new_industry|                   probability|label|prediction|\n",
            "+------------------------------+------------------------+------------------------------+-----+----------+\n",
            "|United Airlines and United ...|Transportation - Airline|[0.9122416670426028,0.00759...|  0.0|       0.0|\n",
            "|United Airlines and United ...|Transportation - Airline|[0.9122416670426028,0.00759...|  0.0|       0.0|\n",
            "|United Airlines and United ...|Transportation - Airline|[0.9122416670426028,0.00759...|  0.0|       0.0|\n",
            "|United Airlines and United ...|Transportation - Airline|[0.9122416670426028,0.00759...|  0.0|       0.0|\n",
            "|United Airlines and United ...|Transportation - Airline|[0.9122416670426028,0.00759...|  0.0|       0.0|\n",
            "|United Airlines and United ...|Transportation - Airline|[0.9122416670426028,0.00759...|  0.0|       0.0|\n",
            "|United Airlines and United ...|Transportation - Airline|[0.9122416670426028,0.00759...|  0.0|       0.0|\n",
            "|Alaska Airlines is the eigh...|Transportation - Airline|[0.8997849226759632,0.00904...|  0.0|       0.0|\n",
            "|Alaska Airlines is the eigh...|Transportation - Airline|[0.8997849226759632,0.00904...|  0.0|       0.0|\n",
            "|Alaska Airlines is the eigh...|Transportation - Airline|[0.8997849226759632,0.00904...|  0.0|       0.0|\n",
            "+------------------------------+------------------------+------------------------------+-----+----------+\n",
            "only showing top 10 rows\n",
            "\n"
          ]
        }
      ]
    },
    {
      "cell_type": "code",
      "metadata": {
        "colab": {
          "base_uri": "https://localhost:8080/",
          "height": 206
        },
        "id": "I80wpNbb4-RV",
        "outputId": "bb802b3d-56b3-4a45-f41e-6abadbe46077"
      },
      "source": [
        "df_pred = predictions.select('description_combined','org_new_industry','label','prediction').toPandas()\n",
        "df_pred.head()"
      ],
      "execution_count": 20,
      "outputs": [
        {
          "output_type": "execute_result",
          "data": {
            "text/html": [
              "<div>\n",
              "<style scoped>\n",
              "    .dataframe tbody tr th:only-of-type {\n",
              "        vertical-align: middle;\n",
              "    }\n",
              "\n",
              "    .dataframe tbody tr th {\n",
              "        vertical-align: top;\n",
              "    }\n",
              "\n",
              "    .dataframe thead th {\n",
              "        text-align: right;\n",
              "    }\n",
              "</style>\n",
              "<table border=\"1\" class=\"dataframe\">\n",
              "  <thead>\n",
              "    <tr style=\"text-align: right;\">\n",
              "      <th></th>\n",
              "      <th>description_combined</th>\n",
              "      <th>org_new_industry</th>\n",
              "      <th>label</th>\n",
              "      <th>prediction</th>\n",
              "    </tr>\n",
              "  </thead>\n",
              "  <tbody>\n",
              "    <tr>\n",
              "      <th>0</th>\n",
              "      <td>General Motors is a Detroit-based mutinational...</td>\n",
              "      <td>Automotive - Car Manufacturing</td>\n",
              "      <td>12.0</td>\n",
              "      <td>12.0</td>\n",
              "    </tr>\n",
              "    <tr>\n",
              "      <th>1</th>\n",
              "      <td>animals, humane, society, united, states, fig...</td>\n",
              "      <td>Civic, Non-Profit and Membership Groups</td>\n",
              "      <td>37.0</td>\n",
              "      <td>37.0</td>\n",
              "    </tr>\n",
              "    <tr>\n",
              "      <th>2</th>\n",
              "      <td>benefits, website, leaving, provider, cancel,...</td>\n",
              "      <td>Civic, Non-Profit and Membership Groups</td>\n",
              "      <td>37.0</td>\n",
              "      <td>8.0</td>\n",
              "    </tr>\n",
              "    <tr>\n",
              "      <th>3</th>\n",
              "      <td>carpenters, training, members, brotherhood, u...</td>\n",
              "      <td>Civic, Non-Profit and Membership Groups</td>\n",
              "      <td>37.0</td>\n",
              "      <td>10.0</td>\n",
              "    </tr>\n",
              "    <tr>\n",
              "      <th>4</th>\n",
              "      <td>championships, youth, bowling, league, tourna...</td>\n",
              "      <td>Civic, Non-Profit and Membership Groups</td>\n",
              "      <td>37.0</td>\n",
              "      <td>1.0</td>\n",
              "    </tr>\n",
              "  </tbody>\n",
              "</table>\n",
              "</div>"
            ],
            "text/plain": [
              "                                description_combined  ... prediction\n",
              "0  General Motors is a Detroit-based mutinational...  ...       12.0\n",
              "1   animals, humane, society, united, states, fig...  ...       37.0\n",
              "2   benefits, website, leaving, provider, cancel,...  ...        8.0\n",
              "3   carpenters, training, members, brotherhood, u...  ...       10.0\n",
              "4   championships, youth, bowling, league, tourna...  ...        1.0\n",
              "\n",
              "[5 rows x 4 columns]"
            ]
          },
          "metadata": {},
          "execution_count": 20
        }
      ]
    },
    {
      "cell_type": "code",
      "metadata": {
        "colab": {
          "base_uri": "https://localhost:8080/"
        },
        "id": "hPK42k5b5PPx",
        "outputId": "5aed130f-f3a2-4433-f3dd-aa7f567d00d1"
      },
      "source": [
        "print(classification_report(df_pred.label, df_pred.prediction))\n",
        "print(accuracy_score(df_pred.label, df_pred.prediction))"
      ],
      "execution_count": 21,
      "outputs": [
        {
          "output_type": "stream",
          "name": "stdout",
          "text": [
            "              precision    recall  f1-score   support\n",
            "\n",
            "         0.0       0.96      1.00      0.98        64\n",
            "         1.0       0.74      0.93      0.82        55\n",
            "         2.0       0.77      0.84      0.80        51\n",
            "         3.0       0.33      0.84      0.47        56\n",
            "         4.0       0.86      1.00      0.92        54\n",
            "         5.0       0.79      0.77      0.78        48\n",
            "         6.0       0.56      0.85      0.67        34\n",
            "         7.0       0.79      1.00      0.88        45\n",
            "         8.0       0.74      1.00      0.85        37\n",
            "         9.0       0.81      1.00      0.90        47\n",
            "        10.0       0.24      0.65      0.35        26\n",
            "        11.0       0.60      0.83      0.70        29\n",
            "        12.0       0.92      1.00      0.96        33\n",
            "        13.0       0.77      1.00      0.87        34\n",
            "        14.0       0.95      1.00      0.97        37\n",
            "        15.0       0.30      0.41      0.35        34\n",
            "        16.0       0.74      1.00      0.85        23\n",
            "        17.0       0.86      1.00      0.92        37\n",
            "        18.0       0.89      1.00      0.94        31\n",
            "        19.0       0.86      1.00      0.93        31\n",
            "        20.0       0.86      1.00      0.92        36\n",
            "        21.0       0.58      0.70      0.63        27\n",
            "        22.0       0.86      1.00      0.93        25\n",
            "        23.0       0.63      0.70      0.67        27\n",
            "        24.0       0.64      0.64      0.64        25\n",
            "        25.0       0.75      0.60      0.67        25\n",
            "        26.0       0.76      1.00      0.86        19\n",
            "        27.0       0.59      0.80      0.68        20\n",
            "        28.0       0.92      1.00      0.96        11\n",
            "        29.0       0.90      1.00      0.95        26\n",
            "        30.0       1.00      0.10      0.17        21\n",
            "        31.0       0.88      0.41      0.56        17\n",
            "        32.0       0.95      1.00      0.98        21\n",
            "        33.0       0.67      0.15      0.25        13\n",
            "        34.0       0.89      1.00      0.94         8\n",
            "        35.0       0.38      0.45      0.42        11\n",
            "        36.0       0.00      0.00      0.00        13\n",
            "        37.0       1.00      0.20      0.33        15\n",
            "        38.0       1.00      0.18      0.30        17\n",
            "        39.0       0.91      1.00      0.95        10\n",
            "        40.0       1.00      0.25      0.40         8\n",
            "        41.0       0.42      0.45      0.43        11\n",
            "        42.0       0.50      0.11      0.18         9\n",
            "        43.0       0.67      0.29      0.40        14\n",
            "        44.0       1.00      0.10      0.18        10\n",
            "        45.0       0.90      1.00      0.95         9\n",
            "        46.0       0.00      0.00      0.00        12\n",
            "        47.0       0.00      0.00      0.00        16\n",
            "        48.0       0.00      0.00      0.00         6\n",
            "        49.0       1.00      1.00      1.00        10\n",
            "        50.0       1.00      0.12      0.22         8\n",
            "        51.0       1.00      1.00      1.00         9\n",
            "        52.0       0.00      0.00      0.00         5\n",
            "        53.0       0.00      0.00      0.00        11\n",
            "        54.0       0.00      0.00      0.00        10\n",
            "        55.0       1.00      1.00      1.00         7\n",
            "        56.0       0.00      0.00      0.00         5\n",
            "        57.0       0.00      0.00      0.00         3\n",
            "        58.0       0.00      0.00      0.00         7\n",
            "        59.0       0.00      0.00      0.00         8\n",
            "        60.0       0.00      0.00      0.00         7\n",
            "        61.0       1.00      0.17      0.29         6\n",
            "        62.0       0.00      0.00      0.00         5\n",
            "        63.0       0.00      0.00      0.00         9\n",
            "        64.0       1.00      1.00      1.00         7\n",
            "        65.0       0.00      0.00      0.00         6\n",
            "        66.0       0.00      0.00      0.00         6\n",
            "        67.0       0.00      0.00      0.00         4\n",
            "        68.0       0.00      0.00      0.00         6\n",
            "        69.0       0.00      0.00      0.00        10\n",
            "        70.0       0.00      0.00      0.00         5\n",
            "        71.0       0.00      0.00      0.00         5\n",
            "        72.0       0.00      0.00      0.00         3\n",
            "        73.0       0.00      0.00      0.00         3\n",
            "        74.0       0.00      0.00      0.00        10\n",
            "        75.0       0.00      0.00      0.00         3\n",
            "        76.0       0.00      0.00      0.00         5\n",
            "        77.0       0.00      0.00      0.00         7\n",
            "        78.0       0.00      0.00      0.00         6\n",
            "        79.0       0.00      0.00      0.00         5\n",
            "        80.0       0.00      0.00      0.00         6\n",
            "        81.0       0.00      0.00      0.00         3\n",
            "        82.0       0.00      0.00      0.00         2\n",
            "\n",
            "    accuracy                           0.70      1500\n",
            "   macro avg       0.48      0.45      0.43      1500\n",
            "weighted avg       0.65      0.70      0.65      1500\n",
            "\n",
            "0.7033333333333334\n"
          ]
        },
        {
          "output_type": "stream",
          "name": "stderr",
          "text": [
            "/usr/local/lib/python3.7/dist-packages/sklearn/metrics/_classification.py:1272: UndefinedMetricWarning: Precision and F-score are ill-defined and being set to 0.0 in labels with no predicted samples. Use `zero_division` parameter to control this behavior.\n",
            "  _warn_prf(average, modifier, msg_start, len(result))\n"
          ]
        }
      ]
    }
  ]
}